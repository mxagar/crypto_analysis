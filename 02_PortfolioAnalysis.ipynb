{
 "cells": [
  {
   "cell_type": "markdown",
   "id": "b793698e-b12d-48cf-9732-845f5517a632",
   "metadata": {},
   "source": [
    "# Portfolio Analysis"
   ]
  },
  {
   "cell_type": "markdown",
   "id": "7ddd7e8d-6d76-4c8a-96c2-1ba23843195d",
   "metadata": {},
   "source": [
    "This is just out from curiosity and just for fun, i.e., **this is not financial advice**."
   ]
  },
  {
   "cell_type": "code",
   "execution_count": null,
   "id": "9854e94a-1ca0-428b-bd01-dba8ffda5d86",
   "metadata": {},
   "outputs": [],
   "source": []
  }
 ],
 "metadata": {
  "kernelspec": {
   "display_name": "Python 3 (ipykernel)",
   "language": "python",
   "name": "python3"
  },
  "language_info": {
   "codemirror_mode": {
    "name": "ipython",
    "version": 3
   },
   "file_extension": ".py",
   "mimetype": "text/x-python",
   "name": "python",
   "nbconvert_exporter": "python",
   "pygments_lexer": "ipython3",
   "version": "3.7.11"
  }
 },
 "nbformat": 4,
 "nbformat_minor": 5
}
