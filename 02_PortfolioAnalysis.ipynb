{
 "cells": [
  {
   "cell_type": "markdown",
   "id": "b793698e-b12d-48cf-9732-845f5517a632",
   "metadata": {},
   "source": [
    "# Portfolio Analysis"
   ]
  },
  {
   "cell_type": "markdown",
   "id": "7ddd7e8d-6d76-4c8a-96c2-1ba23843195d",
   "metadata": {},
   "source": [
    "This is just out of curiosity and just for fun, i.e., **this is not financial advice**."
   ]
  },
  {
   "cell_type": "markdown",
   "id": "569eac7c-b983-4b1d-aca8-b9fe67c4fc8d",
   "metadata": {},
   "source": [
    "In this notebook, I compute a **Markowitz portfolio optimization** for three selected cryptocurrencies: BTC, ETH, XMR.\n",
    "I chose those due to their value proposition, explained in the previous notebook `01_BitcoinAnalysis`:\n",
    "- BTC: alternative open currency\n",
    "- ETH: general blockchain\n",
    "- XMR: alternative private currency\n",
    "\n",
    "The Markowitz portfolio optimization consists in performing a **Monte Carlo Simulation** in the portfolio allocation space (i.e., the ratio assigned to each of the selected assets) to obtain the return and volatility (variance) values of each simulated sample.\n",
    "The best allocation is the one with the highest Sharpe ratio, which is basically the risk adjusted return:\n",
    "\n",
    "$S = \\frac{R_p - R_f}{\\sigma_p}$, where\n",
    "\n",
    "- $R_p$: expected portfolio return\n",
    "- $R_f$: risk-free return: return we would have had if we had put our money in an investment such as savings account, EURIBOR, or treasury bonds that are considered to be risk free. In the EU, the EURIBOR is currently (Dec. 2021) -0.5%, i.e., one bank **pays** a fee of -0.5% when it lends money to another one\n",
    "- $\\sigma_p$: portfolio standard deviation\n",
    "\n",
    "So, the higher $S$ the better, because we'd have high returns with low volatility!\n",
    "\n",
    "Note that William Sharpe (Nobel laureate) originally presented the formula for **yearly returns**: *mean* daily returns and std. dev. of the whole year. However, we deal often with daily, weekly and monthly sampling series, thus the **Anualized Sharpe Ratio** is obtained by multiplying the Sharpe ratio with the following k constant:\n",
    "\n",
    "`ASR = k * S`\n",
    "\n",
    "k = \n",
    "- `sqrt(252)` for daily sampling series (stocks, since traded during working days)\n",
    "- `sqrt(365)` for daily sampling series (cryptos, since traded daily) -- or that's what I understand; however, I am not sure, since we apply that to an average, and 252 seems to be a standardized constant...?\n",
    "- `sqrt(52)` for weekly sampling series\n",
    "- `sqrt(12)` for monthly sampling series\n",
    "\n",
    "This is important when Sharpe Ratios are compared between each other.\n",
    "Typical interpretation of the Annualized Sharpe Ratio (ASR) values:\n",
    "- 1: go-to for investors\n",
    "- 2: very good\n",
    "- 3: excellent\n",
    "\n",
    "Note that I learned most of the concepts used here from José Portilla's videos in [Python for Financial Analysis and Algorithmic Trading](https://www.udemy.com/course/python-for-finance-and-trading-algorithms/) and Robert Shiller's Coursera course [Financial Markets](https://www.coursera.org/learn/financial-markets-global)."
   ]
  },
  {
   "cell_type": "code",
   "execution_count": 89,
   "id": "81253b9d-b5ea-482b-a0e8-659a11e4276c",
   "metadata": {},
   "outputs": [],
   "source": [
    "import numpy as np\n",
    "import pandas as pd\n",
    "import matplotlib.pyplot as plt\n",
    "import datetime as dt"
   ]
  },
  {
   "cell_type": "code",
   "execution_count": 90,
   "id": "1a800b47-746d-49f1-ae6c-0999879ff271",
   "metadata": {},
   "outputs": [],
   "source": [
    "# Load and prepare datasets\n",
    "df_btc = pd.read_csv('data/Gemini_BTCUSD_2015_2021_hourly.csv',header=0)\n",
    "df_btc['Date'] = pd.to_datetime(df_btc['Date'])\n",
    "df_btc.set_index('Date',inplace=True)\n",
    "df_eth = pd.read_csv('data/Bitstamp_ETHUSD_2017_2021_hourly.csv',header=0)\n",
    "df_eth['Date'] = pd.to_datetime(df_eth['Date'])\n",
    "df_eth.set_index('Date',inplace=True)\n",
    "df_xmr = pd.read_csv('data/Binance_XMRUSD_2020_2021_hourly.csv',header=0)\n",
    "df_xmr['Date'] = pd.to_datetime(df_xmr['Date'])\n",
    "df_xmr.set_index('Date',inplace=True)"
   ]
  },
  {
   "cell_type": "code",
   "execution_count": 91,
   "id": "8ccc1be9-ddac-4614-942e-6bbb1768d964",
   "metadata": {},
   "outputs": [
    {
     "data": {
      "text/html": [
       "<div>\n",
       "<style scoped>\n",
       "    .dataframe tbody tr th:only-of-type {\n",
       "        vertical-align: middle;\n",
       "    }\n",
       "\n",
       "    .dataframe tbody tr th {\n",
       "        vertical-align: top;\n",
       "    }\n",
       "\n",
       "    .dataframe thead th {\n",
       "        text-align: right;\n",
       "    }\n",
       "</style>\n",
       "<table border=\"1\" class=\"dataframe\">\n",
       "  <thead>\n",
       "    <tr style=\"text-align: right;\">\n",
       "      <th></th>\n",
       "      <th>Open</th>\n",
       "      <th>High</th>\n",
       "      <th>Low</th>\n",
       "      <th>Close</th>\n",
       "      <th>Volume BTC</th>\n",
       "    </tr>\n",
       "    <tr>\n",
       "      <th>Date</th>\n",
       "      <th></th>\n",
       "      <th></th>\n",
       "      <th></th>\n",
       "      <th></th>\n",
       "      <th></th>\n",
       "    </tr>\n",
       "  </thead>\n",
       "  <tbody>\n",
       "    <tr>\n",
       "      <th>2015-10-08 13:00:00</th>\n",
       "      <td>0.00</td>\n",
       "      <td>245.00</td>\n",
       "      <td>0.00</td>\n",
       "      <td>245.00</td>\n",
       "      <td>0.606654</td>\n",
       "    </tr>\n",
       "    <tr>\n",
       "      <th>2015-10-08 14:00:00</th>\n",
       "      <td>245.00</td>\n",
       "      <td>245.00</td>\n",
       "      <td>244.50</td>\n",
       "      <td>245.00</td>\n",
       "      <td>4.453649</td>\n",
       "    </tr>\n",
       "    <tr>\n",
       "      <th>2015-10-08 15:00:00</th>\n",
       "      <td>245.00</td>\n",
       "      <td>245.00</td>\n",
       "      <td>244.92</td>\n",
       "      <td>244.92</td>\n",
       "      <td>3.016926</td>\n",
       "    </tr>\n",
       "    <tr>\n",
       "      <th>2015-10-08 16:00:00</th>\n",
       "      <td>244.92</td>\n",
       "      <td>244.92</td>\n",
       "      <td>244.25</td>\n",
       "      <td>244.25</td>\n",
       "      <td>3.895252</td>\n",
       "    </tr>\n",
       "    <tr>\n",
       "      <th>2015-10-08 17:00:00</th>\n",
       "      <td>244.25</td>\n",
       "      <td>244.99</td>\n",
       "      <td>244.02</td>\n",
       "      <td>244.99</td>\n",
       "      <td>3.920632</td>\n",
       "    </tr>\n",
       "  </tbody>\n",
       "</table>\n",
       "</div>"
      ],
      "text/plain": [
       "                       Open    High     Low   Close  Volume BTC\n",
       "Date                                                           \n",
       "2015-10-08 13:00:00    0.00  245.00    0.00  245.00    0.606654\n",
       "2015-10-08 14:00:00  245.00  245.00  244.50  245.00    4.453649\n",
       "2015-10-08 15:00:00  245.00  245.00  244.92  244.92    3.016926\n",
       "2015-10-08 16:00:00  244.92  244.92  244.25  244.25    3.895252\n",
       "2015-10-08 17:00:00  244.25  244.99  244.02  244.99    3.920632"
      ]
     },
     "execution_count": 91,
     "metadata": {},
     "output_type": "execute_result"
    }
   ],
   "source": [
    "df_btc.head()"
   ]
  },
  {
   "cell_type": "code",
   "execution_count": 92,
   "id": "7243ff69-bade-4a90-8c3c-46524968993a",
   "metadata": {},
   "outputs": [
    {
     "data": {
      "text/html": [
       "<div>\n",
       "<style scoped>\n",
       "    .dataframe tbody tr th:only-of-type {\n",
       "        vertical-align: middle;\n",
       "    }\n",
       "\n",
       "    .dataframe tbody tr th {\n",
       "        vertical-align: top;\n",
       "    }\n",
       "\n",
       "    .dataframe thead th {\n",
       "        text-align: right;\n",
       "    }\n",
       "</style>\n",
       "<table border=\"1\" class=\"dataframe\">\n",
       "  <thead>\n",
       "    <tr style=\"text-align: right;\">\n",
       "      <th></th>\n",
       "      <th>Open</th>\n",
       "      <th>High</th>\n",
       "      <th>Low</th>\n",
       "      <th>Close</th>\n",
       "      <th>Volume ETH</th>\n",
       "      <th>Volume USD</th>\n",
       "    </tr>\n",
       "    <tr>\n",
       "      <th>Date</th>\n",
       "      <th></th>\n",
       "      <th></th>\n",
       "      <th></th>\n",
       "      <th></th>\n",
       "      <th></th>\n",
       "      <th></th>\n",
       "    </tr>\n",
       "  </thead>\n",
       "  <tbody>\n",
       "    <tr>\n",
       "      <th>2017-08-16 16:00:00</th>\n",
       "      <td>300.0</td>\n",
       "      <td>300.0</td>\n",
       "      <td>300.0</td>\n",
       "      <td>300.0</td>\n",
       "      <td>0.02</td>\n",
       "      <td>6.0</td>\n",
       "    </tr>\n",
       "    <tr>\n",
       "      <th>2017-08-16 17:00:00</th>\n",
       "      <td>300.0</td>\n",
       "      <td>300.0</td>\n",
       "      <td>300.0</td>\n",
       "      <td>300.0</td>\n",
       "      <td>0.00</td>\n",
       "      <td>0.0</td>\n",
       "    </tr>\n",
       "    <tr>\n",
       "      <th>2017-08-16 18:00:00</th>\n",
       "      <td>300.0</td>\n",
       "      <td>300.0</td>\n",
       "      <td>300.0</td>\n",
       "      <td>300.0</td>\n",
       "      <td>0.00</td>\n",
       "      <td>0.0</td>\n",
       "    </tr>\n",
       "    <tr>\n",
       "      <th>2017-08-16 19:00:00</th>\n",
       "      <td>300.0</td>\n",
       "      <td>300.0</td>\n",
       "      <td>300.0</td>\n",
       "      <td>300.0</td>\n",
       "      <td>0.00</td>\n",
       "      <td>0.0</td>\n",
       "    </tr>\n",
       "    <tr>\n",
       "      <th>2017-08-16 20:00:00</th>\n",
       "      <td>300.0</td>\n",
       "      <td>300.0</td>\n",
       "      <td>300.0</td>\n",
       "      <td>300.0</td>\n",
       "      <td>0.00</td>\n",
       "      <td>0.0</td>\n",
       "    </tr>\n",
       "  </tbody>\n",
       "</table>\n",
       "</div>"
      ],
      "text/plain": [
       "                      Open   High    Low  Close  Volume ETH  Volume USD\n",
       "Date                                                                   \n",
       "2017-08-16 16:00:00  300.0  300.0  300.0  300.0        0.02         6.0\n",
       "2017-08-16 17:00:00  300.0  300.0  300.0  300.0        0.00         0.0\n",
       "2017-08-16 18:00:00  300.0  300.0  300.0  300.0        0.00         0.0\n",
       "2017-08-16 19:00:00  300.0  300.0  300.0  300.0        0.00         0.0\n",
       "2017-08-16 20:00:00  300.0  300.0  300.0  300.0        0.00         0.0"
      ]
     },
     "execution_count": 92,
     "metadata": {},
     "output_type": "execute_result"
    }
   ],
   "source": [
    "df_eth.head()"
   ]
  },
  {
   "cell_type": "code",
   "execution_count": 93,
   "id": "2cc86b44-3772-48e6-9c10-db10c50103b4",
   "metadata": {},
   "outputs": [
    {
     "data": {
      "text/html": [
       "<div>\n",
       "<style scoped>\n",
       "    .dataframe tbody tr th:only-of-type {\n",
       "        vertical-align: middle;\n",
       "    }\n",
       "\n",
       "    .dataframe tbody tr th {\n",
       "        vertical-align: top;\n",
       "    }\n",
       "\n",
       "    .dataframe thead th {\n",
       "        text-align: right;\n",
       "    }\n",
       "</style>\n",
       "<table border=\"1\" class=\"dataframe\">\n",
       "  <thead>\n",
       "    <tr style=\"text-align: right;\">\n",
       "      <th></th>\n",
       "      <th>Open</th>\n",
       "      <th>High</th>\n",
       "      <th>Low</th>\n",
       "      <th>Close</th>\n",
       "      <th>Volume XMR</th>\n",
       "      <th>Volume USDT</th>\n",
       "    </tr>\n",
       "    <tr>\n",
       "      <th>Date</th>\n",
       "      <th></th>\n",
       "      <th></th>\n",
       "      <th></th>\n",
       "      <th></th>\n",
       "      <th></th>\n",
       "      <th></th>\n",
       "    </tr>\n",
       "  </thead>\n",
       "  <tbody>\n",
       "    <tr>\n",
       "      <th>2020-02-03 08:00:00</th>\n",
       "      <td>75.81</td>\n",
       "      <td>77.21</td>\n",
       "      <td>75.70</td>\n",
       "      <td>76.66</td>\n",
       "      <td>9094.826</td>\n",
       "      <td>6.973109e+05</td>\n",
       "    </tr>\n",
       "    <tr>\n",
       "      <th>2020-02-03 09:00:00</th>\n",
       "      <td>76.66</td>\n",
       "      <td>76.74</td>\n",
       "      <td>75.98</td>\n",
       "      <td>76.12</td>\n",
       "      <td>10198.387</td>\n",
       "      <td>7.793740e+05</td>\n",
       "    </tr>\n",
       "    <tr>\n",
       "      <th>2020-02-03 10:00:00</th>\n",
       "      <td>76.12</td>\n",
       "      <td>76.60</td>\n",
       "      <td>75.92</td>\n",
       "      <td>76.50</td>\n",
       "      <td>14820.044</td>\n",
       "      <td>1.128870e+06</td>\n",
       "    </tr>\n",
       "    <tr>\n",
       "      <th>2020-02-03 11:00:00</th>\n",
       "      <td>76.50</td>\n",
       "      <td>78.27</td>\n",
       "      <td>76.33</td>\n",
       "      <td>77.44</td>\n",
       "      <td>18219.038</td>\n",
       "      <td>1.409690e+06</td>\n",
       "    </tr>\n",
       "    <tr>\n",
       "      <th>2020-02-03 12:00:00</th>\n",
       "      <td>77.44</td>\n",
       "      <td>77.99</td>\n",
       "      <td>77.35</td>\n",
       "      <td>77.39</td>\n",
       "      <td>13923.253</td>\n",
       "      <td>1.081595e+06</td>\n",
       "    </tr>\n",
       "  </tbody>\n",
       "</table>\n",
       "</div>"
      ],
      "text/plain": [
       "                      Open   High    Low  Close  Volume XMR   Volume USDT\n",
       "Date                                                                     \n",
       "2020-02-03 08:00:00  75.81  77.21  75.70  76.66    9094.826  6.973109e+05\n",
       "2020-02-03 09:00:00  76.66  76.74  75.98  76.12   10198.387  7.793740e+05\n",
       "2020-02-03 10:00:00  76.12  76.60  75.92  76.50   14820.044  1.128870e+06\n",
       "2020-02-03 11:00:00  76.50  78.27  76.33  77.44   18219.038  1.409690e+06\n",
       "2020-02-03 12:00:00  77.44  77.99  77.35  77.39   13923.253  1.081595e+06"
      ]
     },
     "execution_count": 93,
     "metadata": {},
     "output_type": "execute_result"
    }
   ],
   "source": [
    "df_xmr.head()"
   ]
  },
  {
   "cell_type": "code",
   "execution_count": 123,
   "id": "f5c03b0d-00f5-4957-8031-c39ce893f82a",
   "metadata": {},
   "outputs": [],
   "source": [
    "# Compute maximum possible rane in the data we have\n",
    "date_start = max(df_btc.index[0], df_eth.index[0], df_xmr.index[0])\n",
    "date_end = min(df_btc.index[-1], df_eth.index[-1], df_xmr.index[-1])"
   ]
  },
  {
   "cell_type": "code",
   "execution_count": 124,
   "id": "2065346d-8a15-40fd-8096-91d947bdbb5a",
   "metadata": {},
   "outputs": [],
   "source": [
    "# Take daily close values\n",
    "df = pd.DataFrame()\n",
    "df[\"BTC\"] = df_btc[\"Close\"].resample(rule='D').last().loc[date_start:date_end]\n",
    "df[\"ETH\"] = df_eth[\"Close\"].resample(rule='D').last().loc[date_start:date_end]\n",
    "df[\"XMR\"] = df_xmr[\"Close\"].resample(rule='D').last().loc[date_start:date_end]"
   ]
  },
  {
   "cell_type": "code",
   "execution_count": 125,
   "id": "fc514fee-d2d7-4b72-9e44-f4af0b731a8f",
   "metadata": {},
   "outputs": [
    {
     "data": {
      "text/html": [
       "<div>\n",
       "<style scoped>\n",
       "    .dataframe tbody tr th:only-of-type {\n",
       "        vertical-align: middle;\n",
       "    }\n",
       "\n",
       "    .dataframe tbody tr th {\n",
       "        vertical-align: top;\n",
       "    }\n",
       "\n",
       "    .dataframe thead th {\n",
       "        text-align: right;\n",
       "    }\n",
       "</style>\n",
       "<table border=\"1\" class=\"dataframe\">\n",
       "  <thead>\n",
       "    <tr style=\"text-align: right;\">\n",
       "      <th></th>\n",
       "      <th>BTC</th>\n",
       "      <th>ETH</th>\n",
       "      <th>XMR</th>\n",
       "    </tr>\n",
       "    <tr>\n",
       "      <th>Date</th>\n",
       "      <th></th>\n",
       "      <th></th>\n",
       "      <th></th>\n",
       "    </tr>\n",
       "  </thead>\n",
       "  <tbody>\n",
       "    <tr>\n",
       "      <th>2020-02-04</th>\n",
       "      <td>9167.01</td>\n",
       "      <td>188.15</td>\n",
       "      <td>75.27</td>\n",
       "    </tr>\n",
       "    <tr>\n",
       "      <th>2020-02-05</th>\n",
       "      <td>9615.04</td>\n",
       "      <td>203.54</td>\n",
       "      <td>77.87</td>\n",
       "    </tr>\n",
       "    <tr>\n",
       "      <th>2020-02-06</th>\n",
       "      <td>9635.73</td>\n",
       "      <td>213.09</td>\n",
       "      <td>78.39</td>\n",
       "    </tr>\n",
       "    <tr>\n",
       "      <th>2020-02-07</th>\n",
       "      <td>9816.97</td>\n",
       "      <td>223.43</td>\n",
       "      <td>79.63</td>\n",
       "    </tr>\n",
       "    <tr>\n",
       "      <th>2020-02-08</th>\n",
       "      <td>9912.53</td>\n",
       "      <td>223.20</td>\n",
       "      <td>80.77</td>\n",
       "    </tr>\n",
       "  </tbody>\n",
       "</table>\n",
       "</div>"
      ],
      "text/plain": [
       "                BTC     ETH    XMR\n",
       "Date                              \n",
       "2020-02-04  9167.01  188.15  75.27\n",
       "2020-02-05  9615.04  203.54  77.87\n",
       "2020-02-06  9635.73  213.09  78.39\n",
       "2020-02-07  9816.97  223.43  79.63\n",
       "2020-02-08  9912.53  223.20  80.77"
      ]
     },
     "execution_count": 125,
     "metadata": {},
     "output_type": "execute_result"
    }
   ],
   "source": [
    "df.head()"
   ]
  },
  {
   "cell_type": "code",
   "execution_count": 126,
   "id": "0a96c63f-f93c-4f6e-a220-e172cf5950ed",
   "metadata": {},
   "outputs": [
    {
     "name": "stdout",
     "output_type": "stream",
     "text": [
      "645\n",
      "BTC    0.004011\n",
      "ETH    0.006642\n",
      "XMR    0.003786\n",
      "dtype: float64\n"
     ]
    }
   ],
   "source": [
    "# Get number of datapoints\n",
    "num_datapoints = df.shape[0]\n",
    "print(num_datapoints)\n",
    "print(df.pct_change(1).mean())"
   ]
  },
  {
   "cell_type": "code",
   "execution_count": 127,
   "id": "684b970c-0dcc-4b79-867e-8b4a3c07d51e",
   "metadata": {},
   "outputs": [
    {
     "data": {
      "text/html": [
       "<div>\n",
       "<style scoped>\n",
       "    .dataframe tbody tr th:only-of-type {\n",
       "        vertical-align: middle;\n",
       "    }\n",
       "\n",
       "    .dataframe tbody tr th {\n",
       "        vertical-align: top;\n",
       "    }\n",
       "\n",
       "    .dataframe thead th {\n",
       "        text-align: right;\n",
       "    }\n",
       "</style>\n",
       "<table border=\"1\" class=\"dataframe\">\n",
       "  <thead>\n",
       "    <tr style=\"text-align: right;\">\n",
       "      <th></th>\n",
       "      <th>BTC</th>\n",
       "      <th>ETH</th>\n",
       "      <th>XMR</th>\n",
       "    </tr>\n",
       "  </thead>\n",
       "  <tbody>\n",
       "    <tr>\n",
       "      <th>BTC</th>\n",
       "      <td>1.000000</td>\n",
       "      <td>0.774262</td>\n",
       "      <td>0.707028</td>\n",
       "    </tr>\n",
       "    <tr>\n",
       "      <th>ETH</th>\n",
       "      <td>0.774262</td>\n",
       "      <td>1.000000</td>\n",
       "      <td>0.677451</td>\n",
       "    </tr>\n",
       "    <tr>\n",
       "      <th>XMR</th>\n",
       "      <td>0.707028</td>\n",
       "      <td>0.677451</td>\n",
       "      <td>1.000000</td>\n",
       "    </tr>\n",
       "  </tbody>\n",
       "</table>\n",
       "</div>"
      ],
      "text/plain": [
       "          BTC       ETH       XMR\n",
       "BTC  1.000000  0.774262  0.707028\n",
       "ETH  0.774262  1.000000  0.677451\n",
       "XMR  0.707028  0.677451  1.000000"
      ]
     },
     "execution_count": 127,
     "metadata": {},
     "output_type": "execute_result"
    }
   ],
   "source": [
    "# Compute the correlation of the returns\n",
    "# It should be low...\n",
    "df.pct_change(1).corr()"
   ]
  },
  {
   "cell_type": "code",
   "execution_count": 128,
   "id": "81741d05-8185-460a-858d-848160bdd0ca",
   "metadata": {},
   "outputs": [
    {
     "data": {
      "text/plain": [
       "Timestamp('2020-02-03 08:00:00')"
      ]
     },
     "execution_count": 128,
     "metadata": {},
     "output_type": "execute_result"
    }
   ],
   "source": [
    "date_start"
   ]
  },
  {
   "cell_type": "code",
   "execution_count": 129,
   "id": "c5af0781-cb4a-44f4-babc-ceb0977b41a4",
   "metadata": {},
   "outputs": [
    {
     "data": {
      "text/plain": [
       "Timestamp('2021-11-09 07:00:00')"
      ]
     },
     "execution_count": 129,
     "metadata": {},
     "output_type": "execute_result"
    }
   ],
   "source": [
    "date_end"
   ]
  },
  {
   "cell_type": "code",
   "execution_count": 130,
   "id": "b23973ea-9d65-4395-8352-11b993144010",
   "metadata": {},
   "outputs": [],
   "source": [
    "# Since the Sharpe Ratio interpretation seems to be standardized to one year,\n",
    "# it makes sense to reduce the analysis period to one year\n",
    "#start = df.index[0]\n",
    "start = dt.datetime(2020,10,1)\n",
    "end = start + dt.timedelta(days=365-1)\n",
    "df = df.loc[start:end]"
   ]
  },
  {
   "cell_type": "code",
   "execution_count": 131,
   "id": "cfd8df28-022e-40b9-a630-1bc5c40a6b09",
   "metadata": {},
   "outputs": [
    {
     "name": "stdout",
     "output_type": "stream",
     "text": [
      "365\n",
      "BTC    0.004775\n",
      "ETH    0.007461\n",
      "XMR    0.004426\n",
      "dtype: float64\n"
     ]
    }
   ],
   "source": [
    "num_datapoints = df.shape[0]\n",
    "print(num_datapoints)\n",
    "print(df.pct_change(1).mean())"
   ]
  },
  {
   "cell_type": "markdown",
   "id": "7ec75478-f68c-4d13-9d6e-54d5808bf264",
   "metadata": {},
   "source": [
    "**Logarithmic vs arithmetic returns**: `pct_change(1)` gives the arithmetic return, which is often used. However, it is also common to use logarithmic returns to have normalized time series. I use here the logarithmic version."
   ]
  },
  {
   "cell_type": "code",
   "execution_count": 132,
   "id": "e3befbba-8e2c-494a-8225-6bd9b51d1967",
   "metadata": {},
   "outputs": [],
   "source": [
    "# Logarithmic returns\n",
    "ret = np.log(df/df.shift(1))"
   ]
  },
  {
   "cell_type": "code",
   "execution_count": 133,
   "id": "8fef5068-7b0a-4845-9318-2cdd5c3e3783",
   "metadata": {},
   "outputs": [
    {
     "data": {
      "text/html": [
       "<div>\n",
       "<style scoped>\n",
       "    .dataframe tbody tr th:only-of-type {\n",
       "        vertical-align: middle;\n",
       "    }\n",
       "\n",
       "    .dataframe tbody tr th {\n",
       "        vertical-align: top;\n",
       "    }\n",
       "\n",
       "    .dataframe thead th {\n",
       "        text-align: right;\n",
       "    }\n",
       "</style>\n",
       "<table border=\"1\" class=\"dataframe\">\n",
       "  <thead>\n",
       "    <tr style=\"text-align: right;\">\n",
       "      <th></th>\n",
       "      <th>BTC</th>\n",
       "      <th>ETH</th>\n",
       "      <th>XMR</th>\n",
       "    </tr>\n",
       "  </thead>\n",
       "  <tbody>\n",
       "    <tr>\n",
       "      <th>BTC</th>\n",
       "      <td>1.000000</td>\n",
       "      <td>0.764775</td>\n",
       "      <td>0.665666</td>\n",
       "    </tr>\n",
       "    <tr>\n",
       "      <th>ETH</th>\n",
       "      <td>0.764775</td>\n",
       "      <td>1.000000</td>\n",
       "      <td>0.655291</td>\n",
       "    </tr>\n",
       "    <tr>\n",
       "      <th>XMR</th>\n",
       "      <td>0.665666</td>\n",
       "      <td>0.655291</td>\n",
       "      <td>1.000000</td>\n",
       "    </tr>\n",
       "  </tbody>\n",
       "</table>\n",
       "</div>"
      ],
      "text/plain": [
       "          BTC       ETH       XMR\n",
       "BTC  1.000000  0.764775  0.665666\n",
       "ETH  0.764775  1.000000  0.655291\n",
       "XMR  0.665666  0.655291  1.000000"
      ]
     },
     "execution_count": 133,
     "metadata": {},
     "output_type": "execute_result"
    }
   ],
   "source": [
    "ret.corr()"
   ]
  },
  {
   "cell_type": "code",
   "execution_count": 134,
   "id": "3c93747a-bd2a-482a-9ada-2ad671a05e93",
   "metadata": {},
   "outputs": [
    {
     "data": {
      "image/png": "[encoded data removed]",
      "text/plain": [
       "<Figure size 864x576 with 4 Axes>"
      ]
     },
     "metadata": {
      "needs_background": "light"
     },
     "output_type": "display_data"
    }
   ],
   "source": [
    "# Plot histograms of log returns\n",
    "ret.hist(bins=100,figsize=(12,8))\n",
    "plt.tight_layout()"
   ]
  },
  {
   "cell_type": "code",
   "execution_count": 135,
   "id": "835b9d22-1e05-4e15-ad02-117d4b6c81e0",
   "metadata": {},
   "outputs": [
    {
     "data": {
      "text/plain": [
       "BTC    0.003892\n",
       "ETH    0.005944\n",
       "XMR    0.002629\n",
       "dtype: float64"
      ]
     },
     "execution_count": 135,
     "metadata": {},
     "output_type": "execute_result"
    }
   ],
   "source": [
    "# Arithmetic mean of log returns\n",
    "ret.mean()"
   ]
  },
  {
   "cell_type": "code",
   "execution_count": 136,
   "id": "841b3edf-7860-43db-a831-b67bd0930988",
   "metadata": {},
   "outputs": [
    {
     "data": {
      "text/html": [
       "<div>\n",
       "<style scoped>\n",
       "    .dataframe tbody tr th:only-of-type {\n",
       "        vertical-align: middle;\n",
       "    }\n",
       "\n",
       "    .dataframe tbody tr th {\n",
       "        vertical-align: top;\n",
       "    }\n",
       "\n",
       "    .dataframe thead th {\n",
       "        text-align: right;\n",
       "    }\n",
       "</style>\n",
       "<table border=\"1\" class=\"dataframe\">\n",
       "  <thead>\n",
       "    <tr style=\"text-align: right;\">\n",
       "      <th></th>\n",
       "      <th>BTC</th>\n",
       "      <th>ETH</th>\n",
       "      <th>XMR</th>\n",
       "    </tr>\n",
       "  </thead>\n",
       "  <tbody>\n",
       "    <tr>\n",
       "      <th>BTC</th>\n",
       "      <td>0.001749</td>\n",
       "      <td>0.001856</td>\n",
       "      <td>0.001776</td>\n",
       "    </tr>\n",
       "    <tr>\n",
       "      <th>ETH</th>\n",
       "      <td>0.001856</td>\n",
       "      <td>0.003339</td>\n",
       "      <td>0.002473</td>\n",
       "    </tr>\n",
       "    <tr>\n",
       "      <th>XMR</th>\n",
       "      <td>0.001776</td>\n",
       "      <td>0.002473</td>\n",
       "      <td>0.004099</td>\n",
       "    </tr>\n",
       "  </tbody>\n",
       "</table>\n",
       "</div>"
      ],
      "text/plain": [
       "          BTC       ETH       XMR\n",
       "BTC  0.001749  0.001856  0.001776\n",
       "ETH  0.001856  0.003339  0.002473\n",
       "XMR  0.001776  0.002473  0.004099"
      ]
     },
     "execution_count": 136,
     "metadata": {},
     "output_type": "execute_result"
    }
   ],
   "source": [
    "# Covariance\n",
    "ret.cov()"
   ]
  },
  {
   "cell_type": "markdown",
   "id": "14171c38-03f3-4ee9-bc6e-06fa7745dc0b",
   "metadata": {},
   "source": [
    "### Single Random Portfolio Test"
   ]
  },
  {
   "cell_type": "code",
   "execution_count": 137,
   "id": "db3e404e-e56d-42a1-b8d4-33ac2a37f3ff",
   "metadata": {},
   "outputs": [
    {
     "name": "stdout",
     "output_type": "stream",
     "text": [
      "Index(['BTC', 'ETH', 'XMR'], dtype='object')\n",
      "[0.3795692  0.31810662 0.30232419]\n"
     ]
    }
   ],
   "source": [
    "# Random weights = allocation ratios\n",
    "np.random.seed(73)\n",
    "weights = np.array(np.random.random(3))\n",
    "weights /= weights.sum()\n",
    "print(df.columns)\n",
    "print(weights)"
   ]
  },
  {
   "cell_type": "markdown",
   "id": "2507d5cc-0c1d-40b5-baa9-a603e777488e",
   "metadata": {},
   "source": [
    "Now, the portfolio gain and its Sharpe ratio are computed.\n",
    "For computing the volatility, the **covariance matrix** should be used;\n",
    "that way, the cross-variances are also taken into account.\n",
    "Additionally, note that we take them **mean** of the returns;\n",
    "if we want to align the computation with the standard annualized Sharpe ratio, we need to multiply it by the corresponding factor that yields a year.\n",
    "Traditionally, that would be `k = 252`; in crypto, is that `k = 365`?"
   ]
  },
  {
   "cell_type": "markdown",
   "id": "f5e2bec8-c1ce-4d7e-9646-8ee43c7267bd",
   "metadata": {},
   "source": [
    "Another issue is the risk free interest:\n",
    "\n",
    "Linear: $r = \\frac{p_1}{p_0} - 1$\n",
    "\n",
    "Logarithmic: $\\rho = ln(\\frac{p_1}{p_0}) = ln(r + 1)$"
   ]
  },
  {
   "cell_type": "code",
   "execution_count": 138,
   "id": "d8fab0ae-22ce-4975-a589-e9605b478159",
   "metadata": {},
   "outputs": [],
   "source": [
    "#k = 252\n",
    "#k = 365\n",
    "k = num_datapoints"
   ]
  },
  {
   "cell_type": "code",
   "execution_count": 139,
   "id": "d94c822a-b307-4efd-a61f-b3db2551a80e",
   "metadata": {},
   "outputs": [
    {
     "name": "stdout",
     "output_type": "stream",
     "text": [
      "1.6652463058693996\n"
     ]
    }
   ],
   "source": [
    "# Expected portfolio return\n",
    "expected_ret = np.sum((ret.mean()*weights)*k)\n",
    "# Expected volatility: sqrt(w*C*w)\n",
    "expected_vol = np.sqrt(np.dot(weights.T,np.dot(ret.cov()*k,weights)))\n",
    "# Sharpe Ratio\n",
    "#RF = 0.0\n",
    "#RF = -0.005\n",
    "RF = np.log(-0.005 + 1) \n",
    "SR = (expected_ret-RF) / expected_vol\n",
    "print(SR)"
   ]
  },
  {
   "cell_type": "markdown",
   "id": "83c09dae-47a8-483f-ac11-e89b600ecade",
   "metadata": {},
   "source": [
    "### Markowitz Portofolio Optimization: Monte Carlo Simulation"
   ]
  },
  {
   "cell_type": "code",
   "execution_count": 140,
   "id": "b399b9c1-1588-414c-989a-1c1862869248",
   "metadata": {},
   "outputs": [],
   "source": [
    "# We run the previous code in a for loop N times\n",
    "num_portfolios = 5000\n",
    "#RF = 0.0\n",
    "#RF = -0.005\n",
    "RF = np.log(-0.005 + 1)\n",
    "weights_array = np.zeros((num_portfolios,len(df.columns)))\n",
    "ret_array = np.zeros(num_portfolios)\n",
    "vol_array = np.zeros(num_portfolios)\n",
    "sharpe_array = np.zeros(num_portfolios)\n",
    "for i in range(num_portfolios):\n",
    "    # Weights\n",
    "    weights = np.array(np.random.random(len(df.columns)))\n",
    "    weights /= weights.sum()\n",
    "    weights_array[i,:] = weights\n",
    "    # Expected return (annual)\n",
    "    ret_array[i] = np.sum((log_ret.mean()*weights)*k)\n",
    "    # Expected volatility (annual)\n",
    "    vol_array[i] = np.sqrt(np.dot(weights.T,np.dot(log_ret.cov()*k,weights)))\n",
    "    # Sharpe ratio: adjusted risk\n",
    "    sharpe_array[i] = (ret_array[i]-RF) / vol_array[i]"
   ]
  },
  {
   "cell_type": "code",
   "execution_count": 141,
   "id": "ab24fbac-8fab-4b59-b308-95d6453d3b1a",
   "metadata": {},
   "outputs": [
    {
     "data": {
      "text/plain": [
       "1.8365729851286594"
      ]
     },
     "execution_count": 141,
     "metadata": {},
     "output_type": "execute_result"
    }
   ],
   "source": [
    "# Maximum Sharpe Ratio in our simulation\n",
    "# It is 1.03: ok, but not really good\n",
    "sharpe_array.max()"
   ]
  },
  {
   "cell_type": "code",
   "execution_count": 142,
   "id": "9542f4b7-9979-4b43-ad30-f07e544be376",
   "metadata": {},
   "outputs": [
    {
     "data": {
      "text/plain": [
       "array([0.10020937, 0.89584941, 0.00394121])"
      ]
     },
     "execution_count": 142,
     "metadata": {},
     "output_type": "execute_result"
    }
   ],
   "source": [
    "# Weights/Allocation ratios of maxium SR\n",
    "# We see the optimum allocation we would require\n",
    "weights_array[sharpe_array.argmax()]"
   ]
  },
  {
   "cell_type": "code",
   "execution_count": 143,
   "id": "f22ca954-7aa9-40b4-bd8b-4072c78d3674",
   "metadata": {},
   "outputs": [
    {
     "data": {
      "text/plain": [
       "Text(0, 0.5, 'Return')"
      ]
     },
     "execution_count": 143,
     "metadata": {},
     "output_type": "execute_result"
    },
    {
     "data": {
      "image/png": "[encoded data removed]",
      "text/plain": [
       "<Figure size 864x576 with 2 Axes>"
      ]
     },
     "metadata": {
      "needs_background": "light"
     },
     "output_type": "display_data"
    }
   ],
   "source": [
    "# Plot results\n",
    "# The maximum point is a tangent point of the efficient frontier\n",
    "# The efficient frontier is the set of points that lead to\n",
    "# maximum returns for a given volatility\n",
    "# If we move right: we have the same returns for higher volatility\n",
    "# If we move down: we have less returns for the same volatility\n",
    "# In general, we want the highest returns possible for the lowest volatility\n",
    "plt.figure(figsize=(12,8))\n",
    "# All points\n",
    "plt.scatter(vol_array,ret_array,c=sharpe_array,cmap='plasma')\n",
    "# Max SR point\n",
    "plt.scatter(vol_array[sharpe_array.argmax()],ret_array[sharpe_array.argmax()],c='red',s=50,edgecolors='black')\n",
    "plt.colorbar(label='Sharpe ratio')\n",
    "plt.xlabel('Volatility')\n",
    "plt.ylabel('Return')"
   ]
  },
  {
   "cell_type": "code",
   "execution_count": null,
   "id": "1e5b41d6-3705-4cc8-acea-5c0b950d31b0",
   "metadata": {},
   "outputs": [],
   "source": []
  }
 ],
 "metadata": {
  "kernelspec": {
   "display_name": "Python 3 (ipykernel)",
   "language": "python",
   "name": "python3"
  },
  "language_info": {
   "codemirror_mode": {
    "name": "ipython",
    "version": 3
   },
   "file_extension": ".py",
   "mimetype": "text/x-python",
   "name": "python",
   "nbconvert_exporter": "python",
   "pygments_lexer": "ipython3",
   "version": "3.7.11"
  }
 },
 "nbformat": 4,
 "nbformat_minor": 5
}
