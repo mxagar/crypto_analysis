{
 "cells": [
  {
   "cell_type": "markdown",
   "id": "b793698e-b12d-48cf-9732-845f5517a632",
   "metadata": {},
   "source": [
    "# Portfolio Analysis"
   ]
  },
  {
   "cell_type": "markdown",
   "id": "7ddd7e8d-6d76-4c8a-96c2-1ba23843195d",
   "metadata": {},
   "source": [
    "This is just out of curiosity and just for fun, i.e., **this is not financial advice**."
   ]
  },
  {
   "cell_type": "markdown",
   "id": "569eac7c-b983-4b1d-aca8-b9fe67c4fc8d",
   "metadata": {},
   "source": [
    "In this notebook, I compute a **Markowitz portfolio optimization** for three selected cryptocurrencies: BTC, ETH, XMR.\n",
    "I chose those due to their value proposition, explained in the previous notebook `01_BitcoinAnalysis`:\n",
    "- BTC: alternative open currency\n",
    "- ETH: general blockchain\n",
    "- XMR: alternative private currency\n",
    "\n",
    "The Markowitz portfolio optimization consists in performing a **Monte Carlo Simulation** in the portfolio allocation space (i.e., the ratio assigned to each of the selected assets) to obtain the return and volatility (variance) values of each simulated sample.\n",
    "The best allocation is the one with the highest Sharpe ratio, which is basically the risk adjusted return:\n",
    "\n",
    "$S = \\frac{R_p - R_f}{\\sigma_p}$, where\n",
    "\n",
    "- $R_p$: expected portfolio return\n",
    "- $R_f$: risk-free return: return we would have had if we had put our money in an investment such as savings account, EURIBOR, or treasury bonds that are considered to be risk free. In the EU, the EURIBOR is currently (Dec. 2021) -0.5%, i.e., one bank **pays** a fee of -0.5% when it lends money to another one\n",
    "- $\\sigma_p$: portfolio standard deviation\n",
    "\n",
    "So, the higher $S$ the better, because we'd have high returns with low volatility!\n",
    "\n",
    "Note that William Sharpe (Nobel laureate) originally presented the formula for **yearly returns**: *mean* daily returns and std. dev. of the whole year. However, we deal often with daily, weekly and monthly sampling series, thus the **Anualized Sharpe Ratio** is obtained by multiplying the Sharpe ratio with the following k constant:\n",
    "\n",
    "`ASR = k * S`\n",
    "\n",
    "k = \n",
    "- `sqrt(252)` for daily sampling series (stocks, since traded during working days)\n",
    "- `sqrt(365)` for daily sampling series (cryptos, since traded daily) -- or that's what I understand\n",
    "- `sqrt(52)` for weekly sampling series\n",
    "- `sqrt(12)` for monthly sampling series\n",
    "\n",
    "Typical interpretation of the Annualized Sharpe Ratio (ASR) values:\n",
    "- 1: go-to for investors\n",
    "- 2: very good\n",
    "- 3: excellent\n",
    "\n",
    "Note that I learned most of the concepts used here from José Portilla's videos in [Python for Financial Analysis and Algorithmic Trading](https://www.udemy.com/course/python-for-finance-and-trading-algorithms/) and Robert Shiller's Coursera course [Financial Markets](https://www.coursera.org/learn/financial-markets-global)."
   ]
  },
  {
   "cell_type": "code",
   "execution_count": null,
   "id": "1a800b47-746d-49f1-ae6c-0999879ff271",
   "metadata": {},
   "outputs": [],
   "source": []
  }
 ],
 "metadata": {
  "kernelspec": {
   "display_name": "Python 3 (ipykernel)",
   "language": "python",
   "name": "python3"
  },
  "language_info": {
   "codemirror_mode": {
    "name": "ipython",
    "version": 3
   },
   "file_extension": ".py",
   "mimetype": "text/x-python",
   "name": "python",
   "nbconvert_exporter": "python",
   "pygments_lexer": "ipython3",
   "version": "3.7.11"
  }
 },
 "nbformat": 4,
 "nbformat_minor": 5
}
