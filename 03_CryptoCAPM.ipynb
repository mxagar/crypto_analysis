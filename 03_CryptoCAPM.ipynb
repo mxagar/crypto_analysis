{
 "cells": [
  {
   "cell_type": "markdown",
   "id": "408bebbe-a7a5-45ec-8524-52783aecac58",
   "metadata": {},
   "source": [
    "# Capital Assets Pricing Model (CAPM) with Cryptocurrencies"
   ]
  },
  {
   "cell_type": "markdown",
   "id": "75c597d1-c840-4cb9-ade9-c2d4eb7c9f3b",
   "metadata": {},
   "source": [
    "This is just out of curiosity and just for fun, i.e., **this is not financial advice**."
   ]
  },
  {
   "cell_type": "markdown",
   "id": "f6100ac0-4196-4a54-9009-f42b79111ec8",
   "metadata": {},
   "source": [
    "Note that I learned most of the concepts used here from José Portilla's videos in [Python for Financial Analysis and Algorithmic Trading](https://www.udemy.com/course/python-for-finance-and-trading-algorithms/) and Robert Shiller's Coursera course [Financial Markets](https://www.coursera.org/learn/financial-markets-global)."
   ]
  },
  {
   "cell_type": "markdown",
   "id": "449f8bbd-2b55-4db8-ac2e-0363796556be",
   "metadata": {},
   "source": [
    "### CAPM in a nutshell\n",
    "\n",
    "The return or our portfolio $r_p$ is the weighted sum of the returns of each asset in it $r_i$:\n",
    "\n",
    "$r_p(t) = \\sum_{i}^{n} w_i r_i(t)$\n",
    "\n",
    "The return of each asset $r_i$ can be modelled as a linear regression of its value vs the market return $r_m$:\n",
    "\n",
    "$r_i(t) = \\beta_i r_m(t) + \\alpha_i$\n",
    "\n",
    "Then, the return of our portfolio is also modelled as a multivariate linear regression:\n",
    "\n",
    "$r_p(t) = \\sum_{i}^{n} \\beta_i r_m(t) + \\sum_{i}^{n} w_i \\alpha_i = \\beta_p r_m(t) + \\sum_{i}^{n} w_i \\alpha_i$\n",
    "\n",
    "Here, the key values are $\\alpha$ and $\\beta$:\n",
    "- `beta` is the multiplication/scaling of the market return in our stock; low values indicate lower returns and lower risk (in general, low `betas` are preferable)\n",
    "- `alpha` is the intercept, i.e., the gains independent from the market behavior. **CAMPM states that `alpha` is random, cannot be predicted and should tend to ZERO; however, commonly that is not followed, instead, investors try to find assets with a high `alpha`! That is what hedge funds do, and apparently it works for them.**\n",
    "\n",
    "### Hedging\n",
    "\n",
    "Finding higher `alpha` values means hedging against volatility: the assets with higher returns (with higher risks) are traded off for assets that will yield higher average returns with probably less jumps.\n",
    "\n",
    "Summary of ways of hedging against risk:\n",
    "- Assets with high `alpha` and low `beta`\n",
    "- A diversified portfolio"
   ]
  },
  {
   "cell_type": "code",
   "execution_count": null,
   "id": "a2bafa44-c211-42b5-9e2a-e4700b010f5c",
   "metadata": {},
   "outputs": [],
   "source": []
  }
 ],
 "metadata": {
  "kernelspec": {
   "display_name": "Python 3 (ipykernel)",
   "language": "python",
   "name": "python3"
  },
  "language_info": {
   "codemirror_mode": {
    "name": "ipython",
    "version": 3
   },
   "file_extension": ".py",
   "mimetype": "text/x-python",
   "name": "python",
   "nbconvert_exporter": "python",
   "pygments_lexer": "ipython3",
   "version": "3.7.11"
  }
 },
 "nbformat": 4,
 "nbformat_minor": 5
}
