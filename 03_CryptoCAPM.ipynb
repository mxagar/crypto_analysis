{
 "cells": [
  {
   "cell_type": "markdown",
   "id": "408bebbe-a7a5-45ec-8524-52783aecac58",
   "metadata": {},
   "source": [
    "# Capital Assets Pricing Model (CAPM) with Cryptocurrencies"
   ]
  },
  {
   "cell_type": "markdown",
   "id": "75c597d1-c840-4cb9-ade9-c2d4eb7c9f3b",
   "metadata": {},
   "source": [
    "This is just out of curiosity and just for fun, i.e., **this is not financial advice**."
   ]
  },
  {
   "cell_type": "markdown",
   "id": "f6100ac0-4196-4a54-9009-f42b79111ec8",
   "metadata": {},
   "source": [
    "Note that I learned most of the concepts used here from José Portilla's videos in [Python for Financial Analysis and Algorithmic Trading](https://www.udemy.com/course/python-for-finance-and-trading-algorithms/) and Robert Shiller's Coursera course [Financial Markets](https://www.coursera.org/learn/financial-markets-global)."
   ]
  },
  {
   "cell_type": "code",
   "execution_count": null,
   "id": "0dce1a23-4680-4bdf-96bc-9eba384c72df",
   "metadata": {},
   "outputs": [],
   "source": []
  }
 ],
 "metadata": {
  "kernelspec": {
   "display_name": "Python 3 (ipykernel)",
   "language": "python",
   "name": "python3"
  },
  "language_info": {
   "codemirror_mode": {
    "name": "ipython",
    "version": 3
   },
   "file_extension": ".py",
   "mimetype": "text/x-python",
   "name": "python",
   "nbconvert_exporter": "python",
   "pygments_lexer": "ipython3",
   "version": "3.7.11"
  }
 },
 "nbformat": 4,
 "nbformat_minor": 5
}
