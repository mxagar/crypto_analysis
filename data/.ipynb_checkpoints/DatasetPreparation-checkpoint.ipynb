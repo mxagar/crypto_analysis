{
 "cells": [
  {
   "cell_type": "markdown",
   "metadata": {},
   "source": [
    "# Dataset Preparation"
   ]
  },
  {
   "cell_type": "code",
   "execution_count": 116,
   "metadata": {},
   "outputs": [],
   "source": [
    "import numpy as np\n",
    "import pandas as pd\n",
    "import matplotlib.pyplot as plt"
   ]
  },
  {
   "cell_type": "markdown",
   "metadata": {},
   "source": [
    "## Google Trends"
   ]
  },
  {
   "cell_type": "code",
   "execution_count": 117,
   "metadata": {},
   "outputs": [],
   "source": [
    "files = ['multiTimeline_bitcoin_2015_01_08.csv',\n",
    "         'multiTimeline_bitcoin_2015_08_12.csv',\n",
    "         'multiTimeline_bitcoin_2016_01_08.csv',\n",
    "         'multiTimeline_bitcoin_2016_08_12.csv',\n",
    "         'multiTimeline_bitcoin_2017_01_08.csv',\n",
    "         'multiTimeline_bitcoin_2017_08_12.csv',\n",
    "         'multiTimeline_bitcoin_2018_01_08.csv',\n",
    "         'multiTimeline_bitcoin_2018_08_12.csv',\n",
    "         'multiTimeline_bitcoin_2019_01_08.csv',\n",
    "         'multiTimeline_bitcoin_2019_08_12.csv',\n",
    "         'multiTimeline_bitcoin_2020_01_08.csv',\n",
    "         'multiTimeline_bitcoin_2020_08_12.csv',\n",
    "         'multiTimeline_bitcoin_2021_01_08.csv',\n",
    "         'multiTimeline_bitcoin_2021_08_10.csv']"
   ]
  },
  {
   "cell_type": "code",
   "execution_count": 118,
   "metadata": {},
   "outputs": [],
   "source": [
    "def load_format(file):\n",
    "    df_tmp = pd.read_csv(file,header=1)\n",
    "    df_tmp['bitcoin_searches_world'] = df_tmp['bitcoin: (Worldwide)']\n",
    "    df_tmp['date'] = pd.to_datetime(df_tmp['Day'])\n",
    "    df_tmp.drop('Day',axis=1,inplace=True)\n",
    "    df_tmp.drop('bitcoin: (Worldwide)',axis=1,inplace=True)\n",
    "    #df_tmp.set_index('date',inplace=True)\n",
    "    return df_tmp"
   ]
  },
  {
   "cell_type": "code",
   "execution_count": 119,
   "metadata": {},
   "outputs": [],
   "source": [
    "df = pd.DataFrame()\n",
    "for f in files:\n",
    "    if df.shape[0] == 0:\n",
    "        df = load_format(f)\n",
    "    else:\n",
    "        df_tmp = load_format(f)\n",
    "        if df['date'].iloc[-1] == df_tmp['date'].iloc[0]:\n",
    "            # Scale values from the future\n",
    "            last_value = df['bitcoin_searches_world'].iloc[-1]\n",
    "            next_value = df_tmp['bitcoin_searches_world'].iloc[0]\n",
    "            a = last_value / next_value\n",
    "            df_tmp['bitcoin_searches_world'] = df_tmp['bitcoin_searches_world']*a\n",
    "            # Remove first day of next df\n",
    "            df_tmp.drop(index=0,inplace=True)\n",
    "            # Concatenate both\n",
    "            df = pd.concat([df,df_tmp],axis=0)\n",
    "            # New index\n",
    "            df.index = pd.RangeIndex(df.shape[0])\n",
    "        else:\n",
    "            print('ERROR: not matching last and next dates')\n",
    "            print('\\t',df['date'].iloc[-1])\n",
    "            print('\\t',df_tmp['date'].iloc[0])"
   ]
  },
  {
   "cell_type": "code",
   "execution_count": 120,
   "metadata": {},
   "outputs": [
    {
     "data": {
      "text/html": [
       "<div>\n",
       "<style scoped>\n",
       "    .dataframe tbody tr th:only-of-type {\n",
       "        vertical-align: middle;\n",
       "    }\n",
       "\n",
       "    .dataframe tbody tr th {\n",
       "        vertical-align: top;\n",
       "    }\n",
       "\n",
       "    .dataframe thead th {\n",
       "        text-align: right;\n",
       "    }\n",
       "</style>\n",
       "<table border=\"1\" class=\"dataframe\">\n",
       "  <thead>\n",
       "    <tr style=\"text-align: right;\">\n",
       "      <th></th>\n",
       "      <th>bitcoin_searches_world</th>\n",
       "      <th>date</th>\n",
       "    </tr>\n",
       "  </thead>\n",
       "  <tbody>\n",
       "    <tr>\n",
       "      <th>0</th>\n",
       "      <td>46.0</td>\n",
       "      <td>2015-01-01</td>\n",
       "    </tr>\n",
       "    <tr>\n",
       "      <th>1</th>\n",
       "      <td>54.0</td>\n",
       "      <td>2015-01-02</td>\n",
       "    </tr>\n",
       "    <tr>\n",
       "      <th>2</th>\n",
       "      <td>56.0</td>\n",
       "      <td>2015-01-03</td>\n",
       "    </tr>\n",
       "    <tr>\n",
       "      <th>3</th>\n",
       "      <td>66.0</td>\n",
       "      <td>2015-01-04</td>\n",
       "    </tr>\n",
       "    <tr>\n",
       "      <th>4</th>\n",
       "      <td>62.0</td>\n",
       "      <td>2015-01-05</td>\n",
       "    </tr>\n",
       "  </tbody>\n",
       "</table>\n",
       "</div>"
      ],
      "text/plain": [
       "   bitcoin_searches_world       date\n",
       "0                    46.0 2015-01-01\n",
       "1                    54.0 2015-01-02\n",
       "2                    56.0 2015-01-03\n",
       "3                    66.0 2015-01-04\n",
       "4                    62.0 2015-01-05"
      ]
     },
     "execution_count": 120,
     "metadata": {},
     "output_type": "execute_result"
    }
   ],
   "source": [
    "df.head()"
   ]
  },
  {
   "cell_type": "code",
   "execution_count": 121,
   "metadata": {},
   "outputs": [
    {
     "data": {
      "text/html": [
       "<div>\n",
       "<style scoped>\n",
       "    .dataframe tbody tr th:only-of-type {\n",
       "        vertical-align: middle;\n",
       "    }\n",
       "\n",
       "    .dataframe tbody tr th {\n",
       "        vertical-align: top;\n",
       "    }\n",
       "\n",
       "    .dataframe thead th {\n",
       "        text-align: right;\n",
       "    }\n",
       "</style>\n",
       "<table border=\"1\" class=\"dataframe\">\n",
       "  <thead>\n",
       "    <tr style=\"text-align: right;\">\n",
       "      <th></th>\n",
       "      <th>bitcoin_searches_world</th>\n",
       "      <th>date</th>\n",
       "    </tr>\n",
       "  </thead>\n",
       "  <tbody>\n",
       "    <tr>\n",
       "      <th>2473</th>\n",
       "      <td>614.356838</td>\n",
       "      <td>2021-10-09</td>\n",
       "    </tr>\n",
       "    <tr>\n",
       "      <th>2474</th>\n",
       "      <td>614.356838</td>\n",
       "      <td>2021-10-10</td>\n",
       "    </tr>\n",
       "    <tr>\n",
       "      <th>2475</th>\n",
       "      <td>726.058081</td>\n",
       "      <td>2021-10-11</td>\n",
       "    </tr>\n",
       "    <tr>\n",
       "      <th>2476</th>\n",
       "      <td>726.058081</td>\n",
       "      <td>2021-10-12</td>\n",
       "    </tr>\n",
       "    <tr>\n",
       "      <th>2477</th>\n",
       "      <td>625.526962</td>\n",
       "      <td>2021-10-13</td>\n",
       "    </tr>\n",
       "  </tbody>\n",
       "</table>\n",
       "</div>"
      ],
      "text/plain": [
       "      bitcoin_searches_world       date\n",
       "2473              614.356838 2021-10-09\n",
       "2474              614.356838 2021-10-10\n",
       "2475              726.058081 2021-10-11\n",
       "2476              726.058081 2021-10-12\n",
       "2477              625.526962 2021-10-13"
      ]
     },
     "execution_count": 121,
     "metadata": {},
     "output_type": "execute_result"
    }
   ],
   "source": [
    "df.tail()"
   ]
  },
  {
   "cell_type": "code",
   "execution_count": 122,
   "metadata": {},
   "outputs": [
    {
     "data": {
      "text/plain": [
       "<AxesSubplot:xlabel='date'>"
      ]
     },
     "execution_count": 122,
     "metadata": {},
     "output_type": "execute_result"
    },
    {
     "data": {
      "image/png": "[encoded data removed]",
      "text/plain": [
       "<Figure size 1080x360 with 1 Axes>"
      ]
     },
     "metadata": {
      "needs_background": "light"
     },
     "output_type": "display_data"
    }
   ],
   "source": [
    "df.plot(x='date',y='bitcoin_searches_world',figsize=(15,5),color='r')"
   ]
  },
  {
   "cell_type": "code",
   "execution_count": 123,
   "metadata": {},
   "outputs": [],
   "source": [
    "df.to_csv('google_trends_bitcoin_2015_2021_daily.csv',index=False)"
   ]
  },
  {
   "cell_type": "markdown",
   "metadata": {
    "tags": []
   },
   "source": [
    "## Bitcoin History Prices"
   ]
  },
  {
   "cell_type": "code",
   "execution_count": 124,
   "metadata": {},
   "outputs": [],
   "source": [
    "import numpy as np\n",
    "import pandas as pd\n",
    "import matplotlib.pyplot as plt\n",
    "import datetime as dt"
   ]
  },
  {
   "cell_type": "code",
   "execution_count": 125,
   "metadata": {},
   "outputs": [],
   "source": [
    "#files = ['Bitstamp_BTCUSD_2017_minute.csv',\n",
    "#         'Bitstamp_BTCUSD_2018_minute.csv',\n",
    "#         'Bitstamp_BTCUSD_2019_minute.csv',\n",
    "#         'Bitstamp_BTCUSD_2020_minute.csv',\n",
    "#         'Bitstamp_BTCUSD_2021_minute.csv']\n",
    "files = ['Gemini_BTCUSD_2015_1min.csv',\n",
    "         'Gemini_BTCUSD_2016_1min.csv',\n",
    "         'Gemini_BTCUSD_2017_1min.csv',\n",
    "         'Gemini_BTCUSD_2018_1min.csv',\n",
    "         'Gemini_BTCUSD_2019_1min.csv',\n",
    "         'Gemini_BTCUSD_2020_1min.csv',\n",
    "         'Gemini_BTCUSD_2021_1min.csv']"
   ]
  },
  {
   "cell_type": "code",
   "execution_count": 126,
   "metadata": {},
   "outputs": [],
   "source": [
    "df_tmp = pd.read_csv(files[0],header=0)"
   ]
  },
  {
   "cell_type": "code",
   "execution_count": 127,
   "metadata": {},
   "outputs": [],
   "source": [
    "def load_history_prices(file):\n",
    "    df_tmp = pd.read_csv(file,header=0)\n",
    "    df_tmp['Date'] = pd.to_datetime(df_tmp['Date'])\n",
    "    df_tmp.drop('Unix Timestamp',axis=1,inplace=True)\n",
    "    df_tmp.drop('Symbol',axis=1,inplace=True)\n",
    "    df_tmp = df_tmp.iloc[::-1]\n",
    "    #df_tmp.index = pd.RangeIndex(df_tmp.shape[0])\n",
    "    #df_tmp['year'] = df_tmp['date'].apply(lambda time: time.year)\n",
    "    # date, open, high, low, close, Volume BTC, Volume USD\n",
    "    # Resample Hourly\n",
    "    df_tmp.set_index('Date',inplace=True)\n",
    "    open_ = df_tmp['Open'].resample(rule='H').first()\n",
    "    high_ = df_tmp['High'].resample(rule='H').max()\n",
    "    low_ = df_tmp['Low'].resample(rule='H').min()\n",
    "    close_ = df_tmp['Close'].resample(rule='H').last()\n",
    "    vol_btc = df_tmp['Volume'].resample(rule='H').sum()\n",
    "    #vol_usd = df_tmp['Volume USD'].resample(rule='H').sum()\n",
    "    df = pd.concat([open_, high_, low_,close_, vol_btc],axis=1)\n",
    "    return df"
   ]
  },
  {
   "cell_type": "code",
   "execution_count": 128,
   "metadata": {},
   "outputs": [],
   "source": [
    "df_tmp = load_history_prices(files[1])"
   ]
  },
  {
   "cell_type": "code",
   "execution_count": 129,
   "metadata": {},
   "outputs": [
    {
     "data": {
      "text/plain": [
       "<AxesSubplot:xlabel='Date'>"
      ]
     },
     "execution_count": 129,
     "metadata": {},
     "output_type": "execute_result"
    },
    {
     "data": {
      "image/png": "[encoded data removed]",
      "text/plain": [
       "<Figure size 1080x360 with 1 Axes>"
      ]
     },
     "metadata": {
      "needs_background": "light"
     },
     "output_type": "display_data"
    }
   ],
   "source": [
    "df_tmp['Close'].plot(figsize=(15,5))"
   ]
  },
  {
   "cell_type": "code",
   "execution_count": 130,
   "metadata": {},
   "outputs": [
    {
     "data": {
      "text/html": [
       "<div>\n",
       "<style scoped>\n",
       "    .dataframe tbody tr th:only-of-type {\n",
       "        vertical-align: middle;\n",
       "    }\n",
       "\n",
       "    .dataframe tbody tr th {\n",
       "        vertical-align: top;\n",
       "    }\n",
       "\n",
       "    .dataframe thead th {\n",
       "        text-align: right;\n",
       "    }\n",
       "</style>\n",
       "<table border=\"1\" class=\"dataframe\">\n",
       "  <thead>\n",
       "    <tr style=\"text-align: right;\">\n",
       "      <th></th>\n",
       "      <th>Open</th>\n",
       "      <th>High</th>\n",
       "      <th>Low</th>\n",
       "      <th>Close</th>\n",
       "      <th>Volume</th>\n",
       "    </tr>\n",
       "  </thead>\n",
       "  <tbody>\n",
       "    <tr>\n",
       "      <th>count</th>\n",
       "      <td>8784.000000</td>\n",
       "      <td>8784.000000</td>\n",
       "      <td>8784.000000</td>\n",
       "      <td>8784.000000</td>\n",
       "      <td>8784.000000</td>\n",
       "    </tr>\n",
       "    <tr>\n",
       "      <th>mean</th>\n",
       "      <td>566.857495</td>\n",
       "      <td>567.831346</td>\n",
       "      <td>565.892696</td>\n",
       "      <td>566.919495</td>\n",
       "      <td>62.091135</td>\n",
       "    </tr>\n",
       "    <tr>\n",
       "      <th>std</th>\n",
       "      <td>137.993973</td>\n",
       "      <td>138.372320</td>\n",
       "      <td>137.646343</td>\n",
       "      <td>138.054783</td>\n",
       "      <td>165.920461</td>\n",
       "    </tr>\n",
       "    <tr>\n",
       "      <th>min</th>\n",
       "      <td>355.560000</td>\n",
       "      <td>359.330000</td>\n",
       "      <td>353.320000</td>\n",
       "      <td>355.560000</td>\n",
       "      <td>0.000000</td>\n",
       "    </tr>\n",
       "    <tr>\n",
       "      <th>25%</th>\n",
       "      <td>429.987500</td>\n",
       "      <td>430.982500</td>\n",
       "      <td>429.830000</td>\n",
       "      <td>429.990000</td>\n",
       "      <td>3.090150</td>\n",
       "    </tr>\n",
       "    <tr>\n",
       "      <th>50%</th>\n",
       "      <td>581.390000</td>\n",
       "      <td>582.015000</td>\n",
       "      <td>580.980000</td>\n",
       "      <td>581.410000</td>\n",
       "      <td>19.640369</td>\n",
       "    </tr>\n",
       "    <tr>\n",
       "      <th>75%</th>\n",
       "      <td>662.730000</td>\n",
       "      <td>663.990000</td>\n",
       "      <td>661.092500</td>\n",
       "      <td>662.822500</td>\n",
       "      <td>64.501751</td>\n",
       "    </tr>\n",
       "    <tr>\n",
       "      <th>max</th>\n",
       "      <td>982.470000</td>\n",
       "      <td>985.430000</td>\n",
       "      <td>978.490000</td>\n",
       "      <td>982.470000</td>\n",
       "      <td>3176.491887</td>\n",
       "    </tr>\n",
       "  </tbody>\n",
       "</table>\n",
       "</div>"
      ],
      "text/plain": [
       "              Open         High          Low        Close       Volume\n",
       "count  8784.000000  8784.000000  8784.000000  8784.000000  8784.000000\n",
       "mean    566.857495   567.831346   565.892696   566.919495    62.091135\n",
       "std     137.993973   138.372320   137.646343   138.054783   165.920461\n",
       "min     355.560000   359.330000   353.320000   355.560000     0.000000\n",
       "25%     429.987500   430.982500   429.830000   429.990000     3.090150\n",
       "50%     581.390000   582.015000   580.980000   581.410000    19.640369\n",
       "75%     662.730000   663.990000   661.092500   662.822500    64.501751\n",
       "max     982.470000   985.430000   978.490000   982.470000  3176.491887"
      ]
     },
     "execution_count": 130,
     "metadata": {},
     "output_type": "execute_result"
    }
   ],
   "source": [
    "df_tmp.describe()"
   ]
  },
  {
   "cell_type": "code",
   "execution_count": 131,
   "metadata": {},
   "outputs": [],
   "source": [
    "df = pd.DataFrame()\n",
    "for f in files:\n",
    "    if df.shape[0] == 0:\n",
    "        df = load_history_prices(f)\n",
    "    else:\n",
    "        df_tmp = load_history_prices(f)\n",
    "        # Concatenate both\n",
    "        df = pd.concat([df,df_tmp],axis=0)"
   ]
  },
  {
   "cell_type": "code",
   "execution_count": 132,
   "metadata": {},
   "outputs": [
    {
     "data": {
      "text/plain": [
       "<AxesSubplot:xlabel='Date'>"
      ]
     },
     "execution_count": 132,
     "metadata": {},
     "output_type": "execute_result"
    },
    {
     "data": {
      "image/png": "[encoded data removed]",
      "text/plain": [
       "<Figure size 1080x360 with 1 Axes>"
      ]
     },
     "metadata": {
      "needs_background": "light"
     },
     "output_type": "display_data"
    }
   ],
   "source": [
    "df['Close'].plot(figsize=(15,5))"
   ]
  },
  {
   "cell_type": "code",
   "execution_count": 133,
   "metadata": {},
   "outputs": [],
   "source": [
    "df.to_csv('Gemini_BTCUSD_2015_2021_hourly.csv',index=True)"
   ]
  },
  {
   "cell_type": "code",
   "execution_count": 40,
   "metadata": {},
   "outputs": [],
   "source": [
    "start = dt.datetime(2018,5,15,7,0,0)\n",
    "end = dt.datetime(2019,5,15,7,0,0)"
   ]
  },
  {
   "cell_type": "code",
   "execution_count": 41,
   "metadata": {},
   "outputs": [
    {
     "data": {
      "text/plain": [
       "<AxesSubplot:xlabel='Date'>"
      ]
     },
     "execution_count": 41,
     "metadata": {},
     "output_type": "execute_result"
    },
    {
     "data": {
      "image/png": "[encoded data removed]",
      "text/plain": [
       "<Figure size 1080x360 with 1 Axes>"
      ]
     },
     "metadata": {
      "needs_background": "light"
     },
     "output_type": "display_data"
    }
   ],
   "source": [
    "df['Low'].loc[start:end].plot(figsize=(15,5))"
   ]
  },
  {
   "cell_type": "code",
   "execution_count": 76,
   "metadata": {},
   "outputs": [],
   "source": [
    "# Halving 2016: 2016-07-09\n",
    "# ATH 2017: 2017-12-17\n",
    "start = dt.datetime(2016,7,9,0,0,0)\n",
    "end = dt.datetime(2017,12,17,0,0,0)\n",
    "#end = dt.datetime(2017,9,15,0,0,0)\n",
    "# Halving 2020: 2020-05-11\n",
    "# ATH 2021: ?\n",
    "start = dt.datetime(2020,5,11,0,0,0)\n",
    "end = dt.datetime(2021,10,27,0,0,0)\n",
    "duration_days = (end-start).days"
   ]
  },
  {
   "cell_type": "code",
   "execution_count": 77,
   "metadata": {},
   "outputs": [
    {
     "data": {
      "text/plain": [
       "534"
      ]
     },
     "execution_count": 77,
     "metadata": {},
     "output_type": "execute_result"
    }
   ],
   "source": [
    "duration_days"
   ]
  },
  {
   "cell_type": "code",
   "execution_count": 78,
   "metadata": {},
   "outputs": [
    {
     "data": {
      "text/plain": [
       "(12817, 6)"
      ]
     },
     "execution_count": 78,
     "metadata": {},
     "output_type": "execute_result"
    }
   ],
   "source": [
    "df.loc[start:end].shape"
   ]
  },
  {
   "cell_type": "code",
   "execution_count": 79,
   "metadata": {},
   "outputs": [
    {
     "data": {
      "text/plain": [
       "<AxesSubplot:xlabel='Date'>"
      ]
     },
     "execution_count": 79,
     "metadata": {},
     "output_type": "execute_result"
    },
    {
     "data": {
      "image/png": "[encoded data removed]",
      "text/plain": [
       "<Figure size 1080x360 with 1 Axes>"
      ]
     },
     "metadata": {
      "needs_background": "light"
     },
     "output_type": "display_data"
    }
   ],
   "source": [
    "df['Low'].loc[start:end].plot(figsize=(15,5))"
   ]
  },
  {
   "cell_type": "code",
   "execution_count": 80,
   "metadata": {},
   "outputs": [],
   "source": [
    "df_tmp = df.loc[start:end]\n",
    "n = 100\n",
    "max_price = df_tmp['Low'].max()\n",
    "min_price = df_tmp['Low'].min()\n",
    "ref_price = df_tmp['Low'].iloc[0]"
   ]
  },
  {
   "cell_type": "code",
   "execution_count": 81,
   "metadata": {},
   "outputs": [
    {
     "data": {
      "text/html": [
       "<div>\n",
       "<style scoped>\n",
       "    .dataframe tbody tr th:only-of-type {\n",
       "        vertical-align: middle;\n",
       "    }\n",
       "\n",
       "    .dataframe tbody tr th {\n",
       "        vertical-align: top;\n",
       "    }\n",
       "\n",
       "    .dataframe thead th {\n",
       "        text-align: right;\n",
       "    }\n",
       "</style>\n",
       "<table border=\"1\" class=\"dataframe\">\n",
       "  <thead>\n",
       "    <tr style=\"text-align: right;\">\n",
       "      <th></th>\n",
       "      <th>Open</th>\n",
       "      <th>High</th>\n",
       "      <th>Low</th>\n",
       "      <th>Close</th>\n",
       "      <th>Volume</th>\n",
       "      <th>Factor</th>\n",
       "    </tr>\n",
       "    <tr>\n",
       "      <th>Date</th>\n",
       "      <th></th>\n",
       "      <th></th>\n",
       "      <th></th>\n",
       "      <th></th>\n",
       "      <th></th>\n",
       "      <th></th>\n",
       "    </tr>\n",
       "  </thead>\n",
       "  <tbody>\n",
       "    <tr>\n",
       "      <th>2020-05-11 00:00:00</th>\n",
       "      <td>8726.71</td>\n",
       "      <td>8811.25</td>\n",
       "      <td>8709.62</td>\n",
       "      <td>8775.00</td>\n",
       "      <td>82.002092</td>\n",
       "      <td>13.156923</td>\n",
       "    </tr>\n",
       "    <tr>\n",
       "      <th>2020-05-11 01:00:00</th>\n",
       "      <td>8775.00</td>\n",
       "      <td>8782.98</td>\n",
       "      <td>8691.12</td>\n",
       "      <td>8716.17</td>\n",
       "      <td>49.883069</td>\n",
       "      <td>13.128977</td>\n",
       "    </tr>\n",
       "    <tr>\n",
       "      <th>2020-05-11 02:00:00</th>\n",
       "      <td>8716.17</td>\n",
       "      <td>8770.08</td>\n",
       "      <td>8707.34</td>\n",
       "      <td>8757.74</td>\n",
       "      <td>34.480302</td>\n",
       "      <td>13.153479</td>\n",
       "    </tr>\n",
       "    <tr>\n",
       "      <th>2020-05-11 03:00:00</th>\n",
       "      <td>8757.74</td>\n",
       "      <td>8779.11</td>\n",
       "      <td>8668.78</td>\n",
       "      <td>8705.73</td>\n",
       "      <td>35.294300</td>\n",
       "      <td>13.095229</td>\n",
       "    </tr>\n",
       "    <tr>\n",
       "      <th>2020-05-11 04:00:00</th>\n",
       "      <td>8705.73</td>\n",
       "      <td>8717.64</td>\n",
       "      <td>8632.51</td>\n",
       "      <td>8638.67</td>\n",
       "      <td>86.532721</td>\n",
       "      <td>13.040439</td>\n",
       "    </tr>\n",
       "  </tbody>\n",
       "</table>\n",
       "</div>"
      ],
      "text/plain": [
       "                        Open     High      Low    Close     Volume     Factor\n",
       "Date                                                                         \n",
       "2020-05-11 00:00:00  8726.71  8811.25  8709.62  8775.00  82.002092  13.156923\n",
       "2020-05-11 01:00:00  8775.00  8782.98  8691.12  8716.17  49.883069  13.128977\n",
       "2020-05-11 02:00:00  8716.17  8770.08  8707.34  8757.74  34.480302  13.153479\n",
       "2020-05-11 03:00:00  8757.74  8779.11  8668.78  8705.73  35.294300  13.095229\n",
       "2020-05-11 04:00:00  8705.73  8717.64  8632.51  8638.67  86.532721  13.040439"
      ]
     },
     "execution_count": 81,
     "metadata": {},
     "output_type": "execute_result"
    }
   ],
   "source": [
    "df_tmp.head()"
   ]
  },
  {
   "cell_type": "code",
   "execution_count": 82,
   "metadata": {},
   "outputs": [
    {
     "data": {
      "text/plain": [
       "8200.0"
      ]
     },
     "execution_count": 82,
     "metadata": {},
     "output_type": "execute_result"
    }
   ],
   "source": [
    "min_price"
   ]
  },
  {
   "cell_type": "code",
   "execution_count": 83,
   "metadata": {},
   "outputs": [
    {
     "data": {
      "text/plain": [
       "66357.6"
      ]
     },
     "execution_count": 83,
     "metadata": {},
     "output_type": "execute_result"
    }
   ],
   "source": [
    "max_price"
   ]
  },
  {
   "cell_type": "code",
   "execution_count": 84,
   "metadata": {},
   "outputs": [
    {
     "data": {
      "text/plain": [
       "8709.62"
      ]
     },
     "execution_count": 84,
     "metadata": {},
     "output_type": "execute_result"
    }
   ],
   "source": [
    "ref_price"
   ]
  },
  {
   "cell_type": "code",
   "execution_count": 85,
   "metadata": {},
   "outputs": [],
   "source": [
    "df['Factor'] = df['Low']/ref_price"
   ]
  },
  {
   "cell_type": "code",
   "execution_count": 86,
   "metadata": {},
   "outputs": [],
   "source": [
    "df_tmp = df.loc[start:end]"
   ]
  },
  {
   "cell_type": "code",
   "execution_count": 87,
   "metadata": {},
   "outputs": [],
   "source": [
    "max_factor = df_tmp['Factor'].max()\n",
    "min_factor = df_tmp['Factor'].min()"
   ]
  },
  {
   "cell_type": "code",
   "execution_count": 88,
   "metadata": {},
   "outputs": [],
   "source": [
    "step_factor = (max_factor - min_factor) / (n-1)"
   ]
  },
  {
   "cell_type": "code",
   "execution_count": 89,
   "metadata": {},
   "outputs": [],
   "source": [
    "step_price = (max_price - min_price) / (n-1)"
   ]
  },
  {
   "cell_type": "code",
   "execution_count": 90,
   "metadata": {},
   "outputs": [
    {
     "data": {
      "text/plain": [
       "0.9414876883262415"
      ]
     },
     "execution_count": 90,
     "metadata": {},
     "output_type": "execute_result"
    }
   ],
   "source": [
    "min_factor"
   ]
  },
  {
   "cell_type": "code",
   "execution_count": 91,
   "metadata": {},
   "outputs": [
    {
     "data": {
      "text/plain": [
       "7.6188857837655375"
      ]
     },
     "execution_count": 91,
     "metadata": {},
     "output_type": "execute_result"
    }
   ],
   "source": [
    "max_factor"
   ]
  },
  {
   "cell_type": "code",
   "execution_count": 92,
   "metadata": {},
   "outputs": [
    {
     "data": {
      "text/plain": [
       "587.4505050505051"
      ]
     },
     "execution_count": 92,
     "metadata": {},
     "output_type": "execute_result"
    }
   ],
   "source": [
    "step_price"
   ]
  },
  {
   "cell_type": "code",
   "execution_count": 93,
   "metadata": {},
   "outputs": [
    {
     "data": {
      "text/plain": [
       "0.06744846561049794"
      ]
     },
     "execution_count": 93,
     "metadata": {},
     "output_type": "execute_result"
    }
   ],
   "source": [
    "step_factor"
   ]
  },
  {
   "cell_type": "code",
   "execution_count": 94,
   "metadata": {},
   "outputs": [
    {
     "data": {
      "text/plain": [
       "(12817, 6)"
      ]
     },
     "execution_count": 94,
     "metadata": {},
     "output_type": "execute_result"
    }
   ],
   "source": [
    "df_tmp.shape"
   ]
  },
  {
   "cell_type": "code",
   "execution_count": 95,
   "metadata": {},
   "outputs": [],
   "source": [
    "price_bins = np.zeros(n)\n",
    "for i in range(df_tmp.shape[0]):\n",
    "    if not (np.isnan(df_tmp.iloc[i]['Low'])):\n",
    "        b = np.int(np.floor((df_tmp.iloc[i]['Low'] - min_price) / step_price))\n",
    "        price_bins[b] = price_bins[b] + 1"
   ]
  },
  {
   "cell_type": "code",
   "execution_count": 96,
   "metadata": {},
   "outputs": [
    {
     "data": {
      "text/plain": [
       "array([ 61., 949., 722., 355., 611., 758., 257.,  43., 180., 127.,  17.,\n",
       "        49., 110.,  86.,  59.,  40., 129., 178., 258.,  28.,   1.,   7.,\n",
       "         5.,   8.,  62.,  87.,  48.,  11.,  12.,   7.,  15.,  49.,  16.,\n",
       "        14.,  19.,  47.,  40.,  24.,  61., 173., 162., 214., 173., 238.,\n",
       "       211., 128., 189., 159., 159., 153., 136., 130., 130., 131.,  84.,\n",
       "        52.,  66.,  62.,  80.,  99.,  76., 106., 122., 126., 168., 175.,\n",
       "       228., 208., 202., 178., 140., 114.,  63.,  77.,  50.,  41.,  51.,\n",
       "       107., 157., 154., 138., 154., 163., 176., 159., 127.,  97.,  82.,\n",
       "        67.,  93.,  48.,  58.,  75.,  32.,  23.,   9.,   5.,   6.,   6.,\n",
       "         1.])"
      ]
     },
     "execution_count": 96,
     "metadata": {},
     "output_type": "execute_result"
    }
   ],
   "source": [
    "price_bins"
   ]
  },
  {
   "cell_type": "code",
   "execution_count": null,
   "metadata": {},
   "outputs": [],
   "source": []
  },
  {
   "cell_type": "code",
   "execution_count": 97,
   "metadata": {},
   "outputs": [
    {
     "data": {
      "text/plain": [
       "<AxesSubplot:>"
      ]
     },
     "execution_count": 97,
     "metadata": {},
     "output_type": "execute_result"
    },
    {
     "data": {
      "image/png": "[encoded data removed]",
      "text/plain": [
       "<Figure size 1080x360 with 1 Axes>"
      ]
     },
     "metadata": {
      "needs_background": "light"
     },
     "output_type": "display_data"
    }
   ],
   "source": [
    "df_tmp['Low'].hist(bins=100,figsize=(15,5))"
   ]
  },
  {
   "cell_type": "code",
   "execution_count": 98,
   "metadata": {},
   "outputs": [
    {
     "data": {
      "text/plain": [
       "<AxesSubplot:>"
      ]
     },
     "execution_count": 98,
     "metadata": {},
     "output_type": "execute_result"
    },
    {
     "data": {
      "image/png": "[encoded data removed]",
      "text/plain": [
       "<Figure size 1080x360 with 1 Axes>"
      ]
     },
     "metadata": {
      "needs_background": "light"
     },
     "output_type": "display_data"
    }
   ],
   "source": [
    "df_tmp['Factor'].hist(bins=100,figsize=(15,5))"
   ]
  },
  {
   "cell_type": "code",
   "execution_count": 99,
   "metadata": {},
   "outputs": [
    {
     "data": {
      "text/plain": [
       "<BarContainer object of 100 artists>"
      ]
     },
     "execution_count": 99,
     "metadata": {},
     "output_type": "execute_result"
    },
    {
     "data": {
      "image/png": "[encoded data removed]",
      "text/plain": [
       "<Figure size 1080x360 with 1 Axes>"
      ]
     },
     "metadata": {
      "needs_background": "light"
     },
     "output_type": "display_data"
    }
   ],
   "source": [
    "plt.figure(figsize=(15,5))\n",
    "#plt.bar(x=np.linspace(min_price,max_price,n),height=price_bins)\n",
    "plt.bar(x=range(n),height=price_bins)\n"
   ]
  },
  {
   "cell_type": "code",
   "execution_count": 100,
   "metadata": {},
   "outputs": [],
   "source": [
    "#acc_price_bins = np.zeros(n)\n",
    "#for i in range(n):\n",
    "#    for j in range(n-i):\n",
    "#        acc_price_bins[i] = acc_price_bins[i] + price_bins[j]\n",
    "acc_price_bins = np.zeros(n)\n",
    "l = range(n)\n",
    "for i in l[::-1]:\n",
    "    acc_price_bins[i] = price_bins[i:-1].sum()"
   ]
  },
  {
   "cell_type": "code",
   "execution_count": 101,
   "metadata": {},
   "outputs": [],
   "source": [
    "x = np.linspace(min_price,max_price,n)"
   ]
  },
  {
   "cell_type": "code",
   "execution_count": 102,
   "metadata": {},
   "outputs": [],
   "source": [
    "#?plt.bar"
   ]
  },
  {
   "cell_type": "code",
   "execution_count": 103,
   "metadata": {},
   "outputs": [
    {
     "data": {
      "text/plain": [
       "<BarContainer object of 100 artists>"
      ]
     },
     "execution_count": 103,
     "metadata": {},
     "output_type": "execute_result"
    },
    {
     "data": {
      "image/png": "[encoded data removed]",
      "text/plain": [
       "<Figure size 1080x360 with 1 Axes>"
      ]
     },
     "metadata": {
      "needs_background": "light"
     },
     "output_type": "display_data"
    }
   ],
   "source": [
    "plt.figure(figsize=(15,5))\n",
    "plt.bar(x=range(n),height=acc_price_bins)\n",
    "#ax = plt.gca()\n",
    "#ax.set_xticks(list(x))"
   ]
  },
  {
   "cell_type": "code",
   "execution_count": 104,
   "metadata": {},
   "outputs": [
    {
     "data": {
      "text/plain": [
       "array([1.2540e+04, 1.2479e+04, 1.1530e+04, 1.0808e+04, 1.0453e+04,\n",
       "       9.8420e+03, 9.0840e+03, 8.8270e+03, 8.7840e+03, 8.6040e+03,\n",
       "       8.4770e+03, 8.4600e+03, 8.4110e+03, 8.3010e+03, 8.2150e+03,\n",
       "       8.1560e+03, 8.1160e+03, 7.9870e+03, 7.8090e+03, 7.5510e+03,\n",
       "       7.5230e+03, 7.5220e+03, 7.5150e+03, 7.5100e+03, 7.5020e+03,\n",
       "       7.4400e+03, 7.3530e+03, 7.3050e+03, 7.2940e+03, 7.2820e+03,\n",
       "       7.2750e+03, 7.2600e+03, 7.2110e+03, 7.1950e+03, 7.1810e+03,\n",
       "       7.1620e+03, 7.1150e+03, 7.0750e+03, 7.0510e+03, 6.9900e+03,\n",
       "       6.8170e+03, 6.6550e+03, 6.4410e+03, 6.2680e+03, 6.0300e+03,\n",
       "       5.8190e+03, 5.6910e+03, 5.5020e+03, 5.3430e+03, 5.1840e+03,\n",
       "       5.0310e+03, 4.8950e+03, 4.7650e+03, 4.6350e+03, 4.5040e+03,\n",
       "       4.4200e+03, 4.3680e+03, 4.3020e+03, 4.2400e+03, 4.1600e+03,\n",
       "       4.0610e+03, 3.9850e+03, 3.8790e+03, 3.7570e+03, 3.6310e+03,\n",
       "       3.4630e+03, 3.2880e+03, 3.0600e+03, 2.8520e+03, 2.6500e+03,\n",
       "       2.4720e+03, 2.3320e+03, 2.2180e+03, 2.1550e+03, 2.0780e+03,\n",
       "       2.0280e+03, 1.9870e+03, 1.9360e+03, 1.8290e+03, 1.6720e+03,\n",
       "       1.5180e+03, 1.3800e+03, 1.2260e+03, 1.0630e+03, 8.8700e+02,\n",
       "       7.2800e+02, 6.0100e+02, 5.0400e+02, 4.2200e+02, 3.5500e+02,\n",
       "       2.6200e+02, 2.1400e+02, 1.5600e+02, 8.1000e+01, 4.9000e+01,\n",
       "       2.6000e+01, 1.7000e+01, 1.2000e+01, 6.0000e+00, 0.0000e+00])"
      ]
     },
     "execution_count": 104,
     "metadata": {},
     "output_type": "execute_result"
    }
   ],
   "source": [
    "acc_price_bins"
   ]
  },
  {
   "cell_type": "code",
   "execution_count": 105,
   "metadata": {},
   "outputs": [
    {
     "data": {
      "text/plain": [
       "array([262., 214., 156.,  81.,  49.,  26.,  17.,  12.,   6.])"
      ]
     },
     "execution_count": 105,
     "metadata": {},
     "output_type": "execute_result"
    }
   ],
   "source": [
    "acc_price_bins[90:-1]"
   ]
  },
  {
   "cell_type": "code",
   "execution_count": null,
   "metadata": {},
   "outputs": [],
   "source": []
  }
 ],
 "metadata": {
  "kernelspec": {
   "display_name": "Python 3 (ipykernel)",
   "language": "python",
   "name": "python3"
  },
  "language_info": {
   "codemirror_mode": {
    "name": "ipython",
    "version": 3
   },
   "file_extension": ".py",
   "mimetype": "text/x-python",
   "name": "python",
   "nbconvert_exporter": "python",
   "pygments_lexer": "ipython3",
   "version": "3.7.11"
  }
 },
 "nbformat": 4,
 "nbformat_minor": 4
}
