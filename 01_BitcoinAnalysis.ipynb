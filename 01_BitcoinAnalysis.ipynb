{
 "cells": [
  {
   "cell_type": "markdown",
   "metadata": {},
   "source": [
    "# Bitcoin Data Analysis"
   ]
  },
  {
   "cell_type": "markdown",
   "metadata": {},
   "source": [
    "This notebook contains a preliminary analysis of Bitcoin in the following sections:\n",
    "1. Load datasets: Halving dates are defined + Google Trends & BTC Price from Gemini loaded\n",
    "2. Price-level histograms: Halving epochs are analyzed starting from the halving date until the all-time-high (ATH) of the epoch. The number of hours at each price level is computed and plotted.\n",
    "3. BTC Price-Interest Relationship: The correlation, scatterplot, and linear regression models are analyzed on the series related to BTC price and Google search interest.\n",
    "4. Low and Upper Baselines: Polynomials are fitted using manually selected dips and highs\n",
    "5. Comparisons: BTC, ETH, SPY: Correlations, scaterplots, etc.\n",
    "\n",
    "Some notes:\n",
    "- I decided to work on halving epochs because, after a visual inspection, these seem to have a fractal resemblance; the optimal approach would have been to plot side by side the diagrams of different halving epochs, but I did not have time for doing that properly.\n",
    "- In each halving the reward given to the miner that solves the block hashing problem halves; thus, the system is deflationary, which I think, intuitively explains the point above. I might be completely wrong on that.\n",
    "- Another interesting period for BTC seems to be approx. 2 weeks, i.e., 14 days, because then, the difficulty adjustement happens periodically.\n",
    "- I chose three cryptocurrencies for analysis for the following motivations:\n",
    "    - BTC, Bitcoin: the first and biggest open blockchain, primarily with currency purpose\n",
    "    - ETH, EThereum: second biggest open blockchain; it's not only a currency, but also a generic blockchain with smart contracts\n",
    "    - XMR, Monero: privacy coin with other interesting features\n",
    "- I think it is inevitable to compare those crytptocurrencies to their perceived interest and the SP500.\n",
    "\n",
    "All in all, this is just out of curiosity and just for fun, i.e., **this is not financial advice**."
   ]
  },
  {
   "cell_type": "code",
   "execution_count": 251,
   "metadata": {},
   "outputs": [],
   "source": [
    "import numpy as np\n",
    "import pandas as pd\n",
    "import matplotlib.pyplot as plt\n",
    "import datetime as dt\n",
    "import seaborn as sns"
   ]
  },
  {
   "cell_type": "markdown",
   "metadata": {},
   "source": [
    "## 1. Load datasets: Interest (Google trends) & Price\n",
    "Two datasets are manually arranged in `data/DatasetPreparation.ipynb`:\n",
    "- Google searches of term 'bitcoin' worldwide and daily since 2015: `Google_trends_bitcoin_2015_2021_daily.csv`\n",
    "- Price action hourly from Gemini: `Gemini_BTCUSD_2015_2021_hourly.csv`"
   ]
  },
  {
   "cell_type": "code",
   "execution_count": 252,
   "metadata": {},
   "outputs": [],
   "source": [
    "# Halving dates\n",
    "# Halving 2: h2\n",
    "# Halving 3: h3\n",
    "# All-Time-High 2 (ATH): a2\n",
    "# All-Time-High 3 (ATH): a3\n",
    "h2 = dt.datetime(2016,7,9,0,0,0)\n",
    "a2 = dt.datetime(2017,12,17,0,0,0)\n",
    "h3 = dt.datetime(2020,5,11,0,0,0)"
   ]
  },
  {
   "cell_type": "markdown",
   "metadata": {},
   "source": [
    "### Interest"
   ]
  },
  {
   "cell_type": "code",
   "execution_count": 253,
   "metadata": {},
   "outputs": [],
   "source": [
    "df_interest = pd.read_csv('data/Google_trends_bitcoin_2015_2021_daily.csv',header=0)"
   ]
  },
  {
   "cell_type": "code",
   "execution_count": 254,
   "metadata": {},
   "outputs": [],
   "source": [
    "df_interest['date'] = pd.to_datetime(df_interest['date'])"
   ]
  },
  {
   "cell_type": "code",
   "execution_count": 255,
   "metadata": {},
   "outputs": [],
   "source": [
    "df_interest.set_index('date',inplace=True)"
   ]
  },
  {
   "cell_type": "code",
   "execution_count": 256,
   "metadata": {},
   "outputs": [],
   "source": [
    "# Nomalization\n",
    "max_interest = df_interest['bitcoin_searches_world'].max()\n",
    "df_interest['bitcoin_searches_world'] = 100 * df_interest['bitcoin_searches_world'] / max_interest"
   ]
  },
  {
   "cell_type": "code",
   "execution_count": 257,
   "metadata": {},
   "outputs": [
    {
     "data": {
      "text/html": [
       "<div>\n",
       "<style scoped>\n",
       "    .dataframe tbody tr th:only-of-type {\n",
       "        vertical-align: middle;\n",
       "    }\n",
       "\n",
       "    .dataframe tbody tr th {\n",
       "        vertical-align: top;\n",
       "    }\n",
       "\n",
       "    .dataframe thead th {\n",
       "        text-align: right;\n",
       "    }\n",
       "</style>\n",
       "<table border=\"1\" class=\"dataframe\">\n",
       "  <thead>\n",
       "    <tr style=\"text-align: right;\">\n",
       "      <th></th>\n",
       "      <th>bitcoin_searches_world</th>\n",
       "    </tr>\n",
       "    <tr>\n",
       "      <th>date</th>\n",
       "      <th></th>\n",
       "    </tr>\n",
       "  </thead>\n",
       "  <tbody>\n",
       "    <tr>\n",
       "      <th>2021-11-02</th>\n",
       "      <td>17.240039</td>\n",
       "    </tr>\n",
       "    <tr>\n",
       "      <th>2021-11-03</th>\n",
       "      <td>16.613128</td>\n",
       "    </tr>\n",
       "    <tr>\n",
       "      <th>2021-11-04</th>\n",
       "      <td>16.299673</td>\n",
       "    </tr>\n",
       "    <tr>\n",
       "      <th>2021-11-05</th>\n",
       "      <td>15.672762</td>\n",
       "    </tr>\n",
       "    <tr>\n",
       "      <th>2021-11-06</th>\n",
       "      <td>13.478576</td>\n",
       "    </tr>\n",
       "  </tbody>\n",
       "</table>\n",
       "</div>"
      ],
      "text/plain": [
       "            bitcoin_searches_world\n",
       "date                              \n",
       "2021-11-02               17.240039\n",
       "2021-11-03               16.613128\n",
       "2021-11-04               16.299673\n",
       "2021-11-05               15.672762\n",
       "2021-11-06               13.478576"
      ]
     },
     "execution_count": 257,
     "metadata": {},
     "output_type": "execute_result"
    }
   ],
   "source": [
    "df_interest.tail()"
   ]
  },
  {
   "cell_type": "code",
   "execution_count": 258,
   "metadata": {},
   "outputs": [
    {
     "data": {
      "text/html": [
       "<div>\n",
       "<style scoped>\n",
       "    .dataframe tbody tr th:only-of-type {\n",
       "        vertical-align: middle;\n",
       "    }\n",
       "\n",
       "    .dataframe tbody tr th {\n",
       "        vertical-align: top;\n",
       "    }\n",
       "\n",
       "    .dataframe thead th {\n",
       "        text-align: right;\n",
       "    }\n",
       "</style>\n",
       "<table border=\"1\" class=\"dataframe\">\n",
       "  <thead>\n",
       "    <tr style=\"text-align: right;\">\n",
       "      <th></th>\n",
       "      <th>bitcoin_searches_world</th>\n",
       "    </tr>\n",
       "  </thead>\n",
       "  <tbody>\n",
       "    <tr>\n",
       "      <th>count</th>\n",
       "      <td>2502.000000</td>\n",
       "    </tr>\n",
       "    <tr>\n",
       "      <th>mean</th>\n",
       "      <td>8.541811</td>\n",
       "    </tr>\n",
       "    <tr>\n",
       "      <th>std</th>\n",
       "      <td>9.766172</td>\n",
       "    </tr>\n",
       "    <tr>\n",
       "      <th>min</th>\n",
       "      <td>0.827235</td>\n",
       "    </tr>\n",
       "    <tr>\n",
       "      <th>25%</th>\n",
       "      <td>1.810133</td>\n",
       "    </tr>\n",
       "    <tr>\n",
       "      <th>50%</th>\n",
       "      <td>5.971429</td>\n",
       "    </tr>\n",
       "    <tr>\n",
       "      <th>75%</th>\n",
       "      <td>9.807770</td>\n",
       "    </tr>\n",
       "    <tr>\n",
       "      <th>max</th>\n",
       "      <td>100.000000</td>\n",
       "    </tr>\n",
       "  </tbody>\n",
       "</table>\n",
       "</div>"
      ],
      "text/plain": [
       "       bitcoin_searches_world\n",
       "count             2502.000000\n",
       "mean                 8.541811\n",
       "std                  9.766172\n",
       "min                  0.827235\n",
       "25%                  1.810133\n",
       "50%                  5.971429\n",
       "75%                  9.807770\n",
       "max                100.000000"
      ]
     },
     "execution_count": 258,
     "metadata": {},
     "output_type": "execute_result"
    }
   ],
   "source": [
    "df_interest.describe()"
   ]
  },
  {
   "cell_type": "code",
   "execution_count": 259,
   "metadata": {},
   "outputs": [
    {
     "data": {
      "image/png": "[encoded data removed]",
      "text/plain": [
       "<Figure size 1080x360 with 1 Axes>"
      ]
     },
     "metadata": {
      "needs_background": "light"
     },
     "output_type": "display_data"
    }
   ],
   "source": [
    "#%matplotlib ipympl\n",
    "%matplotlib inline\n",
    "#df_interest.plot(x='date',y='bitcoin_searches_world',figsize=(15,5),color='r')\n",
    "df_interest.plot(y='bitcoin_searches_world',figsize=(15,5),color='b')\n",
    "plt.plot([h2,h2],[0,df_interest['bitcoin_searches_world'].max()],color='r')\n",
    "plt.plot([h3,h3],[0,df_interest['bitcoin_searches_world'].max()],color='r')\n",
    "plt.title('Interest/Search index in gooogle trends (bitcoin worldwide) - Scaled to [0,100]')\n",
    "ax = plt.gca()\n",
    "ax.grid(which=\"both\", color=\"darkgray\", linestyle=\"-\")\n",
    "plt.show()"
   ]
  },
  {
   "cell_type": "markdown",
   "metadata": {},
   "source": [
    "### BTC Price"
   ]
  },
  {
   "cell_type": "code",
   "execution_count": 260,
   "metadata": {},
   "outputs": [],
   "source": [
    "df_price = pd.read_csv('data/Gemini_BTCUSD_2015_2021_hourly.csv',header=0)"
   ]
  },
  {
   "cell_type": "code",
   "execution_count": 261,
   "metadata": {},
   "outputs": [],
   "source": [
    "df_price['Date'] = pd.to_datetime(df_price['Date'])"
   ]
  },
  {
   "cell_type": "code",
   "execution_count": 262,
   "metadata": {},
   "outputs": [],
   "source": [
    "df_price.set_index('Date',inplace=True)"
   ]
  },
  {
   "cell_type": "code",
   "execution_count": 263,
   "metadata": {},
   "outputs": [
    {
     "data": {
      "text/html": [
       "<div>\n",
       "<style scoped>\n",
       "    .dataframe tbody tr th:only-of-type {\n",
       "        vertical-align: middle;\n",
       "    }\n",
       "\n",
       "    .dataframe tbody tr th {\n",
       "        vertical-align: top;\n",
       "    }\n",
       "\n",
       "    .dataframe thead th {\n",
       "        text-align: right;\n",
       "    }\n",
       "</style>\n",
       "<table border=\"1\" class=\"dataframe\">\n",
       "  <thead>\n",
       "    <tr style=\"text-align: right;\">\n",
       "      <th></th>\n",
       "      <th>Open</th>\n",
       "      <th>High</th>\n",
       "      <th>Low</th>\n",
       "      <th>Close</th>\n",
       "      <th>Volume BTC</th>\n",
       "    </tr>\n",
       "    <tr>\n",
       "      <th>Date</th>\n",
       "      <th></th>\n",
       "      <th></th>\n",
       "      <th></th>\n",
       "      <th></th>\n",
       "      <th></th>\n",
       "    </tr>\n",
       "  </thead>\n",
       "  <tbody>\n",
       "    <tr>\n",
       "      <th>2021-11-09 20:00:00</th>\n",
       "      <td>66823.93</td>\n",
       "      <td>67396.71</td>\n",
       "      <td>66684.75</td>\n",
       "      <td>67358.43</td>\n",
       "      <td>50.882830</td>\n",
       "    </tr>\n",
       "    <tr>\n",
       "      <th>2021-11-09 21:00:00</th>\n",
       "      <td>67358.43</td>\n",
       "      <td>67811.30</td>\n",
       "      <td>67269.11</td>\n",
       "      <td>67736.19</td>\n",
       "      <td>49.606191</td>\n",
       "    </tr>\n",
       "    <tr>\n",
       "      <th>2021-11-09 22:00:00</th>\n",
       "      <td>67736.19</td>\n",
       "      <td>67746.50</td>\n",
       "      <td>67022.34</td>\n",
       "      <td>67315.89</td>\n",
       "      <td>25.229918</td>\n",
       "    </tr>\n",
       "    <tr>\n",
       "      <th>2021-11-09 23:00:00</th>\n",
       "      <td>67315.89</td>\n",
       "      <td>67446.22</td>\n",
       "      <td>66767.49</td>\n",
       "      <td>66948.11</td>\n",
       "      <td>19.554279</td>\n",
       "    </tr>\n",
       "    <tr>\n",
       "      <th>2021-11-10 00:00:00</th>\n",
       "      <td>66948.11</td>\n",
       "      <td>67129.33</td>\n",
       "      <td>66933.62</td>\n",
       "      <td>67112.56</td>\n",
       "      <td>4.767027</td>\n",
       "    </tr>\n",
       "  </tbody>\n",
       "</table>\n",
       "</div>"
      ],
      "text/plain": [
       "                         Open      High       Low     Close  Volume BTC\n",
       "Date                                                                   \n",
       "2021-11-09 20:00:00  66823.93  67396.71  66684.75  67358.43   50.882830\n",
       "2021-11-09 21:00:00  67358.43  67811.30  67269.11  67736.19   49.606191\n",
       "2021-11-09 22:00:00  67736.19  67746.50  67022.34  67315.89   25.229918\n",
       "2021-11-09 23:00:00  67315.89  67446.22  66767.49  66948.11   19.554279\n",
       "2021-11-10 00:00:00  66948.11  67129.33  66933.62  67112.56    4.767027"
      ]
     },
     "execution_count": 263,
     "metadata": {},
     "output_type": "execute_result"
    }
   ],
   "source": [
    "df_price.tail()"
   ]
  },
  {
   "cell_type": "code",
   "execution_count": 264,
   "metadata": {},
   "outputs": [
    {
     "data": {
      "text/html": [
       "<div>\n",
       "<style scoped>\n",
       "    .dataframe tbody tr th:only-of-type {\n",
       "        vertical-align: middle;\n",
       "    }\n",
       "\n",
       "    .dataframe tbody tr th {\n",
       "        vertical-align: top;\n",
       "    }\n",
       "\n",
       "    .dataframe thead th {\n",
       "        text-align: right;\n",
       "    }\n",
       "</style>\n",
       "<table border=\"1\" class=\"dataframe\">\n",
       "  <thead>\n",
       "    <tr style=\"text-align: right;\">\n",
       "      <th></th>\n",
       "      <th>Open</th>\n",
       "      <th>High</th>\n",
       "      <th>Low</th>\n",
       "      <th>Close</th>\n",
       "      <th>Volume BTC</th>\n",
       "    </tr>\n",
       "  </thead>\n",
       "  <tbody>\n",
       "    <tr>\n",
       "      <th>count</th>\n",
       "      <td>51689.000000</td>\n",
       "      <td>51689.000000</td>\n",
       "      <td>51689.000000</td>\n",
       "      <td>51689.000000</td>\n",
       "      <td>53388.000000</td>\n",
       "    </tr>\n",
       "    <tr>\n",
       "      <th>mean</th>\n",
       "      <td>11660.286615</td>\n",
       "      <td>11728.639801</td>\n",
       "      <td>11586.714594</td>\n",
       "      <td>11661.597746</td>\n",
       "      <td>135.781857</td>\n",
       "    </tr>\n",
       "    <tr>\n",
       "      <th>std</th>\n",
       "      <td>15435.619691</td>\n",
       "      <td>15530.151618</td>\n",
       "      <td>15333.684495</td>\n",
       "      <td>15437.420499</td>\n",
       "      <td>266.463858</td>\n",
       "    </tr>\n",
       "    <tr>\n",
       "      <th>min</th>\n",
       "      <td>0.000000</td>\n",
       "      <td>243.600000</td>\n",
       "      <td>0.000000</td>\n",
       "      <td>243.600000</td>\n",
       "      <td>0.000000</td>\n",
       "    </tr>\n",
       "    <tr>\n",
       "      <th>25%</th>\n",
       "      <td>1192.250000</td>\n",
       "      <td>1195.770000</td>\n",
       "      <td>1188.840000</td>\n",
       "      <td>1192.330000</td>\n",
       "      <td>18.524166</td>\n",
       "    </tr>\n",
       "    <tr>\n",
       "      <th>50%</th>\n",
       "      <td>6913.940000</td>\n",
       "      <td>6949.990000</td>\n",
       "      <td>6875.000000</td>\n",
       "      <td>6914.080000</td>\n",
       "      <td>55.844551</td>\n",
       "    </tr>\n",
       "    <tr>\n",
       "      <th>75%</th>\n",
       "      <td>10685.520000</td>\n",
       "      <td>10736.110000</td>\n",
       "      <td>10629.990000</td>\n",
       "      <td>10685.630000</td>\n",
       "      <td>144.723689</td>\n",
       "    </tr>\n",
       "    <tr>\n",
       "      <th>max</th>\n",
       "      <td>68525.750000</td>\n",
       "      <td>68534.110000</td>\n",
       "      <td>68163.530000</td>\n",
       "      <td>68525.750000</td>\n",
       "      <td>8526.751048</td>\n",
       "    </tr>\n",
       "  </tbody>\n",
       "</table>\n",
       "</div>"
      ],
      "text/plain": [
       "               Open          High           Low         Close    Volume BTC\n",
       "count  51689.000000  51689.000000  51689.000000  51689.000000  53388.000000\n",
       "mean   11660.286615  11728.639801  11586.714594  11661.597746    135.781857\n",
       "std    15435.619691  15530.151618  15333.684495  15437.420499    266.463858\n",
       "min        0.000000    243.600000      0.000000    243.600000      0.000000\n",
       "25%     1192.250000   1195.770000   1188.840000   1192.330000     18.524166\n",
       "50%     6913.940000   6949.990000   6875.000000   6914.080000     55.844551\n",
       "75%    10685.520000  10736.110000  10629.990000  10685.630000    144.723689\n",
       "max    68525.750000  68534.110000  68163.530000  68525.750000   8526.751048"
      ]
     },
     "execution_count": 264,
     "metadata": {},
     "output_type": "execute_result"
    }
   ],
   "source": [
    "df_price.describe()"
   ]
  },
  {
   "cell_type": "code",
   "execution_count": 265,
   "metadata": {},
   "outputs": [
    {
     "data": {
      "image/png": "[encoded data removed]",
      "text/plain": [
       "<Figure size 1080x360 with 1 Axes>"
      ]
     },
     "metadata": {
      "needs_background": "light"
     },
     "output_type": "display_data"
    }
   ],
   "source": [
    "#%matplotlib ipympl\n",
    "%matplotlib inline\n",
    "df_price.plot(y='Close',figsize=(15,5),color='b')\n",
    "# FIXME: (low prio) vertical lines are not plotted, maybe because they have no associated data index...?\n",
    "ax = plt.gca()\n",
    "ax.plot([h2,h2],[0,df_price['Close'].max()],color='r')\n",
    "ax.plot([h3,h3],[0,df_price['Close'].max()],color='r')\n",
    "ax.grid(which=\"both\", color=\"darkgray\", linestyle=\"-\")\n",
    "plt.title('Closing price USD/BTC')\n",
    "plt.show()"
   ]
  },
  {
   "cell_type": "markdown",
   "metadata": {},
   "source": [
    "## 2. Price level histograms\n",
    "Halving epochs are analyzed starting from the halving date until the all-time-high (ATH) of the epoch.\n",
    "The number of hours at each price level is computed and ploted.\n",
    "\n",
    "**Note that the most interesting analysis in this section consists in ploting side by side the diagrams from different halving epochs.**\n",
    "That was not done; instead, a workaround consists in un/commenting each halving period (start & end datatimes) and ploting everything sequentially:\n",
    "first one halving, un/comment, then the other halving."
   ]
  },
  {
   "cell_type": "code",
   "execution_count": 266,
   "metadata": {},
   "outputs": [],
   "source": [
    "# Halving 2016: 2016-07-09\n",
    "# ATH 2017: 2017-12-17\n",
    "#start = dt.datetime(2016,7,9,0,0,0)\n",
    "#end = dt.datetime(2017,12,17,0,0,0)\n",
    "#end = dt.datetime(2017,9,15,0,0,0)\n",
    "#start = h2\n",
    "#end = a2\n",
    "# Halving 2020: 2020-05-11\n",
    "# ATH 2021: ?\n",
    "#start = dt.datetime(2020,5,11,0,0,0)\n",
    "start = h3\n",
    "end = dt.datetime(2021,11,8,0,0,0)\n",
    "if (df_price.index[-1] < end or df_interest.index[-1] < end):\n",
    "    end = min([df_price.index[-1],df_interest.index[-1]])\n",
    "duration_days = (end-start).days"
   ]
  },
  {
   "cell_type": "code",
   "execution_count": 267,
   "metadata": {},
   "outputs": [
    {
     "data": {
      "text/plain": [
       "544"
      ]
     },
     "execution_count": 267,
     "metadata": {},
     "output_type": "execute_result"
    }
   ],
   "source": [
    "duration_days"
   ]
  },
  {
   "cell_type": "code",
   "execution_count": 268,
   "metadata": {},
   "outputs": [
    {
     "data": {
      "text/plain": [
       "(13057, 5)"
      ]
     },
     "execution_count": 268,
     "metadata": {},
     "output_type": "execute_result"
    }
   ],
   "source": [
    "df_price.loc[start:end].shape"
   ]
  },
  {
   "cell_type": "code",
   "execution_count": 269,
   "metadata": {},
   "outputs": [
    {
     "data": {
      "text/plain": [
       "Open          8726.710000\n",
       "High          8811.250000\n",
       "Low           8709.620000\n",
       "Close         8775.000000\n",
       "Volume BTC      82.002092\n",
       "Name: 2020-05-11 00:00:00, dtype: float64"
      ]
     },
     "execution_count": 269,
     "metadata": {},
     "output_type": "execute_result"
    }
   ],
   "source": [
    "df_price.loc[start]"
   ]
  },
  {
   "cell_type": "code",
   "execution_count": 270,
   "metadata": {},
   "outputs": [
    {
     "name": "stdout",
     "output_type": "stream",
     "text": [
      "min_price = 8200.0, ref_price = 8709.62, max_price = 66357.6\n",
      "min_factor = 0.9414876883262415, max_factor = 7.6188857837655375, step_factor = 0.06744846561049794, step_price = 587.4505050505051\n"
     ]
    }
   ],
   "source": [
    "# Slice data window and get max & min & ref price values\n",
    "# n: number of bins or price levels for which the accumulated hours are summed\n",
    "df_window = df_price.loc[start:end]\n",
    "n = 100\n",
    "max_price = df_window['Low'].max()\n",
    "min_price = df_window['Low'].min()\n",
    "ref_price = df_window['Low'].iloc[0]\n",
    "print('min_price = {}, ref_price = {}, max_price = {}'.format(min_price, ref_price, max_price))\n",
    "# Factor: price / ref price\n",
    "df_price['Factor'] = df_price['Low']/ref_price\n",
    "df_window = df_price.loc[start:end]\n",
    "max_factor = df_window['Factor'].max()\n",
    "min_factor = df_window['Factor'].min()\n",
    "step_factor = (max_factor - min_factor) / (n-1)\n",
    "step_price = (max_price - min_price) / (n-1)\n",
    "print('min_factor = {}, max_factor = {}, step_factor = {}, step_price = {}'.format(min_factor, max_factor, step_factor, step_price))"
   ]
  },
  {
   "cell_type": "code",
   "execution_count": 271,
   "metadata": {},
   "outputs": [],
   "source": [
    "# Sum number of hours for each price level / bin\n",
    "price_bins = np.zeros(n)\n",
    "for i in range(df_window.shape[0]):\n",
    "    if not (np.isnan(df_window.iloc[i]['Low'])):\n",
    "        b = np.int(np.floor((df_window.iloc[i]['Low'] - min_price) / step_price))\n",
    "        price_bins[b] = price_bins[b] + 1"
   ]
  },
  {
   "cell_type": "code",
   "execution_count": 272,
   "metadata": {},
   "outputs": [
    {
     "data": {
      "text/plain": [
       "array([ 61., 949., 722., 355., 611., 758., 257.,  43., 180., 127.,  17.,\n",
       "        49., 110.,  86.,  59.,  40., 129., 178., 258.,  28.,   1.,   7.,\n",
       "         5.,   8.,  62.,  87.,  48.,  11.,  12.,   7.,  15.,  49.,  16.,\n",
       "        14.,  19.,  47.,  40.,  24.,  61., 173., 162., 214., 173., 238.,\n",
       "       211., 128., 189., 159., 159., 153., 136., 130., 130., 131.,  84.,\n",
       "        52.,  66.,  62.,  80.,  99.,  76., 106., 122., 126., 168., 175.,\n",
       "       228., 208., 202., 178., 140., 114.,  63.,  77.,  50.,  41.,  51.,\n",
       "       107., 157., 154., 138., 154., 163., 177., 161., 138., 109.,  85.,\n",
       "        89., 150., 108.,  88.,  94.,  53.,  25.,   9.,   5.,   6.,   6.,\n",
       "         1.])"
      ]
     },
     "execution_count": 272,
     "metadata": {},
     "output_type": "execute_result"
    }
   ],
   "source": [
    "# Hours in each price level or bin\n",
    "price_bins"
   ]
  },
  {
   "cell_type": "code",
   "execution_count": 273,
   "metadata": {},
   "outputs": [
    {
     "data": {
      "image/png": "[encoded data removed]",
      "text/plain": [
       "<Figure size 1080x360 with 1 Axes>"
      ]
     },
     "metadata": {
      "needs_background": "light"
     },
     "output_type": "display_data"
    }
   ],
   "source": [
    "df_window['Low'].hist(bins=100,figsize=(15,5))\n",
    "plt.xlabel('USD/BTC')\n",
    "plt.ylabel('Number of hours')\n",
    "ax = plt.gca()\n",
    "ax.grid(which=\"both\", color=\"darkgray\", linestyle=\"-\")"
   ]
  },
  {
   "cell_type": "code",
   "execution_count": 274,
   "metadata": {},
   "outputs": [
    {
     "data": {
      "text/plain": [
       "Text(0, 0.5, 'Number of hours')"
      ]
     },
     "execution_count": 274,
     "metadata": {},
     "output_type": "execute_result"
    },
    {
     "data": {
      "image/png": "[encoded data removed]",
      "text/plain": [
       "<Figure size 1080x360 with 1 Axes>"
      ]
     },
     "metadata": {
      "needs_background": "light"
     },
     "output_type": "display_data"
    }
   ],
   "source": [
    "# Same plot as before, but with price increase factor wrt reference price\n",
    "df_window['Factor'].hist(bins=100,figsize=(15,5))\n",
    "plt.xlabel('Price multiplication factor since halving')\n",
    "plt.ylabel('Number of hours')"
   ]
  },
  {
   "cell_type": "code",
   "execution_count": 275,
   "metadata": {},
   "outputs": [
    {
     "name": "stderr",
     "output_type": "stream",
     "text": [
      "/Users/mxagar/opt/anaconda3/envs/ds/lib/python3.7/site-packages/ipykernel_launcher.py:12: UserWarning:\n",
      "\n",
      "FixedFormatter should only be used together with FixedLocator\n",
      "\n"
     ]
    },
    {
     "data": {
      "text/plain": [
       "Text(0, 0.5, 'Number of hours')"
      ]
     },
     "execution_count": 275,
     "metadata": {},
     "output_type": "execute_result"
    },
    {
     "data": {
      "image/png": "[encoded data removed]",
      "text/plain": [
       "<Figure size 1080x360 with 1 Axes>"
      ]
     },
     "metadata": {
      "needs_background": "light"
     },
     "output_type": "display_data"
    }
   ],
   "source": [
    "# Same plot as before, but done manually\n",
    "# FIXME: However, note that the x tick values are different...\n",
    "#%matplotlib ipympl\n",
    "%matplotlib inline\n",
    "plt.figure(figsize=(15,5))\n",
    "#plt.bar(x=np.linspace(min_price,max_price,n),height=price_bins)\n",
    "plt.bar(x=range(n),height=price_bins)\n",
    "ax = plt.gca()\n",
    "ticks = ax.get_xticks()\n",
    "new_ticks = np.round(max_factor*ticks/100,decimals=2)\n",
    "new_ticks[1] = 1\n",
    "ax.set_xticklabels(new_ticks)\n",
    "plt.xlabel('Price multiplication factor since halving')\n",
    "plt.ylabel('Number of hours')"
   ]
  },
  {
   "cell_type": "code",
   "execution_count": 276,
   "metadata": {},
   "outputs": [],
   "source": [
    "# For each bin/price level, th enumber of hours in that level or higher are summed\n",
    "# That is the integral, basically\n",
    "acc_price_bins = np.zeros(n)\n",
    "l = range(n)\n",
    "for i in l[::-1]:\n",
    "    acc_price_bins[i] = price_bins[i:-1].sum()"
   ]
  },
  {
   "cell_type": "code",
   "execution_count": 277,
   "metadata": {},
   "outputs": [],
   "source": [
    "x = np.linspace(min_price,max_price,n)"
   ]
  },
  {
   "cell_type": "code",
   "execution_count": 278,
   "metadata": {},
   "outputs": [
    {
     "name": "stderr",
     "output_type": "stream",
     "text": [
      "/Users/mxagar/opt/anaconda3/envs/ds/lib/python3.7/site-packages/ipykernel_launcher.py:8: UserWarning:\n",
      "\n",
      "FixedFormatter should only be used together with FixedLocator\n",
      "\n"
     ]
    },
    {
     "data": {
      "text/plain": [
       "Text(0, 0.5, 'Number of hours in factor range or smaller')"
      ]
     },
     "execution_count": 278,
     "metadata": {},
     "output_type": "execute_result"
    },
    {
     "data": {
      "image/png": "[encoded data removed]",
      "text/plain": [
       "<Figure size 1080x360 with 1 Axes>"
      ]
     },
     "metadata": {
      "needs_background": "light"
     },
     "output_type": "display_data"
    }
   ],
   "source": [
    "# Plot the integral of the price level values\n",
    "plt.figure(figsize=(15,5))\n",
    "plt.bar(x=range(n),height=acc_price_bins)\n",
    "ax = plt.gca()\n",
    "ticks = ax.get_xticks()\n",
    "new_ticks = np.round(max_factor*ticks/100,decimals=2)\n",
    "new_ticks[1] = 1\n",
    "ax.set_xticklabels(new_ticks)\n",
    "plt.xlabel('Price multiplication factor since halving')\n",
    "plt.ylabel('Number of hours in factor range or smaller')"
   ]
  },
  {
   "cell_type": "code",
   "execution_count": 279,
   "metadata": {},
   "outputs": [
    {
     "data": {
      "text/plain": [
       "array([1.2780e+04, 1.2719e+04, 1.1770e+04, 1.1048e+04, 1.0693e+04,\n",
       "       1.0082e+04, 9.3240e+03, 9.0670e+03, 9.0240e+03, 8.8440e+03,\n",
       "       8.7170e+03, 8.7000e+03, 8.6510e+03, 8.5410e+03, 8.4550e+03,\n",
       "       8.3960e+03, 8.3560e+03, 8.2270e+03, 8.0490e+03, 7.7910e+03,\n",
       "       7.7630e+03, 7.7620e+03, 7.7550e+03, 7.7500e+03, 7.7420e+03,\n",
       "       7.6800e+03, 7.5930e+03, 7.5450e+03, 7.5340e+03, 7.5220e+03,\n",
       "       7.5150e+03, 7.5000e+03, 7.4510e+03, 7.4350e+03, 7.4210e+03,\n",
       "       7.4020e+03, 7.3550e+03, 7.3150e+03, 7.2910e+03, 7.2300e+03,\n",
       "       7.0570e+03, 6.8950e+03, 6.6810e+03, 6.5080e+03, 6.2700e+03,\n",
       "       6.0590e+03, 5.9310e+03, 5.7420e+03, 5.5830e+03, 5.4240e+03,\n",
       "       5.2710e+03, 5.1350e+03, 5.0050e+03, 4.8750e+03, 4.7440e+03,\n",
       "       4.6600e+03, 4.6080e+03, 4.5420e+03, 4.4800e+03, 4.4000e+03,\n",
       "       4.3010e+03, 4.2250e+03, 4.1190e+03, 3.9970e+03, 3.8710e+03,\n",
       "       3.7030e+03, 3.5280e+03, 3.3000e+03, 3.0920e+03, 2.8900e+03,\n",
       "       2.7120e+03, 2.5720e+03, 2.4580e+03, 2.3950e+03, 2.3180e+03,\n",
       "       2.2680e+03, 2.2270e+03, 2.1760e+03, 2.0690e+03, 1.9120e+03,\n",
       "       1.7580e+03, 1.6200e+03, 1.4660e+03, 1.3030e+03, 1.1260e+03,\n",
       "       9.6500e+02, 8.2700e+02, 7.1800e+02, 6.3300e+02, 5.4400e+02,\n",
       "       3.9400e+02, 2.8600e+02, 1.9800e+02, 1.0400e+02, 5.1000e+01,\n",
       "       2.6000e+01, 1.7000e+01, 1.2000e+01, 6.0000e+00, 0.0000e+00])"
      ]
     },
     "execution_count": 279,
     "metadata": {},
     "output_type": "execute_result"
    }
   ],
   "source": [
    "acc_price_bins"
   ]
  },
  {
   "cell_type": "code",
   "execution_count": 280,
   "metadata": {},
   "outputs": [
    {
     "data": {
      "text/plain": [
       "array([1758., 1620., 1466., 1303., 1126.,  965.,  827.,  718.,  633.,\n",
       "        544.,  394.,  286.,  198.,  104.,   51.,   26.,   17.,   12.,\n",
       "          6.])"
      ]
     },
     "execution_count": 280,
     "metadata": {},
     "output_type": "execute_result"
    }
   ],
   "source": [
    "# In the 20 highest price levels (linear split),\n",
    "# how many hours did the price stay in that level or above?\n",
    "acc_price_bins[80:-1]"
   ]
  },
  {
   "cell_type": "markdown",
   "metadata": {},
   "source": [
    "## 3. BTC Price-Interest Relationship"
   ]
  },
  {
   "cell_type": "markdown",
   "metadata": {},
   "source": [
    "This section computes the scatterplot between the BTC price and the Google trend interest (number of searches scaled to 0-100).\n",
    "Additionally, a linear regression is ccomputed (correlation, interecpt, slope)."
   ]
  },
  {
   "cell_type": "code",
   "execution_count": 281,
   "metadata": {},
   "outputs": [],
   "source": [
    "# Arrange a custom dataframe\n",
    "df_tmp = pd.DataFrame()\n",
    "df_tmp['close'] = df_price['Close'].resample(rule='D').last().loc[start:end]\n",
    "df_tmp['factor'] = df_price['Factor'].resample(rule='D').last().loc[start:end]\n",
    "df_tmp['interest'] = df_interest['bitcoin_searches_world'].loc[start:end]\n",
    "df_tmp['date'] = df_interest.loc[start:end].index\n",
    "df_tmp['day'] = range((end-start).days+1)"
   ]
  },
  {
   "cell_type": "markdown",
   "metadata": {},
   "source": [
    "The scatterplot reveals that different periods in time are clearly associated to different BTC-Interest relationships.\n",
    "Therefore, a colormap like the one chosen helps better visualize that.\n",
    "However, a better approach would be to perform a k-means clustering, and then, for each cluster the linear regression."
   ]
  },
  {
   "cell_type": "code",
   "execution_count": 282,
   "metadata": {},
   "outputs": [
    {
     "data": {
      "image/png": "[encoded data removed]",
      "text/plain": [
       "<Figure size 576x576 with 2 Axes>"
      ]
     },
     "metadata": {
      "needs_background": "light"
     },
     "output_type": "display_data"
    }
   ],
   "source": [
    "plt.figure(figsize=(8,8))\n",
    "#df1.plot.scatter(x='A',y='B',c='C',cmap='coolwarm')\n",
    "#https://matplotlib.org/3.1.1/gallery/color/colormap_reference.html\n",
    "#plt.scatter(x=df_tmp['factor'],y=df_tmp['interest'],c=df_tmp['day'],cmap='coolwarm')\n",
    "plt.scatter(x=df_tmp['factor'],y=df_tmp['interest'],c=df_tmp['day'],cmap='gist_rainbow')\n",
    "plt.xlabel('Factor of price multiplication since halving')\n",
    "plt.ylabel('Interest index [0-100]')\n",
    "cbar = plt.colorbar()\n",
    "cbar.set_label('Days since start (last halving)')"
   ]
  },
  {
   "cell_type": "code",
   "execution_count": 283,
   "metadata": {},
   "outputs": [
    {
     "data": {
      "text/plain": [
       "<seaborn.axisgrid.JointGrid at 0x7ff4b6256890>"
      ]
     },
     "execution_count": 283,
     "metadata": {},
     "output_type": "execute_result"
    },
    {
     "data": {
      "image/png": "[encoded data removed]",
      "text/plain": [
       "<Figure size 432x432 with 3 Axes>"
      ]
     },
     "metadata": {
      "needs_background": "light"
     },
     "output_type": "display_data"
    }
   ],
   "source": [
    "sns.jointplot(x='factor',y='interest',data=df_tmp,kind='reg')"
   ]
  },
  {
   "cell_type": "code",
   "execution_count": 284,
   "metadata": {},
   "outputs": [],
   "source": [
    "from sklearn.linear_model import LinearRegression"
   ]
  },
  {
   "cell_type": "code",
   "execution_count": 285,
   "metadata": {},
   "outputs": [
    {
     "data": {
      "text/html": [
       "<div>\n",
       "<style scoped>\n",
       "    .dataframe tbody tr th:only-of-type {\n",
       "        vertical-align: middle;\n",
       "    }\n",
       "\n",
       "    .dataframe tbody tr th {\n",
       "        vertical-align: top;\n",
       "    }\n",
       "\n",
       "    .dataframe thead th {\n",
       "        text-align: right;\n",
       "    }\n",
       "</style>\n",
       "<table border=\"1\" class=\"dataframe\">\n",
       "  <thead>\n",
       "    <tr style=\"text-align: right;\">\n",
       "      <th></th>\n",
       "      <th>close</th>\n",
       "      <th>factor</th>\n",
       "      <th>interest</th>\n",
       "      <th>day</th>\n",
       "    </tr>\n",
       "  </thead>\n",
       "  <tbody>\n",
       "    <tr>\n",
       "      <th>close</th>\n",
       "      <td>1.000000</td>\n",
       "      <td>0.999936</td>\n",
       "      <td>0.624476</td>\n",
       "      <td>0.844836</td>\n",
       "    </tr>\n",
       "    <tr>\n",
       "      <th>factor</th>\n",
       "      <td>0.999936</td>\n",
       "      <td>1.000000</td>\n",
       "      <td>0.620587</td>\n",
       "      <td>0.844835</td>\n",
       "    </tr>\n",
       "    <tr>\n",
       "      <th>interest</th>\n",
       "      <td>0.624476</td>\n",
       "      <td>0.620587</td>\n",
       "      <td>1.000000</td>\n",
       "      <td>0.440458</td>\n",
       "    </tr>\n",
       "    <tr>\n",
       "      <th>day</th>\n",
       "      <td>0.844836</td>\n",
       "      <td>0.844835</td>\n",
       "      <td>0.440458</td>\n",
       "      <td>1.000000</td>\n",
       "    </tr>\n",
       "  </tbody>\n",
       "</table>\n",
       "</div>"
      ],
      "text/plain": [
       "             close    factor  interest       day\n",
       "close     1.000000  0.999936  0.624476  0.844836\n",
       "factor    0.999936  1.000000  0.620587  0.844835\n",
       "interest  0.624476  0.620587  1.000000  0.440458\n",
       "day       0.844836  0.844835  0.440458  1.000000"
      ]
     },
     "execution_count": 285,
     "metadata": {},
     "output_type": "execute_result"
    }
   ],
   "source": [
    "# In general, I would say that there a weak or no linear relationship between both variables in the complete period\n",
    "# There seems to be a higher correlation between the price and the time :)\n",
    "# If clustering is applied, as noted above, better regression values are expected for each sub-period\n",
    "df_tmp.corr()"
   ]
  },
  {
   "cell_type": "code",
   "execution_count": 286,
   "metadata": {},
   "outputs": [],
   "source": [
    "lm = LinearRegression()"
   ]
  },
  {
   "cell_type": "code",
   "execution_count": 287,
   "metadata": {},
   "outputs": [
    {
     "data": {
      "text/plain": [
       "(545, 1)"
      ]
     },
     "execution_count": 287,
     "metadata": {},
     "output_type": "execute_result"
    }
   ],
   "source": [
    "X = df_tmp['factor'].values.reshape(df_tmp['factor'].shape[0],1)\n",
    "X.shape"
   ]
  },
  {
   "cell_type": "code",
   "execution_count": 288,
   "metadata": {},
   "outputs": [
    {
     "data": {
      "text/plain": [
       "(545, 1)"
      ]
     },
     "execution_count": 288,
     "metadata": {},
     "output_type": "execute_result"
    }
   ],
   "source": [
    "y = df_tmp['interest'].values.reshape(df_tmp['interest'].shape[0],1)\n",
    "y.shape"
   ]
  },
  {
   "cell_type": "code",
   "execution_count": 289,
   "metadata": {},
   "outputs": [
    {
     "data": {
      "text/plain": [
       "LinearRegression()"
      ]
     },
     "execution_count": 289,
     "metadata": {},
     "output_type": "execute_result"
    }
   ],
   "source": [
    "lm.fit(X,y)"
   ]
  },
  {
   "cell_type": "code",
   "execution_count": 290,
   "metadata": {},
   "outputs": [
    {
     "data": {
      "text/plain": [
       "array([5.85459686])"
      ]
     },
     "execution_count": 290,
     "metadata": {},
     "output_type": "execute_result"
    }
   ],
   "source": [
    "# Intercept: alpha: which is the base interest value if no price factor is present? (i.e., factor = 1)\n",
    "lm.intercept_"
   ]
  },
  {
   "cell_type": "code",
   "execution_count": 291,
   "metadata": {},
   "outputs": [
    {
     "data": {
      "text/plain": [
       "array([[3.18981396]])"
      ]
     },
     "execution_count": 291,
     "metadata": {},
     "output_type": "execute_result"
    }
   ],
   "source": [
    "# Slope: beta: for an increase of a factor unit, how much does the interest increase?\n",
    "# Caveat: Factors are not linear value increases, but percentual ratios related to the reference value...\n",
    "lm.coef_"
   ]
  },
  {
   "cell_type": "code",
   "execution_count": 292,
   "metadata": {},
   "outputs": [],
   "source": [
    "predictions = lm.predict(X)"
   ]
  },
  {
   "cell_type": "code",
   "execution_count": 293,
   "metadata": {},
   "outputs": [
    {
     "data": {
      "image/png": "[encoded data removed]",
      "text/plain": [
       "<Figure size 432x432 with 1 Axes>"
      ]
     },
     "metadata": {
      "needs_background": "light"
     },
     "output_type": "display_data"
    }
   ],
   "source": [
    "# Real interest against predicted interest\n",
    "# We should get something close to the y=x line\n",
    "plt.figure(figsize=(6,6))\n",
    "plt.scatter(x=y,y=predictions)\n",
    "plt.plot([0,0],[100,100],'-r')\n",
    "plt.xlim([0,100])\n",
    "plt.ylim([0,100])\n",
    "plt.title('Real interest vs Predicted interest')\n",
    "plt.xlabel('Real interest')\n",
    "plt.ylabel('Predicted interest')\n",
    "plt.show()"
   ]
  },
  {
   "cell_type": "markdown",
   "metadata": {},
   "source": [
    "## 4. Low and Upper Baselines"
   ]
  },
  {
   "cell_type": "markdown",
   "metadata": {},
   "source": [
    "Here polynomials are fitted to upper and bottom values during the selected time period, specified in the previous section.\n",
    "The Vandermonde matrix is built with day values (X) and linked to the price values through a linear equation (y).\n",
    "The pseudoinverse of X premultiplied to y yields the coefficients of the polynomial.\n",
    "The degree of the polynomial can be chosen manually -- the quadratic seems to work best."
   ]
  },
  {
   "cell_type": "code",
   "execution_count": 294,
   "metadata": {},
   "outputs": [],
   "source": [
    "# Low: dates chosen manually by visually inspecting the price curve\n",
    "# 2020-07-20\n",
    "# 2020-10-18\n",
    "# 2020-11-27\n",
    "# 2021-07-21\n",
    "# 2021-10-01\n",
    "low_dates = np.array([dt.datetime(2020,7,20,0,0,0),\n",
    "             dt.datetime(2020,10,18,0,0,0),\n",
    "             dt.datetime(2020,11,27,0,0,0),\n",
    "             dt.datetime(2021,7,21,0,0,0),\n",
    "             dt.datetime(2021,10,1,0,0,0)])\n",
    "low_days = low_dates - h3\n",
    "low_days = np.array([d.days for d in low_days])\n",
    "# High: dates chosen manually by visually inspecting the price curve\n",
    "# 2020-08-18\n",
    "# 2020-11-30\n",
    "# 2021-01-09\n",
    "# 2021-02-22\n",
    "# 2021-04-14\n",
    "high_dates = np.array([dt.datetime(2020,8,18,0,0,0),\n",
    "              dt.datetime(2020,11,30,0,0,0),\n",
    "              dt.datetime(2021,1,9,0,0,0),\n",
    "              dt.datetime(2021,2,22,0,0,0),\n",
    "              dt.datetime(2021,4,14,0,0,0)])\n",
    "high_days = high_dates - h3\n",
    "high_days = np.array([d.days for d in high_days])"
   ]
  },
  {
   "cell_type": "code",
   "execution_count": 295,
   "metadata": {},
   "outputs": [
    {
     "data": {
      "text/plain": [
       "array([ 70, 160, 200, 436, 508])"
      ]
     },
     "execution_count": 295,
     "metadata": {},
     "output_type": "execute_result"
    }
   ],
   "source": [
    "low_days"
   ]
  },
  {
   "cell_type": "code",
   "execution_count": 296,
   "metadata": {},
   "outputs": [
    {
     "data": {
      "text/plain": [
       "array([ 99, 203, 243, 287, 338])"
      ]
     },
     "execution_count": 296,
     "metadata": {},
     "output_type": "execute_result"
    }
   ],
   "source": [
    "high_days"
   ]
  },
  {
   "cell_type": "code",
   "execution_count": 297,
   "metadata": {},
   "outputs": [],
   "source": [
    "# DEGREE of polynomials\n",
    "degree = 2"
   ]
  },
  {
   "cell_type": "code",
   "execution_count": 298,
   "metadata": {},
   "outputs": [],
   "source": [
    "# Low polynomial: Support\n",
    "x = low_days\n",
    "X = np.vander(x, N=degree+1, increasing=True)\n",
    "y = df_tmp['close'].loc[low_dates].values"
   ]
  },
  {
   "cell_type": "code",
   "execution_count": 299,
   "metadata": {},
   "outputs": [],
   "source": [
    "X_pinv = np.linalg.pinv(X)\n",
    "b_low = np.matmul(X_pinv,y)"
   ]
  },
  {
   "cell_type": "code",
   "execution_count": 300,
   "metadata": {},
   "outputs": [
    {
     "data": {
      "text/plain": [
       "array([ 1.00859744e+04, -1.20644498e+01,  1.62518822e-01])"
      ]
     },
     "execution_count": 300,
     "metadata": {},
     "output_type": "execute_result"
    }
   ],
   "source": [
    "# b: b0, b1, b2, ... -> b0 + b1*x + b2*x**2 + ...\n",
    "b_low"
   ]
  },
  {
   "cell_type": "code",
   "execution_count": 301,
   "metadata": {},
   "outputs": [],
   "source": [
    "# High polynomial: Resistance\n",
    "x = high_days\n",
    "X = np.vander(x, N=degree+1, increasing=True)\n",
    "y = df_tmp['close'].loc[high_dates].values\n",
    "X_pinv = np.linalg.pinv(X)\n",
    "b_high = np.matmul(X_pinv,y)"
   ]
  },
  {
   "cell_type": "code",
   "execution_count": 302,
   "metadata": {},
   "outputs": [
    {
     "data": {
      "text/plain": [
       "array([ 5.95125494e+03, -9.00979296e+00,  5.53863193e-01])"
      ]
     },
     "execution_count": 302,
     "metadata": {},
     "output_type": "execute_result"
    }
   ],
   "source": [
    "# b: b0, b1, b2, ... -> b0 + b1*x + b2*x**2 + ...\n",
    "b_high"
   ]
  },
  {
   "cell_type": "markdown",
   "metadata": {},
   "source": [
    "Once all polynomial coefficients are known, we simply plot the price and the support curves.\n",
    "We need to compute the polynomial values for that."
   ]
  },
  {
   "cell_type": "code",
   "execution_count": 303,
   "metadata": {},
   "outputs": [
    {
     "data": {
      "image/png": "[encoded data removed]",
      "text/plain": [
       "<Figure size 1080x360 with 1 Axes>"
      ]
     },
     "metadata": {
      "needs_background": "light"
     },
     "output_type": "display_data"
    }
   ],
   "source": [
    "# FIXME: display dates in X axis rather than day numbers...\n",
    "today = dt.datetime(2021,11,4,0,0,0)\n",
    "#offset = 0\n",
    "offset = 250\n",
    "x = np.arange((today-h3).days+offset)\n",
    "y_low = np.zeros(len(x))\n",
    "y_high = np.zeros(len(x))\n",
    "for i in range(len(b_low)):\n",
    "    b = b_low[i]\n",
    "    y_low = y_low + b*(x**i)\n",
    "for i in range(len(b_high)):\n",
    "    b = b_high[i]\n",
    "    y_high = y_high + b*(x**i)\n",
    "plt.figure(figsize=(15,5))\n",
    "plt.plot(x,y_high,'r--')\n",
    "plt.plot(x,y_low,'b--')\n",
    "#\n",
    "y_close = df_tmp['close'].values\n",
    "min_d = min(len(x),len(y_close))\n",
    "plt.plot(x[:min_d],y_close[:min_d],'y')\n",
    "ax=plt.gca()\n",
    "ax.set_yscale('log')\n",
    "ax.grid(which=\"both\", color=\"darkgray\", linestyle=\"-\")"
   ]
  },
  {
   "cell_type": "markdown",
   "metadata": {},
   "source": [
    "## 5. Comparisons: BTC, ETH, SPY"
   ]
  },
  {
   "cell_type": "markdown",
   "metadata": {},
   "source": [
    "In this section different price values are compared along the selected time period: BTC, ETH, SPY.\n",
    "SPY is the ETF that contains the whole SP500, so it represents the SP500 market."
   ]
  },
  {
   "cell_type": "code",
   "execution_count": 304,
   "metadata": {},
   "outputs": [],
   "source": [
    "from pandas_datareader import data, wb\n",
    "import pandas as pd\n",
    "import numpy as np\n",
    "import datetime as dt\n",
    "import seaborn as sns\n",
    "%matplotlib inline\n",
    "#%matplotlib notebook"
   ]
  },
  {
   "cell_type": "code",
   "execution_count": 305,
   "metadata": {},
   "outputs": [],
   "source": [
    "# Halving 2016: 2016-07-09\n",
    "# ATH 2017: 2017-12-17\n",
    "#start = dt.datetime(2016,7,9,0,0,0)\n",
    "#end = dt.datetime(2017,12,17,0,0,0)\n",
    "#end = dt.datetime(2017,9,15,0,0,0)\n",
    "# Halving 2020: 2020-05-11\n",
    "# ATH 2021: ?\n",
    "#start = dt.datetime(2020,5,11,0,0,0)\n",
    "start = h3\n",
    "end = dt.datetime(2021,11,8,0,0,0)"
   ]
  },
  {
   "cell_type": "code",
   "execution_count": 306,
   "metadata": {},
   "outputs": [],
   "source": [
    "df_btc = pd.read_csv('data/Gemini_BTCUSD_2015_2021_hourly.csv',header=0)\n",
    "df_btc['Date'] = pd.to_datetime(df_btc['Date'])\n",
    "df_btc.set_index('Date',inplace=True)"
   ]
  },
  {
   "cell_type": "code",
   "execution_count": 307,
   "metadata": {},
   "outputs": [
    {
     "data": {
      "text/html": [
       "<div>\n",
       "<style scoped>\n",
       "    .dataframe tbody tr th:only-of-type {\n",
       "        vertical-align: middle;\n",
       "    }\n",
       "\n",
       "    .dataframe tbody tr th {\n",
       "        vertical-align: top;\n",
       "    }\n",
       "\n",
       "    .dataframe thead th {\n",
       "        text-align: right;\n",
       "    }\n",
       "</style>\n",
       "<table border=\"1\" class=\"dataframe\">\n",
       "  <thead>\n",
       "    <tr style=\"text-align: right;\">\n",
       "      <th></th>\n",
       "      <th>Open</th>\n",
       "      <th>High</th>\n",
       "      <th>Low</th>\n",
       "      <th>Close</th>\n",
       "      <th>Volume BTC</th>\n",
       "    </tr>\n",
       "    <tr>\n",
       "      <th>Date</th>\n",
       "      <th></th>\n",
       "      <th></th>\n",
       "      <th></th>\n",
       "      <th></th>\n",
       "      <th></th>\n",
       "    </tr>\n",
       "  </thead>\n",
       "  <tbody>\n",
       "    <tr>\n",
       "      <th>2015-10-08 13:00:00</th>\n",
       "      <td>0.00</td>\n",
       "      <td>245.00</td>\n",
       "      <td>0.00</td>\n",
       "      <td>245.00</td>\n",
       "      <td>0.606654</td>\n",
       "    </tr>\n",
       "    <tr>\n",
       "      <th>2015-10-08 14:00:00</th>\n",
       "      <td>245.00</td>\n",
       "      <td>245.00</td>\n",
       "      <td>244.50</td>\n",
       "      <td>245.00</td>\n",
       "      <td>4.453649</td>\n",
       "    </tr>\n",
       "    <tr>\n",
       "      <th>2015-10-08 15:00:00</th>\n",
       "      <td>245.00</td>\n",
       "      <td>245.00</td>\n",
       "      <td>244.92</td>\n",
       "      <td>244.92</td>\n",
       "      <td>3.016926</td>\n",
       "    </tr>\n",
       "    <tr>\n",
       "      <th>2015-10-08 16:00:00</th>\n",
       "      <td>244.92</td>\n",
       "      <td>244.92</td>\n",
       "      <td>244.25</td>\n",
       "      <td>244.25</td>\n",
       "      <td>3.895252</td>\n",
       "    </tr>\n",
       "    <tr>\n",
       "      <th>2015-10-08 17:00:00</th>\n",
       "      <td>244.25</td>\n",
       "      <td>244.99</td>\n",
       "      <td>244.02</td>\n",
       "      <td>244.99</td>\n",
       "      <td>3.920632</td>\n",
       "    </tr>\n",
       "  </tbody>\n",
       "</table>\n",
       "</div>"
      ],
      "text/plain": [
       "                       Open    High     Low   Close  Volume BTC\n",
       "Date                                                           \n",
       "2015-10-08 13:00:00    0.00  245.00    0.00  245.00    0.606654\n",
       "2015-10-08 14:00:00  245.00  245.00  244.50  245.00    4.453649\n",
       "2015-10-08 15:00:00  245.00  245.00  244.92  244.92    3.016926\n",
       "2015-10-08 16:00:00  244.92  244.92  244.25  244.25    3.895252\n",
       "2015-10-08 17:00:00  244.25  244.99  244.02  244.99    3.920632"
      ]
     },
     "execution_count": 307,
     "metadata": {},
     "output_type": "execute_result"
    }
   ],
   "source": [
    "df_btc.head()"
   ]
  },
  {
   "cell_type": "code",
   "execution_count": 308,
   "metadata": {},
   "outputs": [],
   "source": [
    "df_eth = pd.read_csv('data/Bitstamp_ETHUSD_2017_2021_hourly.csv',header=0)\n",
    "df_eth['Date'] = pd.to_datetime(df_eth['Date'])\n",
    "df_eth.set_index('Date',inplace=True)"
   ]
  },
  {
   "cell_type": "code",
   "execution_count": 309,
   "metadata": {},
   "outputs": [
    {
     "data": {
      "text/html": [
       "<div>\n",
       "<style scoped>\n",
       "    .dataframe tbody tr th:only-of-type {\n",
       "        vertical-align: middle;\n",
       "    }\n",
       "\n",
       "    .dataframe tbody tr th {\n",
       "        vertical-align: top;\n",
       "    }\n",
       "\n",
       "    .dataframe thead th {\n",
       "        text-align: right;\n",
       "    }\n",
       "</style>\n",
       "<table border=\"1\" class=\"dataframe\">\n",
       "  <thead>\n",
       "    <tr style=\"text-align: right;\">\n",
       "      <th></th>\n",
       "      <th>Open</th>\n",
       "      <th>High</th>\n",
       "      <th>Low</th>\n",
       "      <th>Close</th>\n",
       "      <th>Volume ETH</th>\n",
       "      <th>Volume USD</th>\n",
       "    </tr>\n",
       "    <tr>\n",
       "      <th>Date</th>\n",
       "      <th></th>\n",
       "      <th></th>\n",
       "      <th></th>\n",
       "      <th></th>\n",
       "      <th></th>\n",
       "      <th></th>\n",
       "    </tr>\n",
       "  </thead>\n",
       "  <tbody>\n",
       "    <tr>\n",
       "      <th>2017-08-16 16:00:00</th>\n",
       "      <td>300.0</td>\n",
       "      <td>300.0</td>\n",
       "      <td>300.0</td>\n",
       "      <td>300.0</td>\n",
       "      <td>0.02</td>\n",
       "      <td>6.0</td>\n",
       "    </tr>\n",
       "    <tr>\n",
       "      <th>2017-08-16 17:00:00</th>\n",
       "      <td>300.0</td>\n",
       "      <td>300.0</td>\n",
       "      <td>300.0</td>\n",
       "      <td>300.0</td>\n",
       "      <td>0.00</td>\n",
       "      <td>0.0</td>\n",
       "    </tr>\n",
       "    <tr>\n",
       "      <th>2017-08-16 18:00:00</th>\n",
       "      <td>300.0</td>\n",
       "      <td>300.0</td>\n",
       "      <td>300.0</td>\n",
       "      <td>300.0</td>\n",
       "      <td>0.00</td>\n",
       "      <td>0.0</td>\n",
       "    </tr>\n",
       "    <tr>\n",
       "      <th>2017-08-16 19:00:00</th>\n",
       "      <td>300.0</td>\n",
       "      <td>300.0</td>\n",
       "      <td>300.0</td>\n",
       "      <td>300.0</td>\n",
       "      <td>0.00</td>\n",
       "      <td>0.0</td>\n",
       "    </tr>\n",
       "    <tr>\n",
       "      <th>2017-08-16 20:00:00</th>\n",
       "      <td>300.0</td>\n",
       "      <td>300.0</td>\n",
       "      <td>300.0</td>\n",
       "      <td>300.0</td>\n",
       "      <td>0.00</td>\n",
       "      <td>0.0</td>\n",
       "    </tr>\n",
       "  </tbody>\n",
       "</table>\n",
       "</div>"
      ],
      "text/plain": [
       "                      Open   High    Low  Close  Volume ETH  Volume USD\n",
       "Date                                                                   \n",
       "2017-08-16 16:00:00  300.0  300.0  300.0  300.0        0.02         6.0\n",
       "2017-08-16 17:00:00  300.0  300.0  300.0  300.0        0.00         0.0\n",
       "2017-08-16 18:00:00  300.0  300.0  300.0  300.0        0.00         0.0\n",
       "2017-08-16 19:00:00  300.0  300.0  300.0  300.0        0.00         0.0\n",
       "2017-08-16 20:00:00  300.0  300.0  300.0  300.0        0.00         0.0"
      ]
     },
     "execution_count": 309,
     "metadata": {},
     "output_type": "execute_result"
    }
   ],
   "source": [
    "df_eth.head()"
   ]
  },
  {
   "cell_type": "code",
   "execution_count": 310,
   "metadata": {},
   "outputs": [],
   "source": [
    "# Get SPY data with the pandas data-reader\n",
    "df_spy = data.DataReader(\"SPY\", 'yahoo', start, end)"
   ]
  },
  {
   "cell_type": "code",
   "execution_count": 311,
   "metadata": {},
   "outputs": [
    {
     "data": {
      "text/html": [
       "<div>\n",
       "<style scoped>\n",
       "    .dataframe tbody tr th:only-of-type {\n",
       "        vertical-align: middle;\n",
       "    }\n",
       "\n",
       "    .dataframe tbody tr th {\n",
       "        vertical-align: top;\n",
       "    }\n",
       "\n",
       "    .dataframe thead th {\n",
       "        text-align: right;\n",
       "    }\n",
       "</style>\n",
       "<table border=\"1\" class=\"dataframe\">\n",
       "  <thead>\n",
       "    <tr style=\"text-align: right;\">\n",
       "      <th></th>\n",
       "      <th>High</th>\n",
       "      <th>Low</th>\n",
       "      <th>Open</th>\n",
       "      <th>Close</th>\n",
       "      <th>Volume</th>\n",
       "      <th>Adj Close</th>\n",
       "    </tr>\n",
       "    <tr>\n",
       "      <th>Date</th>\n",
       "      <th></th>\n",
       "      <th></th>\n",
       "      <th></th>\n",
       "      <th></th>\n",
       "      <th></th>\n",
       "      <th></th>\n",
       "    </tr>\n",
       "  </thead>\n",
       "  <tbody>\n",
       "    <tr>\n",
       "      <th>2020-05-11</th>\n",
       "      <td>294.000000</td>\n",
       "      <td>289.880005</td>\n",
       "      <td>290.339996</td>\n",
       "      <td>292.500000</td>\n",
       "      <td>79514200.0</td>\n",
       "      <td>286.028168</td>\n",
       "    </tr>\n",
       "    <tr>\n",
       "      <th>2020-05-12</th>\n",
       "      <td>294.239990</td>\n",
       "      <td>286.519989</td>\n",
       "      <td>293.790009</td>\n",
       "      <td>286.670013</td>\n",
       "      <td>95870800.0</td>\n",
       "      <td>280.327209</td>\n",
       "    </tr>\n",
       "    <tr>\n",
       "      <th>2020-05-13</th>\n",
       "      <td>287.190002</td>\n",
       "      <td>278.959991</td>\n",
       "      <td>286.059998</td>\n",
       "      <td>281.600006</td>\n",
       "      <td>144721100.0</td>\n",
       "      <td>275.369385</td>\n",
       "    </tr>\n",
       "    <tr>\n",
       "      <th>2020-05-14</th>\n",
       "      <td>285.109985</td>\n",
       "      <td>272.989990</td>\n",
       "      <td>278.950012</td>\n",
       "      <td>284.970001</td>\n",
       "      <td>121977900.0</td>\n",
       "      <td>278.664795</td>\n",
       "    </tr>\n",
       "    <tr>\n",
       "      <th>2020-05-15</th>\n",
       "      <td>286.329987</td>\n",
       "      <td>281.339996</td>\n",
       "      <td>282.369995</td>\n",
       "      <td>286.279999</td>\n",
       "      <td>111146300.0</td>\n",
       "      <td>279.945862</td>\n",
       "    </tr>\n",
       "  </tbody>\n",
       "</table>\n",
       "</div>"
      ],
      "text/plain": [
       "                  High         Low        Open       Close       Volume  \\\n",
       "Date                                                                      \n",
       "2020-05-11  294.000000  289.880005  290.339996  292.500000   79514200.0   \n",
       "2020-05-12  294.239990  286.519989  293.790009  286.670013   95870800.0   \n",
       "2020-05-13  287.190002  278.959991  286.059998  281.600006  144721100.0   \n",
       "2020-05-14  285.109985  272.989990  278.950012  284.970001  121977900.0   \n",
       "2020-05-15  286.329987  281.339996  282.369995  286.279999  111146300.0   \n",
       "\n",
       "             Adj Close  \n",
       "Date                    \n",
       "2020-05-11  286.028168  \n",
       "2020-05-12  280.327209  \n",
       "2020-05-13  275.369385  \n",
       "2020-05-14  278.664795  \n",
       "2020-05-15  279.945862  "
      ]
     },
     "execution_count": 311,
     "metadata": {},
     "output_type": "execute_result"
    }
   ],
   "source": [
    "df_spy.head()"
   ]
  },
  {
   "cell_type": "code",
   "execution_count": 312,
   "metadata": {},
   "outputs": [],
   "source": [
    "df_btc['btc'] = df_btc['Close']\n",
    "df_eth['eth'] = df_eth['Close']\n",
    "df = pd.concat([df_btc['btc'], df_eth['eth']], axis = 1,join='outer').dropna()"
   ]
  },
  {
   "cell_type": "code",
   "execution_count": 313,
   "metadata": {},
   "outputs": [],
   "source": [
    "df = df.resample(rule='D').last().loc[start:end]"
   ]
  },
  {
   "cell_type": "code",
   "execution_count": 314,
   "metadata": {},
   "outputs": [],
   "source": [
    "df_spy['spy'] = df_spy['Adj Close']\n",
    "df = pd.concat([df, df_spy['spy']], axis = 1,join='outer').dropna()"
   ]
  },
  {
   "cell_type": "code",
   "execution_count": 315,
   "metadata": {},
   "outputs": [
    {
     "data": {
      "text/plain": [
       "<AxesSubplot:xlabel='Date'>"
      ]
     },
     "execution_count": 315,
     "metadata": {},
     "output_type": "execute_result"
    },
    {
     "data": {
      "image/png": "[encoded data removed]",
      "text/plain": [
       "<Figure size 1080x360 with 1 Axes>"
      ]
     },
     "metadata": {
      "needs_background": "light"
     },
     "output_type": "display_data"
    }
   ],
   "source": [
    "df.plot(figsize=(15,5),logy=True)"
   ]
  },
  {
   "cell_type": "code",
   "execution_count": 316,
   "metadata": {},
   "outputs": [
    {
     "data": {
      "text/html": [
       "<div>\n",
       "<style scoped>\n",
       "    .dataframe tbody tr th:only-of-type {\n",
       "        vertical-align: middle;\n",
       "    }\n",
       "\n",
       "    .dataframe tbody tr th {\n",
       "        vertical-align: top;\n",
       "    }\n",
       "\n",
       "    .dataframe thead th {\n",
       "        text-align: right;\n",
       "    }\n",
       "</style>\n",
       "<table border=\"1\" class=\"dataframe\">\n",
       "  <thead>\n",
       "    <tr style=\"text-align: right;\">\n",
       "      <th></th>\n",
       "      <th>btc</th>\n",
       "      <th>eth</th>\n",
       "      <th>spy</th>\n",
       "    </tr>\n",
       "    <tr>\n",
       "      <th>Date</th>\n",
       "      <th></th>\n",
       "      <th></th>\n",
       "      <th></th>\n",
       "    </tr>\n",
       "  </thead>\n",
       "  <tbody>\n",
       "    <tr>\n",
       "      <th>2020-05-11</th>\n",
       "      <td>8571.50</td>\n",
       "      <td>186.18</td>\n",
       "      <td>286.028168</td>\n",
       "    </tr>\n",
       "    <tr>\n",
       "      <th>2020-05-12</th>\n",
       "      <td>8822.66</td>\n",
       "      <td>189.79</td>\n",
       "      <td>280.327209</td>\n",
       "    </tr>\n",
       "    <tr>\n",
       "      <th>2020-05-13</th>\n",
       "      <td>9311.58</td>\n",
       "      <td>199.80</td>\n",
       "      <td>275.369385</td>\n",
       "    </tr>\n",
       "    <tr>\n",
       "      <th>2020-05-14</th>\n",
       "      <td>9338.85</td>\n",
       "      <td>198.58</td>\n",
       "      <td>278.664795</td>\n",
       "    </tr>\n",
       "    <tr>\n",
       "      <th>2020-05-15</th>\n",
       "      <td>9314.16</td>\n",
       "      <td>194.57</td>\n",
       "      <td>279.945862</td>\n",
       "    </tr>\n",
       "  </tbody>\n",
       "</table>\n",
       "</div>"
      ],
      "text/plain": [
       "                btc     eth         spy\n",
       "Date                                   \n",
       "2020-05-11  8571.50  186.18  286.028168\n",
       "2020-05-12  8822.66  189.79  280.327209\n",
       "2020-05-13  9311.58  199.80  275.369385\n",
       "2020-05-14  9338.85  198.58  278.664795\n",
       "2020-05-15  9314.16  194.57  279.945862"
      ]
     },
     "execution_count": 316,
     "metadata": {},
     "output_type": "execute_result"
    }
   ],
   "source": [
    "df.head()"
   ]
  },
  {
   "cell_type": "code",
   "execution_count": 317,
   "metadata": {},
   "outputs": [
    {
     "data": {
      "text/plain": [
       "<seaborn.axisgrid.PairGrid at 0x7ff4d30b1890>"
      ]
     },
     "execution_count": 317,
     "metadata": {},
     "output_type": "execute_result"
    },
    {
     "data": {
      "image/png": "[encoded data removed]",
      "text/plain": [
       "<Figure size 540x540 with 12 Axes>"
      ]
     },
     "metadata": {
      "needs_background": "light"
     },
     "output_type": "display_data"
    }
   ],
   "source": [
    "sns.pairplot(df)"
   ]
  },
  {
   "cell_type": "markdown",
   "metadata": {},
   "source": [
    "### Scatterplot: ETH vs BTC\n",
    "\n",
    "Data from Halving 3 (2020-) suggests that we could cluster different periods of time to perform regressions of each subspace.\n",
    "In general, it seems that when a new period starts, the correlation is quite high and then it decreses.\n",
    "Plotting the scatterplot with the colormap helps to better understand that concept."
   ]
  },
  {
   "cell_type": "code",
   "execution_count": 318,
   "metadata": {},
   "outputs": [
    {
     "data": {
      "image/png": "[encoded data removed]",
      "text/plain": [
       "<Figure size 576x576 with 2 Axes>"
      ]
     },
     "metadata": {
      "needs_background": "light"
     },
     "output_type": "display_data"
    }
   ],
   "source": [
    "plt.figure(figsize=(8,8))\n",
    "#https://matplotlib.org/3.1.1/gallery/color/colormap_reference.html\n",
    "plt.scatter(x=df['btc'],y=df['eth'],c=df.index,cmap='gist_rainbow')\n",
    "plt.xlabel('BTC')\n",
    "plt.ylabel('ETH')\n",
    "cbar = plt.colorbar()\n",
    "cbar.set_label('Days since start (last halving)')"
   ]
  },
  {
   "cell_type": "markdown",
   "metadata": {},
   "source": [
    "### Returns\n",
    "\n",
    "Now, the returns (daily percent changes) are analyzed for each of the three assets: BTC, ETH, SPY."
   ]
  },
  {
   "cell_type": "code",
   "execution_count": 319,
   "metadata": {},
   "outputs": [
    {
     "data": {
      "text/html": [
       "<div>\n",
       "<style scoped>\n",
       "    .dataframe tbody tr th:only-of-type {\n",
       "        vertical-align: middle;\n",
       "    }\n",
       "\n",
       "    .dataframe tbody tr th {\n",
       "        vertical-align: top;\n",
       "    }\n",
       "\n",
       "    .dataframe thead th {\n",
       "        text-align: right;\n",
       "    }\n",
       "</style>\n",
       "<table border=\"1\" class=\"dataframe\">\n",
       "  <thead>\n",
       "    <tr style=\"text-align: right;\">\n",
       "      <th></th>\n",
       "      <th>btc</th>\n",
       "      <th>eth</th>\n",
       "      <th>spy</th>\n",
       "    </tr>\n",
       "    <tr>\n",
       "      <th>Date</th>\n",
       "      <th></th>\n",
       "      <th></th>\n",
       "      <th></th>\n",
       "    </tr>\n",
       "  </thead>\n",
       "  <tbody>\n",
       "    <tr>\n",
       "      <th>2020-05-11</th>\n",
       "      <td>NaN</td>\n",
       "      <td>NaN</td>\n",
       "      <td>NaN</td>\n",
       "    </tr>\n",
       "    <tr>\n",
       "      <th>2020-05-12</th>\n",
       "      <td>0.029302</td>\n",
       "      <td>0.019390</td>\n",
       "      <td>-0.019931</td>\n",
       "    </tr>\n",
       "    <tr>\n",
       "      <th>2020-05-13</th>\n",
       "      <td>0.055416</td>\n",
       "      <td>0.052743</td>\n",
       "      <td>-0.017686</td>\n",
       "    </tr>\n",
       "    <tr>\n",
       "      <th>2020-05-14</th>\n",
       "      <td>0.002929</td>\n",
       "      <td>-0.006106</td>\n",
       "      <td>0.011967</td>\n",
       "    </tr>\n",
       "    <tr>\n",
       "      <th>2020-05-15</th>\n",
       "      <td>-0.002644</td>\n",
       "      <td>-0.020193</td>\n",
       "      <td>0.004597</td>\n",
       "    </tr>\n",
       "  </tbody>\n",
       "</table>\n",
       "</div>"
      ],
      "text/plain": [
       "                 btc       eth       spy\n",
       "Date                                    \n",
       "2020-05-11       NaN       NaN       NaN\n",
       "2020-05-12  0.029302  0.019390 -0.019931\n",
       "2020-05-13  0.055416  0.052743 -0.017686\n",
       "2020-05-14  0.002929 -0.006106  0.011967\n",
       "2020-05-15 -0.002644 -0.020193  0.004597"
      ]
     },
     "execution_count": 319,
     "metadata": {},
     "output_type": "execute_result"
    }
   ],
   "source": [
    "returns = pd.DataFrame()\n",
    "for asset in df.columns:\n",
    "    returns[asset] = df[asset].pct_change()\n",
    "# The return percent of the first day is NaN\n",
    "returns.head()"
   ]
  },
  {
   "cell_type": "code",
   "execution_count": 320,
   "metadata": {},
   "outputs": [
    {
     "data": {
      "text/plain": [
       "<seaborn.axisgrid.PairGrid at 0x7ff4b7145e50>"
      ]
     },
     "execution_count": 320,
     "metadata": {},
     "output_type": "execute_result"
    },
    {
     "data": {
      "image/png": "[encoded data removed]",
      "text/plain": [
       "<Figure size 540x540 with 12 Axes>"
      ]
     },
     "metadata": {
      "needs_background": "light"
     },
     "output_type": "display_data"
    }
   ],
   "source": [
    "sns.pairplot(returns[1:].dropna())"
   ]
  },
  {
   "cell_type": "code",
   "execution_count": 321,
   "metadata": {},
   "outputs": [
    {
     "data": {
      "text/plain": [
       "<AxesSubplot:xlabel='eth', ylabel='Count'>"
      ]
     },
     "execution_count": 321,
     "metadata": {},
     "output_type": "execute_result"
    },
    {
     "data": {
      "image/png": "[encoded data removed]",
      "text/plain": [
       "<Figure size 1080x720 with 1 Axes>"
      ]
     },
     "metadata": {
      "needs_background": "light"
     },
     "output_type": "display_data"
    }
   ],
   "source": [
    "# The wider the distribution, the higher the variance\n",
    "# We see visually that var(ETH) > var(BTC) > var(SPY)\n",
    "# Higher variance, higher risk, but also higher return...\n",
    "plt.figure(figsize=(15,10))\n",
    "sns.histplot(returns['eth'],\n",
    "             color='red',\n",
    "             bins=100,\n",
    "             kde=True)\n",
    "sns.histplot(returns['btc'],\n",
    "             color='green',\n",
    "             bins=100,\n",
    "             kde=True)\n",
    "sns.histplot(returns['spy'],\n",
    "             color='blue',\n",
    "             bins=100,\n",
    "             kde=True)"
   ]
  },
  {
   "cell_type": "markdown",
   "metadata": {},
   "source": [
    "#### Correlation matrices\n",
    "\n",
    "Correlation matrix encoded with colors: very intuitive for visual people (most of us).\n",
    "Three types of results are analyzed, leading to interesting observations:\n",
    "- All returns (positive and negative): ETH and BTC seem quite correlated, but SPY is decoupled from both of them\n",
    "- Positive returns: There seems to be no relevant correlation between any of them\n",
    "- Negative returns: These a stong correlation between ETH and BTC, but not for SPY\n",
    "\n",
    "Therefore, insights:\n",
    "- BTC & ETH are decoupled from SP500 stocks\n",
    "- When BTC or ETH increase, the counterpart does not have to increase necessarily\n",
    "- When BTC or ETH decrease, the couterpart does too"
   ]
  },
  {
   "cell_type": "code",
   "execution_count": 322,
   "metadata": {},
   "outputs": [
    {
     "data": {
      "text/plain": [
       "<AxesSubplot:>"
      ]
     },
     "execution_count": 322,
     "metadata": {},
     "output_type": "execute_result"
    },
    {
     "data": {
      "image/png": "[encoded data removed]",
      "text/plain": [
       "<Figure size 432x288 with 2 Axes>"
      ]
     },
     "metadata": {
      "needs_background": "light"
     },
     "output_type": "display_data"
    }
   ],
   "source": [
    "# All returns\n",
    "sns.heatmap(returns.corr(), cmap='coolwarm', annot=True)"
   ]
  },
  {
   "cell_type": "code",
   "execution_count": 323,
   "metadata": {},
   "outputs": [
    {
     "data": {
      "text/plain": [
       "<AxesSubplot:>"
      ]
     },
     "execution_count": 323,
     "metadata": {},
     "output_type": "execute_result"
    },
    {
     "data": {
      "image/png": "[encoded data removed]",
      "text/plain": [
       "<Figure size 432x288 with 2 Axes>"
      ]
     },
     "metadata": {
      "needs_background": "light"
     },
     "output_type": "display_data"
    }
   ],
   "source": [
    "# Only positive returns\n",
    "sns.heatmap(returns[returns>0].corr(), cmap='coolwarm', annot=True)"
   ]
  },
  {
   "cell_type": "code",
   "execution_count": 324,
   "metadata": {},
   "outputs": [
    {
     "data": {
      "text/plain": [
       "<AxesSubplot:>"
      ]
     },
     "execution_count": 324,
     "metadata": {},
     "output_type": "execute_result"
    },
    {
     "data": {
      "image/png": "[encoded data removed]",
      "text/plain": [
       "<Figure size 432x288 with 2 Axes>"
      ]
     },
     "metadata": {
      "needs_background": "light"
     },
     "output_type": "display_data"
    }
   ],
   "source": [
    "# Only mnegative returns\n",
    "sns.heatmap(returns[returns<0].corr(), cmap='coolwarm', annot=True)"
   ]
  },
  {
   "cell_type": "code",
   "execution_count": 325,
   "metadata": {},
   "outputs": [
    {
     "data": {
      "text/plain": [
       "<AxesSubplot:xlabel='Date'>"
      ]
     },
     "execution_count": 325,
     "metadata": {},
     "output_type": "execute_result"
    },
    {
     "data": {
      "image/png": "[encoded data removed]",
      "text/plain": [
       "<Figure size 1152x576 with 1 Axes>"
      ]
     },
     "metadata": {
      "needs_background": "light"
     },
     "output_type": "display_data"
    }
   ],
   "source": [
    "# Significant averaging periods:\n",
    "# 14: because of the difficulty adjustement\n",
    "# 30: one month\n",
    "# 200 days: typically, tehre seems to be a bottom there\n",
    "df['btc MA14'] = df['btc'].rolling(14).mean()\n",
    "df['btc MA30'] = df['btc'].rolling(30).mean()\n",
    "df['btc MA200'] = df['btc'].rolling(200).mean()\n",
    "df[['btc','btc MA14','btc MA30','btc MA200','eth']].plot(figsize=(16,8),logy=True)"
   ]
  },
  {
   "cell_type": "markdown",
   "metadata": {},
   "source": [
    "### Plotly"
   ]
  },
  {
   "cell_type": "markdown",
   "metadata": {},
   "source": [
    "In this section, some nice plotting is done thanks to Plotly."
   ]
  },
  {
   "cell_type": "code",
   "execution_count": 326,
   "metadata": {},
   "outputs": [],
   "source": [
    "import plotly\n",
    "import chart_studio.plotly as py\n",
    "import cufflinks as cf"
   ]
  },
  {
   "cell_type": "code",
   "execution_count": 327,
   "metadata": {},
   "outputs": [
    {
     "data": {
      "text/html": [
       "        <script type=\"text/javascript\">\n",
       "        window.PlotlyConfig = {MathJaxConfig: 'local'};\n",
       "        if (window.MathJax) {MathJax.Hub.Config({SVG: {font: \"STIX-Web\"}});}\n",
       "        if (typeof require !== 'undefined') {\n",
       "        require.undef(\"plotly\");\n",
       "        requirejs.config({\n",
       "            paths: {\n",
       "                'plotly': ['https://cdn.plot.ly/plotly-2.4.2.min']\n",
       "            }\n",
       "        });\n",
       "        require(['plotly'], function(Plotly) {\n",
       "            window._Plotly = Plotly;\n",
       "        });\n",
       "        }\n",
       "        </script>\n",
       "        "
      ]
     },
     "metadata": {},
     "output_type": "display_data"
    },
    {
     "data": {
      "text/html": [
       "        <script type=\"text/javascript\">\n",
       "        window.PlotlyConfig = {MathJaxConfig: 'local'};\n",
       "        if (window.MathJax) {MathJax.Hub.Config({SVG: {font: \"STIX-Web\"}});}\n",
       "        if (typeof require !== 'undefined') {\n",
       "        require.undef(\"plotly\");\n",
       "        requirejs.config({\n",
       "            paths: {\n",
       "                'plotly': ['https://cdn.plot.ly/plotly-2.4.2.min']\n",
       "            }\n",
       "        });\n",
       "        require(['plotly'], function(Plotly) {\n",
       "            window._Plotly = Plotly;\n",
       "        });\n",
       "        }\n",
       "        </script>\n",
       "        "
      ]
     },
     "metadata": {},
     "output_type": "display_data"
    }
   ],
   "source": [
    "# Import plotly-offline modules\n",
    "from plotly.offline import download_plotlyjs, init_notebook_mode, plot, iplot\n",
    "# Connect Javascript to our notebook - this is for notebook development\n",
    "init_notebook_mode(connected=True)\n",
    "# In order to work offline through cufflinks, we need to run this:\n",
    "cf.go_offline()"
   ]
  },
  {
   "cell_type": "code",
   "execution_count": 328,
   "metadata": {},
   "outputs": [
    {
     "data": {
      "application/vnd.plotly.v1+json": {
       "config": {
        "linkText": "Export to plot.ly",
        "plotlyServerURL": "https://plot.ly",
        "showLink": true
       },
       "data": [
        {
         "line": {
          "color": "rgba(255, 153, 51, 1.0)",
          "dash": "solid",
          "shape": "linear",
          "width": 1.3
         },
         "mode": "lines",
         "name": "btc",
         "text": "",
         "type": "scatter",
         "x": [
          "2020-05-11",
          "2020-05-12",
          "2020-05-13",
          "2020-05-14",
          "2020-05-15",
          "2020-05-18",
          "2020-05-19",
          "2020-05-20",
          "2020-05-21",
          "2020-05-22",
          "2020-05-26",
          "2020-05-27",
          "2020-05-28",
          "2020-05-29",
          "2020-06-01",
          "2020-06-02",
          "2020-06-03",
          "2020-06-04",
          "2020-06-05",
          "2020-06-08",
          "2020-06-09",
          "2020-06-10",
          "2020-06-11",
          "2020-06-12",
          "2020-06-15",
          "2020-06-16",
          "2020-06-17",
          "2020-06-18",
          "2020-06-19",
          "2020-06-22",
          "2020-06-23",
          "2020-06-24",
          "2020-06-25",
          "2020-06-26",
          "2020-06-29",
          "2020-06-30",
          "2020-07-01",
          "2020-07-02",
          "2020-07-06",
          "2020-07-07",
          "2020-07-08",
          "2020-07-09",
          "2020-07-10",
          "2020-07-13",
          "2020-07-14",
          "2020-07-15",
          "2020-07-16",
          "2020-07-17",
          "2020-07-20",
          "2020-07-21",
          "2020-07-22",
          "2020-07-23",
          "2020-07-24",
          "2020-07-27",
          "2020-07-28",
          "2020-07-29",
          "2020-07-30",
          "2020-07-31",
          "2020-08-03",
          "2020-08-04",
          "2020-08-05",
          "2020-08-06",
          "2020-08-07",
          "2020-08-10",
          "2020-08-11",
          "2020-08-12",
          "2020-08-13",
          "2020-08-14",
          "2020-08-17",
          "2020-08-18",
          "2020-08-19",
          "2020-08-20",
          "2020-08-21",
          "2020-08-24",
          "2020-08-25",
          "2020-08-26",
          "2020-08-27",
          "2020-08-28",
          "2020-08-31",
          "2020-09-01",
          "2020-09-02",
          "2020-09-03",
          "2020-09-04",
          "2020-09-08",
          "2020-09-09",
          "2020-09-10",
          "2020-09-11",
          "2020-09-14",
          "2020-09-15",
          "2020-09-16",
          "2020-09-17",
          "2020-09-18",
          "2020-09-21",
          "2020-09-22",
          "2020-09-23",
          "2020-09-24",
          "2020-09-25",
          "2020-09-28",
          "2020-09-29",
          "2020-09-30",
          "2020-10-01",
          "2020-10-02",
          "2020-10-05",
          "2020-10-06",
          "2020-10-07",
          "2020-10-08",
          "2020-10-09",
          "2020-10-12",
          "2020-10-13",
          "2020-10-14",
          "2020-10-15",
          "2020-10-16",
          "2020-10-19",
          "2020-10-20",
          "2020-10-21",
          "2020-10-22",
          "2020-10-23",
          "2020-10-26",
          "2020-10-27",
          "2020-10-28",
          "2020-10-29",
          "2020-10-30",
          "2020-11-02",
          "2020-11-03",
          "2020-11-04",
          "2020-11-05",
          "2020-11-06",
          "2020-11-09",
          "2020-11-10",
          "2020-11-11",
          "2020-11-12",
          "2020-11-13",
          "2020-11-16",
          "2020-11-17",
          "2020-11-18",
          "2020-11-19",
          "2020-11-20",
          "2020-11-23",
          "2020-12-21",
          "2020-12-22",
          "2020-12-23",
          "2020-12-24",
          "2020-12-28",
          "2020-12-29",
          "2020-12-30",
          "2020-12-31",
          "2021-01-04",
          "2021-01-05",
          "2021-01-06",
          "2021-01-07",
          "2021-01-08",
          "2021-01-11",
          "2021-01-12",
          "2021-01-13",
          "2021-01-14",
          "2021-01-15",
          "2021-01-19",
          "2021-01-20",
          "2021-01-21",
          "2021-01-22",
          "2021-01-25",
          "2021-01-26",
          "2021-01-27",
          "2021-01-28",
          "2021-01-29",
          "2021-02-01",
          "2021-02-02",
          "2021-02-03",
          "2021-02-04",
          "2021-02-05",
          "2021-02-08",
          "2021-02-09",
          "2021-02-10",
          "2021-02-11",
          "2021-02-12",
          "2021-02-16",
          "2021-02-17",
          "2021-02-18",
          "2021-02-19",
          "2021-02-22",
          "2021-02-23",
          "2021-02-24",
          "2021-02-25",
          "2021-02-26",
          "2021-03-01",
          "2021-03-02",
          "2021-03-03",
          "2021-03-04",
          "2021-03-05",
          "2021-03-08",
          "2021-03-09",
          "2021-03-10",
          "2021-03-11",
          "2021-03-12",
          "2021-03-15",
          "2021-03-16",
          "2021-03-17",
          "2021-03-18",
          "2021-03-19",
          "2021-03-22",
          "2021-03-23",
          "2021-03-24",
          "2021-03-25",
          "2021-03-26",
          "2021-03-29",
          "2021-03-30",
          "2021-03-31",
          "2021-04-01",
          "2021-04-05",
          "2021-04-06",
          "2021-04-07",
          "2021-04-08",
          "2021-04-09",
          "2021-04-12",
          "2021-04-13",
          "2021-04-14",
          "2021-04-15",
          "2021-04-16",
          "2021-04-19",
          "2021-04-20",
          "2021-04-21",
          "2021-04-22",
          "2021-04-23",
          "2021-04-26",
          "2021-04-27",
          "2021-04-28",
          "2021-04-29",
          "2021-04-30",
          "2021-05-03",
          "2021-05-04",
          "2021-05-05",
          "2021-05-06",
          "2021-05-07",
          "2021-05-10",
          "2021-05-11",
          "2021-05-12",
          "2021-05-13",
          "2021-05-14",
          "2021-05-17",
          "2021-05-18",
          "2021-05-19",
          "2021-05-20",
          "2021-05-21",
          "2021-05-24",
          "2021-05-25",
          "2021-05-26",
          "2021-05-27",
          "2021-05-28",
          "2021-06-01",
          "2021-06-02",
          "2021-06-03",
          "2021-06-04",
          "2021-06-07",
          "2021-06-08",
          "2021-06-09",
          "2021-06-10",
          "2021-06-11",
          "2021-06-14",
          "2021-06-15",
          "2021-06-16",
          "2021-06-17",
          "2021-06-18",
          "2021-06-21",
          "2021-06-22",
          "2021-06-23",
          "2021-06-24",
          "2021-06-25",
          "2021-06-28",
          "2021-06-29",
          "2021-06-30",
          "2021-07-01",
          "2021-07-02",
          "2021-07-06",
          "2021-07-07",
          "2021-07-08",
          "2021-07-09",
          "2021-07-12",
          "2021-07-13",
          "2021-07-14",
          "2021-07-15",
          "2021-07-16",
          "2021-07-19",
          "2021-07-20",
          "2021-07-21",
          "2021-07-22",
          "2021-07-23",
          "2021-07-26",
          "2021-07-27",
          "2021-07-28",
          "2021-07-29",
          "2021-07-30",
          "2021-08-02",
          "2021-08-03",
          "2021-08-04",
          "2021-08-05",
          "2021-08-06",
          "2021-08-09",
          "2021-08-10",
          "2021-08-11",
          "2021-08-12",
          "2021-08-13",
          "2021-08-16",
          "2021-08-17",
          "2021-08-18",
          "2021-08-19",
          "2021-08-20",
          "2021-08-23",
          "2021-08-24",
          "2021-08-25",
          "2021-08-26",
          "2021-08-27",
          "2021-08-30",
          "2021-08-31",
          "2021-09-01",
          "2021-09-02",
          "2021-09-03",
          "2021-09-07",
          "2021-09-08",
          "2021-09-09",
          "2021-09-10",
          "2021-09-13",
          "2021-09-14",
          "2021-09-15",
          "2021-09-16",
          "2021-09-17",
          "2021-09-20",
          "2021-09-21",
          "2021-09-22",
          "2021-09-23",
          "2021-09-24",
          "2021-09-27",
          "2021-09-28",
          "2021-09-29",
          "2021-09-30",
          "2021-10-01",
          "2021-10-04",
          "2021-10-05",
          "2021-10-06",
          "2021-10-07",
          "2021-10-08",
          "2021-10-11",
          "2021-10-12",
          "2021-10-13",
          "2021-10-14",
          "2021-10-15",
          "2021-10-18",
          "2021-10-19",
          "2021-10-20",
          "2021-10-21",
          "2021-10-22",
          "2021-10-25",
          "2021-10-26",
          "2021-10-27",
          "2021-10-28",
          "2021-10-29",
          "2021-11-01",
          "2021-11-02",
          "2021-11-03",
          "2021-11-04",
          "2021-11-05",
          "2021-11-08"
         ],
         "y": [
          8571.5,
          8822.66,
          9311.58,
          9338.85,
          9314.16,
          9729.56,
          9777.43,
          9514.6,
          9057.09,
          9165,
          8842.3,
          9210,
          9203.61,
          9428.26,
          10208.9,
          9519.82,
          9665.42,
          9796.41,
          9623.88,
          9784.63,
          9786.5,
          9893.01,
          9266.87,
          9469.72,
          9429.22,
          9526.4,
          9453.44,
          9458.3,
          9297.78,
          9687.7,
          9621.38,
          9296.46,
          9238.91,
          9154.99,
          9189.46,
          9133,
          9237.69,
          9235.27,
          9350.21,
          9259.88,
          9444.51,
          9237.93,
          9292.33,
          9239.48,
          9258.28,
          9193.01,
          9197.64,
          9155.32,
          9167.51,
          9396.53,
          9538.43,
          9618.73,
          9553.93,
          11044.83,
          10937.91,
          11114.89,
          11172,
          11351.77,
          11240.12,
          11197.18,
          11764.66,
          11779.79,
          11615.69,
          11906.57,
          11388.86,
          11575.01,
          11800,
          11779.2,
          12315.7,
          11959.45,
          11765.1,
          11770.68,
          11535.18,
          11761.99,
          11327.31,
          11478.3,
          11473.15,
          11548.53,
          11662.17,
          11928.77,
          11400.27,
          10174.02,
          10462.35,
          10133.44,
          10234,
          10236.86,
          10402.81,
          10684.06,
          10787.96,
          10959.26,
          10950.75,
          10937.65,
          10420.69,
          10542.58,
          10238.87,
          10237.48,
          10691.91,
          10698.34,
          10845.73,
          10784.04,
          10628.6,
          10576.2,
          10795.58,
          10609.31,
          10670.77,
          10929.04,
          11058.1,
          11535.57,
          11430.34,
          11428,
          11506.14,
          11324.27,
          11761.81,
          11923,
          12820.75,
          12989.32,
          12942.83,
          13071.75,
          13660,
          13299.32,
          13474.15,
          13581.26,
          13586.85,
          14052.63,
          14165.54,
          15617.32,
          15609.29,
          15348.2,
          15318,
          15710.87,
          15710.02,
          16350,
          16724.83,
          17687.37,
          17801.44,
          17828.5,
          18686,
          18130.52,
          22742.24,
          23850,
          23237.1,
          23738.23,
          27044.13,
          27368.9,
          28898.55,
          28979.74,
          32039.02,
          34090.9,
          36907.04,
          39500,
          40635.59,
          35487.44,
          34016.68,
          37420.4,
          39147.75,
          36791.61,
          35902.41,
          35498.21,
          30852.67,
          33030.08,
          32288.47,
          32536.21,
          30453.91,
          33438.74,
          34257.22,
          33554.84,
          35522.57,
          37714.59,
          37000,
          38311.58,
          46434.63,
          46507,
          44852.74,
          48007.14,
          47480.98,
          49194.17,
          52169.93,
          51585.21,
          55984.59,
          54159.14,
          48955.33,
          49773.07,
          47091.33,
          46362.02,
          49665.52,
          48493.93,
          50393,
          48367.92,
          48773.28,
          52415.59,
          54917.86,
          55840.08,
          57822.39,
          57234.47,
          55634.81,
          56944.15,
          58909.04,
          57627.15,
          58146.54,
          54106.31,
          54399.92,
          52301,
          51330.47,
          55061.72,
          57605.13,
          58768.86,
          58803.84,
          58727.57,
          59118.85,
          58035.08,
          55943.27,
          58086.19,
          58121.59,
          59863.12,
          63619.79,
          62972.24,
          63237.66,
          61436.65,
          55691.79,
          56505.04,
          53804.03,
          51700.89,
          51207.59,
          54060.48,
          55083.6,
          54886.56,
          53609.84,
          57802.19,
          57211.36,
          53239.53,
          57524.92,
          56450.03,
          57394.12,
          55882.44,
          56775.24,
          49451,
          49680.22,
          49887.23,
          43583.02,
          42886,
          36757.42,
          40571.72,
          37333.59,
          38861.83,
          38390.3,
          39293.17,
          38568.36,
          35683.96,
          36686.39,
          37589.22,
          39252.3,
          36868.01,
          33591.69,
          33414.85,
          37406.66,
          36663.07,
          37344.58,
          40536,
          40198.48,
          38354.1,
          38095.14,
          35808.56,
          31615.64,
          32524.5,
          33680.9,
          33805.44,
          31601.95,
          34501.06,
          35914.8,
          35021,
          33524.28,
          33817.43,
          34224.72,
          33884.88,
          32875.95,
          33831,
          33109.34,
          32714.31,
          32821.17,
          31877.19,
          31395.43,
          30828.83,
          29797.23,
          32142.86,
          32294.63,
          33648.18,
          37245.9,
          39487.31,
          40023.29,
          40042.74,
          42211.58,
          39157.74,
          38189.65,
          39700,
          40889.84,
          42808.8,
          46279.23,
          45596.74,
          45550.01,
          44430.99,
          47836.11,
          45911.98,
          44685.69,
          44715.19,
          46760.73,
          49328.89,
          49536.71,
          47712.86,
          49010.65,
          46877.9,
          49083.17,
          46999.61,
          47153.97,
          48843.71,
          49287.38,
          50021.95,
          46869.5,
          46085.75,
          46387.04,
          44861.72,
          44959.7,
          47144.08,
          48149.55,
          47762.94,
          47285.85,
          43005.87,
          40715.82,
          43573.83,
          44897.19,
          42847.94,
          42173.21,
          41038.99,
          41544.92,
          43830.08,
          48166.36,
          49236.38,
          51525.46,
          55324.89,
          53791.32,
          53949.4,
          57500,
          56019.08,
          57382.21,
          57319,
          61665.41,
          62080.22,
          64291.8,
          66039.76,
          62218.56,
          60695.95,
          63084.81,
          60300.4,
          58473.61,
          60602.63,
          62292.8,
          60961.5,
          63258.2,
          62939.34,
          61452.63,
          61020.37,
          67552.21
         ]
        },
        {
         "line": {
          "color": "rgba(55, 128, 191, 1.0)",
          "dash": "solid",
          "shape": "linear",
          "width": 1.3
         },
         "mode": "lines",
         "name": "SMA(14)",
         "text": "",
         "type": "scatter",
         "x": [
          "2020-05-11",
          "2020-05-12",
          "2020-05-13",
          "2020-05-14",
          "2020-05-15",
          "2020-05-18",
          "2020-05-19",
          "2020-05-20",
          "2020-05-21",
          "2020-05-22",
          "2020-05-26",
          "2020-05-27",
          "2020-05-28",
          "2020-05-29",
          "2020-06-01",
          "2020-06-02",
          "2020-06-03",
          "2020-06-04",
          "2020-06-05",
          "2020-06-08",
          "2020-06-09",
          "2020-06-10",
          "2020-06-11",
          "2020-06-12",
          "2020-06-15",
          "2020-06-16",
          "2020-06-17",
          "2020-06-18",
          "2020-06-19",
          "2020-06-22",
          "2020-06-23",
          "2020-06-24",
          "2020-06-25",
          "2020-06-26",
          "2020-06-29",
          "2020-06-30",
          "2020-07-01",
          "2020-07-02",
          "2020-07-06",
          "2020-07-07",
          "2020-07-08",
          "2020-07-09",
          "2020-07-10",
          "2020-07-13",
          "2020-07-14",
          "2020-07-15",
          "2020-07-16",
          "2020-07-17",
          "2020-07-20",
          "2020-07-21",
          "2020-07-22",
          "2020-07-23",
          "2020-07-24",
          "2020-07-27",
          "2020-07-28",
          "2020-07-29",
          "2020-07-30",
          "2020-07-31",
          "2020-08-03",
          "2020-08-04",
          "2020-08-05",
          "2020-08-06",
          "2020-08-07",
          "2020-08-10",
          "2020-08-11",
          "2020-08-12",
          "2020-08-13",
          "2020-08-14",
          "2020-08-17",
          "2020-08-18",
          "2020-08-19",
          "2020-08-20",
          "2020-08-21",
          "2020-08-24",
          "2020-08-25",
          "2020-08-26",
          "2020-08-27",
          "2020-08-28",
          "2020-08-31",
          "2020-09-01",
          "2020-09-02",
          "2020-09-03",
          "2020-09-04",
          "2020-09-08",
          "2020-09-09",
          "2020-09-10",
          "2020-09-11",
          "2020-09-14",
          "2020-09-15",
          "2020-09-16",
          "2020-09-17",
          "2020-09-18",
          "2020-09-21",
          "2020-09-22",
          "2020-09-23",
          "2020-09-24",
          "2020-09-25",
          "2020-09-28",
          "2020-09-29",
          "2020-09-30",
          "2020-10-01",
          "2020-10-02",
          "2020-10-05",
          "2020-10-06",
          "2020-10-07",
          "2020-10-08",
          "2020-10-09",
          "2020-10-12",
          "2020-10-13",
          "2020-10-14",
          "2020-10-15",
          "2020-10-16",
          "2020-10-19",
          "2020-10-20",
          "2020-10-21",
          "2020-10-22",
          "2020-10-23",
          "2020-10-26",
          "2020-10-27",
          "2020-10-28",
          "2020-10-29",
          "2020-10-30",
          "2020-11-02",
          "2020-11-03",
          "2020-11-04",
          "2020-11-05",
          "2020-11-06",
          "2020-11-09",
          "2020-11-10",
          "2020-11-11",
          "2020-11-12",
          "2020-11-13",
          "2020-11-16",
          "2020-11-17",
          "2020-11-18",
          "2020-11-19",
          "2020-11-20",
          "2020-11-23",
          "2020-12-21",
          "2020-12-22",
          "2020-12-23",
          "2020-12-24",
          "2020-12-28",
          "2020-12-29",
          "2020-12-30",
          "2020-12-31",
          "2021-01-04",
          "2021-01-05",
          "2021-01-06",
          "2021-01-07",
          "2021-01-08",
          "2021-01-11",
          "2021-01-12",
          "2021-01-13",
          "2021-01-14",
          "2021-01-15",
          "2021-01-19",
          "2021-01-20",
          "2021-01-21",
          "2021-01-22",
          "2021-01-25",
          "2021-01-26",
          "2021-01-27",
          "2021-01-28",
          "2021-01-29",
          "2021-02-01",
          "2021-02-02",
          "2021-02-03",
          "2021-02-04",
          "2021-02-05",
          "2021-02-08",
          "2021-02-09",
          "2021-02-10",
          "2021-02-11",
          "2021-02-12",
          "2021-02-16",
          "2021-02-17",
          "2021-02-18",
          "2021-02-19",
          "2021-02-22",
          "2021-02-23",
          "2021-02-24",
          "2021-02-25",
          "2021-02-26",
          "2021-03-01",
          "2021-03-02",
          "2021-03-03",
          "2021-03-04",
          "2021-03-05",
          "2021-03-08",
          "2021-03-09",
          "2021-03-10",
          "2021-03-11",
          "2021-03-12",
          "2021-03-15",
          "2021-03-16",
          "2021-03-17",
          "2021-03-18",
          "2021-03-19",
          "2021-03-22",
          "2021-03-23",
          "2021-03-24",
          "2021-03-25",
          "2021-03-26",
          "2021-03-29",
          "2021-03-30",
          "2021-03-31",
          "2021-04-01",
          "2021-04-05",
          "2021-04-06",
          "2021-04-07",
          "2021-04-08",
          "2021-04-09",
          "2021-04-12",
          "2021-04-13",
          "2021-04-14",
          "2021-04-15",
          "2021-04-16",
          "2021-04-19",
          "2021-04-20",
          "2021-04-21",
          "2021-04-22",
          "2021-04-23",
          "2021-04-26",
          "2021-04-27",
          "2021-04-28",
          "2021-04-29",
          "2021-04-30",
          "2021-05-03",
          "2021-05-04",
          "2021-05-05",
          "2021-05-06",
          "2021-05-07",
          "2021-05-10",
          "2021-05-11",
          "2021-05-12",
          "2021-05-13",
          "2021-05-14",
          "2021-05-17",
          "2021-05-18",
          "2021-05-19",
          "2021-05-20",
          "2021-05-21",
          "2021-05-24",
          "2021-05-25",
          "2021-05-26",
          "2021-05-27",
          "2021-05-28",
          "2021-06-01",
          "2021-06-02",
          "2021-06-03",
          "2021-06-04",
          "2021-06-07",
          "2021-06-08",
          "2021-06-09",
          "2021-06-10",
          "2021-06-11",
          "2021-06-14",
          "2021-06-15",
          "2021-06-16",
          "2021-06-17",
          "2021-06-18",
          "2021-06-21",
          "2021-06-22",
          "2021-06-23",
          "2021-06-24",
          "2021-06-25",
          "2021-06-28",
          "2021-06-29",
          "2021-06-30",
          "2021-07-01",
          "2021-07-02",
          "2021-07-06",
          "2021-07-07",
          "2021-07-08",
          "2021-07-09",
          "2021-07-12",
          "2021-07-13",
          "2021-07-14",
          "2021-07-15",
          "2021-07-16",
          "2021-07-19",
          "2021-07-20",
          "2021-07-21",
          "2021-07-22",
          "2021-07-23",
          "2021-07-26",
          "2021-07-27",
          "2021-07-28",
          "2021-07-29",
          "2021-07-30",
          "2021-08-02",
          "2021-08-03",
          "2021-08-04",
          "2021-08-05",
          "2021-08-06",
          "2021-08-09",
          "2021-08-10",
          "2021-08-11",
          "2021-08-12",
          "2021-08-13",
          "2021-08-16",
          "2021-08-17",
          "2021-08-18",
          "2021-08-19",
          "2021-08-20",
          "2021-08-23",
          "2021-08-24",
          "2021-08-25",
          "2021-08-26",
          "2021-08-27",
          "2021-08-30",
          "2021-08-31",
          "2021-09-01",
          "2021-09-02",
          "2021-09-03",
          "2021-09-07",
          "2021-09-08",
          "2021-09-09",
          "2021-09-10",
          "2021-09-13",
          "2021-09-14",
          "2021-09-15",
          "2021-09-16",
          "2021-09-17",
          "2021-09-20",
          "2021-09-21",
          "2021-09-22",
          "2021-09-23",
          "2021-09-24",
          "2021-09-27",
          "2021-09-28",
          "2021-09-29",
          "2021-09-30",
          "2021-10-01",
          "2021-10-04",
          "2021-10-05",
          "2021-10-06",
          "2021-10-07",
          "2021-10-08",
          "2021-10-11",
          "2021-10-12",
          "2021-10-13",
          "2021-10-14",
          "2021-10-15",
          "2021-10-18",
          "2021-10-19",
          "2021-10-20",
          "2021-10-21",
          "2021-10-22",
          "2021-10-25",
          "2021-10-26",
          "2021-10-27",
          "2021-10-28",
          "2021-10-29",
          "2021-11-01",
          "2021-11-02",
          "2021-11-03",
          "2021-11-04",
          "2021-11-05",
          "2021-11-08"
         ],
         "y": [
          "",
          "",
          "",
          "",
          "",
          "",
          "",
          "",
          "",
          "",
          "",
          "",
          "",
          9234.757142857143,
          9351.714285714286,
          9401.511428571428,
          9426.785714285714,
          9459.468571428572,
          9481.591428571428,
          9485.525,
          9486.172857142856,
          9513.202142857144,
          9528.18642857143,
          9549.952142857144,
          9591.875,
          9614.475,
          9632.320000000002,
          9634.465714285714,
          9569.385714285714,
          9581.377142857144,
          9578.231428571427,
          9542.520714285714,
          9515.022857142858,
          9470.048571428571,
          9427.402857142855,
          9373.11642857143,
          9371.032142857144,
          9354.285714285714,
          9348.642142857143,
          9329.605,
          9328.967142857144,
          9313.226428571428,
          9312.837142857143,
          9280.821428571428,
          9254.885714285714,
          9247.496428571429,
          9244.548571428571,
          9244.572142857143,
          9243.004285714285,
          9261.827857142856,
          9283.309285714286,
          9310.699285714287,
          9325.250714285714,
          9452.747142857143,
          9559.41857142857,
          9693.487142857144,
          9827.749285714284,
          9978.627142857144,
          10120.187142857143,
          10263.342142857144,
          10446.700714285715,
          10634.162857142857,
          10809.032857142856,
          10988.32142857143,
          11120.494999999999,
          11260.229285714286,
          11420.662857142857,
          11473.117857142859,
          11571.531428571428,
          11631.857142857143,
          11674.221428571429,
          11704.143571428573,
          11725.219285714285,
          11765.562857142857,
          11734.323571428573,
          11712.788571428571,
          11702.607142857143,
          11677.032857142856,
          11696.555000000002,
          11721.823571428571,
          11693.27142857143,
          11578.615714285714,
          11446.233571428573,
          11315.804285714286,
          11206.44,
          11096.881428571429,
          11015.997857142856,
          10939.002857142856,
          10900.477857142858,
          10863.403571428571,
          10826.089285714286,
          10782.455,
          10693.777857142855,
          10594.764285714287,
          10511.807142857142,
          10516.34,
          10532.737142857144,
          10573.087142857143,
          10616.782142857142,
          10655.86642857143,
          10671.994285714287,
          10664.289999999999,
          10664.834285714285,
          10639.837857142858,
          10619.839285714286,
          10619.224285714285,
          10664.753571428573,
          10735.68142857143,
          10820.78642857143,
          10905.823571428571,
          10963.982857142855,
          11008.692142857142,
          11074.12642857143,
          11155.480714285715,
          11312.062857142857,
          11484.42857142857,
          11637.80357142857,
          11813.692142857142,
          12027.208571428573,
          12196.514285714287,
          12369.089285714286,
          12515.210000000001,
          12669.246428571427,
          12856.72,
          13046.677142857143,
          13353.323571428571,
          13628.14357142857,
          13872.800714285713,
          14051.175714285713,
          14245.572142857143,
          14443.228571428572,
          14677.389285714287,
          14896.305714285714,
          15209.737857142856,
          15518.83,
          15822.204285714284,
          16186.429285714286,
          16477.707142857143,
          17090.32857142857,
          17678.37714285714,
          18223.220714285715,
          18822.50857142857,
          19660.089285714286,
          20492.805714285718,
          21434.84357142857,
          22336.967857142856,
          23430.838571428572,
          24602.519285714283,
          25967.204999999998,
          27515.169285714284,
          29082.99714285714,
          30322.777142857143,
          31128.094285714287,
          32097.408571428572,
          33233.883571428574,
          34166.267857142855,
          34799.00214285714,
          35379.66714285714,
          35519.247142857144,
          35808.55714285714,
          35826.375,
          35715.32571428572,
          35254.38785714286,
          34821.440714285716,
          34365.84285714286,
          34227.8,
          34335.36357142857,
          34356.37714285714,
          34202.966428571424,
          34311.53571428572,
          35063.83714285714,
          35850.17928571429,
          36850.184285714284,
          37919.974285714285,
          39005.15357142857,
          40195.00785714285,
          41746.15214285714,
          43042.32857142857,
          44594.28357142857,
          46066.019285714276,
          47025.50214285714,
          47886.82214285714,
          48607.631428571425,
          49182.66285714285,
          49413.44071428571,
          49555.364285714284,
          49951.09714285714,
          49976.86714285715,
          50069.17428571428,
          50299.275714285715,
          50495.55642857142,
          50799.47571428572,
          50930.74714285715,
          51150.41357142857,
          51627.519285714276,
          52139.739285714284,
          52983.861428571436,
          53788.51357142858,
          54394.30071428571,
          54795.185,
          55081.39357142857,
          55362.32785714286,
          55544.98428571429,
          55733.993571428575,
          55925.94142857143,
          56135.14,
          56205.24357142857,
          56311.89357142857,
          56560.75357142858,
          56638.677142857145,
          56426.83642857143,
          56459.625,
          56457.84285714286,
          56869.04357142857,
          57527.60571428571,
          58289.83714285714,
          59140.350714285705,
          59595.70285714285,
          59459.03571428572,
          59297.33428571429,
          58940.205,
          58438.29928571428,
          57873.20928571428,
          57589.30928571429,
          57527.904285714285,
          57299.35928571428,
          56977.09142857143,
          56829.88214285714,
          56372.13714285714,
          55676.94357142857,
          55268.89071428572,
          54912.70357142857,
          55034.29857142857,
          54989.82714285714,
          55202.05642857143,
          55041.35,
          54932.25214285714,
          54634.16285714285,
          53812.69285714285,
          52955.51,
          51751.76571428571,
          50521.017857142855,
          49101.177142857145,
          48074.19857142858,
          46707.439999999995,
          45481.950000000004,
          44137.25285714286,
          42694.50428571428,
          41259.58642857143,
          40412.31642857143,
          39667.465000000004,
          38737.52071428572,
          38023.85428571428,
          37347.34357142857,
          37393.71785714286,
          37114.52857142857,
          37115.313571428575,
          37234.897142857146,
          37364.05285714286,
          37296.976428571434,
          37263.175,
          37272.075,
          36909.87857142857,
          36548.112857142856,
          36150.15571428572,
          35931.400714285715,
          35789.27642857143,
          35866.862857142856,
          35760.30142857143,
          35643.010714285716,
          35370.13214285714,
          34890.23428571429,
          34463.537142857145,
          34144.30714285715,
          33771.50785714285,
          33630.25357142858,
          33736.94642857143,
          33750.50428571428,
          33689.094999999994,
          33551.362857142856,
          33536.61142857143,
          33274.309285714284,
          32837.34,
          32631.75857142857,
          32543.92642857143,
          32531.837142857144,
          32747.635714285712,
          33147.809285714284,
          33658.33357142857,
          34102.029285714285,
          34752.18928571429,
          35212.434285714284,
          35595.897142857146,
          36154.669285714284,
          36832.84142857143,
          37688.55357142857,
          38865.83928571428,
          39826.830714285716,
          40773.64357142857,
          41543.84428571429,
          42300.28785714286,
          42759.19285714285,
          43092.221428571436,
          43425.96785714286,
          43750.90714285714,
          44477.41785714286,
          45287.92214285714,
          45860.26928571429,
          46440.32714285714,
          46730.97714285714,
          46931.258571428574,
          47031.46357142857,
          47146.03214285714,
          47461.226428571434,
          47564.888571428564,
          47858.45785714286,
          48014.444285714286,
          48112.34142857143,
          48085.649285714295,
          47766.565714285716,
          47439.63642857142,
          47399.00928571429,
          47337.50214285714,
          47400.71928571429,
          47272.33928571428,
          46987.07214285714,
          46527.20428571429,
          46150.78428571428,
          45837.19928571429,
          45324.770000000004,
          44989.32071428571,
          44628.837857142855,
          44282.97214285714,
          44209.28357142857,
          44438.330714285716,
          44587.78071428571,
          44828.91714285715,
          45369.05642857142,
          45833.73285714286,
          46615.41357142857,
          47814.283571428576,
          48703.229999999996,
          49595.01714285714,
          50628.66428571428,
          52020.96428571428,
          53523.90928571428,
          55148.686428571425,
          56735.092142857146,
          57738.82071428571,
          58557.361428571436,
          59383.029285714285,
          59738.42285714286,
          60072.87214285714,
          60548.102857142854,
          60890.44571428571,
          61243.47571428572,
          61663.18928571429,
          62064.64214285714,
          62049.44357142857,
          61973.74,
          62206.62642857143
         ]
        },
        {
         "line": {
          "color": "rgba(55, 128, 191, 0.8999999999999999)",
          "dash": "solid",
          "shape": "linear",
          "width": 1.3
         },
         "mode": "lines",
         "name": "UPPER(14)",
         "text": "",
         "type": "scatter",
         "x": [
          "2020-05-11",
          "2020-05-12",
          "2020-05-13",
          "2020-05-14",
          "2020-05-15",
          "2020-05-18",
          "2020-05-19",
          "2020-05-20",
          "2020-05-21",
          "2020-05-22",
          "2020-05-26",
          "2020-05-27",
          "2020-05-28",
          "2020-05-29",
          "2020-06-01",
          "2020-06-02",
          "2020-06-03",
          "2020-06-04",
          "2020-06-05",
          "2020-06-08",
          "2020-06-09",
          "2020-06-10",
          "2020-06-11",
          "2020-06-12",
          "2020-06-15",
          "2020-06-16",
          "2020-06-17",
          "2020-06-18",
          "2020-06-19",
          "2020-06-22",
          "2020-06-23",
          "2020-06-24",
          "2020-06-25",
          "2020-06-26",
          "2020-06-29",
          "2020-06-30",
          "2020-07-01",
          "2020-07-02",
          "2020-07-06",
          "2020-07-07",
          "2020-07-08",
          "2020-07-09",
          "2020-07-10",
          "2020-07-13",
          "2020-07-14",
          "2020-07-15",
          "2020-07-16",
          "2020-07-17",
          "2020-07-20",
          "2020-07-21",
          "2020-07-22",
          "2020-07-23",
          "2020-07-24",
          "2020-07-27",
          "2020-07-28",
          "2020-07-29",
          "2020-07-30",
          "2020-07-31",
          "2020-08-03",
          "2020-08-04",
          "2020-08-05",
          "2020-08-06",
          "2020-08-07",
          "2020-08-10",
          "2020-08-11",
          "2020-08-12",
          "2020-08-13",
          "2020-08-14",
          "2020-08-17",
          "2020-08-18",
          "2020-08-19",
          "2020-08-20",
          "2020-08-21",
          "2020-08-24",
          "2020-08-25",
          "2020-08-26",
          "2020-08-27",
          "2020-08-28",
          "2020-08-31",
          "2020-09-01",
          "2020-09-02",
          "2020-09-03",
          "2020-09-04",
          "2020-09-08",
          "2020-09-09",
          "2020-09-10",
          "2020-09-11",
          "2020-09-14",
          "2020-09-15",
          "2020-09-16",
          "2020-09-17",
          "2020-09-18",
          "2020-09-21",
          "2020-09-22",
          "2020-09-23",
          "2020-09-24",
          "2020-09-25",
          "2020-09-28",
          "2020-09-29",
          "2020-09-30",
          "2020-10-01",
          "2020-10-02",
          "2020-10-05",
          "2020-10-06",
          "2020-10-07",
          "2020-10-08",
          "2020-10-09",
          "2020-10-12",
          "2020-10-13",
          "2020-10-14",
          "2020-10-15",
          "2020-10-16",
          "2020-10-19",
          "2020-10-20",
          "2020-10-21",
          "2020-10-22",
          "2020-10-23",
          "2020-10-26",
          "2020-10-27",
          "2020-10-28",
          "2020-10-29",
          "2020-10-30",
          "2020-11-02",
          "2020-11-03",
          "2020-11-04",
          "2020-11-05",
          "2020-11-06",
          "2020-11-09",
          "2020-11-10",
          "2020-11-11",
          "2020-11-12",
          "2020-11-13",
          "2020-11-16",
          "2020-11-17",
          "2020-11-18",
          "2020-11-19",
          "2020-11-20",
          "2020-11-23",
          "2020-12-21",
          "2020-12-22",
          "2020-12-23",
          "2020-12-24",
          "2020-12-28",
          "2020-12-29",
          "2020-12-30",
          "2020-12-31",
          "2021-01-04",
          "2021-01-05",
          "2021-01-06",
          "2021-01-07",
          "2021-01-08",
          "2021-01-11",
          "2021-01-12",
          "2021-01-13",
          "2021-01-14",
          "2021-01-15",
          "2021-01-19",
          "2021-01-20",
          "2021-01-21",
          "2021-01-22",
          "2021-01-25",
          "2021-01-26",
          "2021-01-27",
          "2021-01-28",
          "2021-01-29",
          "2021-02-01",
          "2021-02-02",
          "2021-02-03",
          "2021-02-04",
          "2021-02-05",
          "2021-02-08",
          "2021-02-09",
          "2021-02-10",
          "2021-02-11",
          "2021-02-12",
          "2021-02-16",
          "2021-02-17",
          "2021-02-18",
          "2021-02-19",
          "2021-02-22",
          "2021-02-23",
          "2021-02-24",
          "2021-02-25",
          "2021-02-26",
          "2021-03-01",
          "2021-03-02",
          "2021-03-03",
          "2021-03-04",
          "2021-03-05",
          "2021-03-08",
          "2021-03-09",
          "2021-03-10",
          "2021-03-11",
          "2021-03-12",
          "2021-03-15",
          "2021-03-16",
          "2021-03-17",
          "2021-03-18",
          "2021-03-19",
          "2021-03-22",
          "2021-03-23",
          "2021-03-24",
          "2021-03-25",
          "2021-03-26",
          "2021-03-29",
          "2021-03-30",
          "2021-03-31",
          "2021-04-01",
          "2021-04-05",
          "2021-04-06",
          "2021-04-07",
          "2021-04-08",
          "2021-04-09",
          "2021-04-12",
          "2021-04-13",
          "2021-04-14",
          "2021-04-15",
          "2021-04-16",
          "2021-04-19",
          "2021-04-20",
          "2021-04-21",
          "2021-04-22",
          "2021-04-23",
          "2021-04-26",
          "2021-04-27",
          "2021-04-28",
          "2021-04-29",
          "2021-04-30",
          "2021-05-03",
          "2021-05-04",
          "2021-05-05",
          "2021-05-06",
          "2021-05-07",
          "2021-05-10",
          "2021-05-11",
          "2021-05-12",
          "2021-05-13",
          "2021-05-14",
          "2021-05-17",
          "2021-05-18",
          "2021-05-19",
          "2021-05-20",
          "2021-05-21",
          "2021-05-24",
          "2021-05-25",
          "2021-05-26",
          "2021-05-27",
          "2021-05-28",
          "2021-06-01",
          "2021-06-02",
          "2021-06-03",
          "2021-06-04",
          "2021-06-07",
          "2021-06-08",
          "2021-06-09",
          "2021-06-10",
          "2021-06-11",
          "2021-06-14",
          "2021-06-15",
          "2021-06-16",
          "2021-06-17",
          "2021-06-18",
          "2021-06-21",
          "2021-06-22",
          "2021-06-23",
          "2021-06-24",
          "2021-06-25",
          "2021-06-28",
          "2021-06-29",
          "2021-06-30",
          "2021-07-01",
          "2021-07-02",
          "2021-07-06",
          "2021-07-07",
          "2021-07-08",
          "2021-07-09",
          "2021-07-12",
          "2021-07-13",
          "2021-07-14",
          "2021-07-15",
          "2021-07-16",
          "2021-07-19",
          "2021-07-20",
          "2021-07-21",
          "2021-07-22",
          "2021-07-23",
          "2021-07-26",
          "2021-07-27",
          "2021-07-28",
          "2021-07-29",
          "2021-07-30",
          "2021-08-02",
          "2021-08-03",
          "2021-08-04",
          "2021-08-05",
          "2021-08-06",
          "2021-08-09",
          "2021-08-10",
          "2021-08-11",
          "2021-08-12",
          "2021-08-13",
          "2021-08-16",
          "2021-08-17",
          "2021-08-18",
          "2021-08-19",
          "2021-08-20",
          "2021-08-23",
          "2021-08-24",
          "2021-08-25",
          "2021-08-26",
          "2021-08-27",
          "2021-08-30",
          "2021-08-31",
          "2021-09-01",
          "2021-09-02",
          "2021-09-03",
          "2021-09-07",
          "2021-09-08",
          "2021-09-09",
          "2021-09-10",
          "2021-09-13",
          "2021-09-14",
          "2021-09-15",
          "2021-09-16",
          "2021-09-17",
          "2021-09-20",
          "2021-09-21",
          "2021-09-22",
          "2021-09-23",
          "2021-09-24",
          "2021-09-27",
          "2021-09-28",
          "2021-09-29",
          "2021-09-30",
          "2021-10-01",
          "2021-10-04",
          "2021-10-05",
          "2021-10-06",
          "2021-10-07",
          "2021-10-08",
          "2021-10-11",
          "2021-10-12",
          "2021-10-13",
          "2021-10-14",
          "2021-10-15",
          "2021-10-18",
          "2021-10-19",
          "2021-10-20",
          "2021-10-21",
          "2021-10-22",
          "2021-10-25",
          "2021-10-26",
          "2021-10-27",
          "2021-10-28",
          "2021-10-29",
          "2021-11-01",
          "2021-11-02",
          "2021-11-03",
          "2021-11-04",
          "2021-11-05",
          "2021-11-08"
         ],
         "y": [
          "",
          "",
          "",
          "",
          "",
          "",
          "",
          "",
          "",
          "",
          "",
          "",
          "",
          9909.554525708689,
          10095.391437242752,
          10083.381157020947,
          10120.425518915632,
          10177.93438025509,
          10199.856920641663,
          10210.214773871443,
          10212.002073691488,
          10271.067845195108,
          10254.858338100687,
          10247.431274331164,
          10165.728380617513,
          10146.975011686523,
          10120.400024838293,
          10118.932075471785,
          9956.440356082268,
          9972.200770316147,
          9966.843788235285,
          9936.612959283035,
          9937.370708485874,
          9902.695376027505,
          9843.047982954511,
          9719.569947141626,
          9720.576385125982,
          9705.921317778811,
          9697.623190628074,
          9665.653229574267,
          9664.035308911898,
          9642.781694823214,
          9642.483870260756,
          9531.160682183203,
          9410.585009025344,
          9404.510038879513,
          9403.790447029984,
          9403.75700011505,
          9404.936106260759,
          9429.829549841028,
          9506.016843454756,
          9594.026737528699,
          9636.836046661369,
          10420.000582286493,
          10810.506738102367,
          11176.878819987702,
          11484.82456033268,
          11783.070428824454,
          11990.930768090015,
          12135.183257550672,
          12371.027881135127,
          12527.660883457409,
          12566.351593880125,
          12633.449591525612,
          12546.583759407224,
          12408.813178781365,
          12054.842219756285,
          12094.74684019044,
          12260.739984340282,
          12296.291696417362,
          12285.889250984668,
          12288.225126198031,
          12256.039787576952,
          12200.744150040246,
          12228.566181589647,
          12224.462896447374,
          12228.090583241912,
          12194.54586002238,
          12187.160830674933,
          12221.813532226617,
          12219.020526429746,
          12541.789553462555,
          12479.889212750813,
          12517.637965407064,
          12506.771300411821,
          12449.824126314297,
          12391.27569720455,
          12253.735698081151,
          12197.687998310961,
          12118.45917705189,
          12033.200340638728,
          11919.18451472462,
          11723.547809202417,
          11340.374738253802,
          11116.471942225784,
          11110.964900769639,
          11133.576757367333,
          11132.886329567587,
          11157.748135087122,
          11156.125402156775,
          11151.226452139057,
          11146.147385476632,
          11147.31024048942,
          11091.907915510412,
          11036.00681274104,
          11033.389329272297,
          11122.727849752706,
          11381.28684427914,
          11497.645583906096,
          11565.933827934996,
          11683.69194433027,
          11735.051794743064,
          11896.01570127861,
          12073.531886127901,
          12538.86925692621,
          12925.281261232158,
          13213.608268749547,
          13443.752049546332,
          13790.063920263032,
          13960.328597844313,
          14125.86072294644,
          14313.156253633257,
          14436.057824167068,
          14613.139592343832,
          14748.264928922845,
          15253.535957333144,
          15646.080654973344,
          15829.824169221089,
          16049.917696444525,
          16327.11290913407,
          16517.40358209757,
          16823.537381951515,
          17213.81988304126,
          17770.96678744696,
          18218.503926589663,
          18538.46145944231,
          18977.95225365156,
          19158.954947345384,
          21090.656505284966,
          22960.87988558424,
          24123.756007934797,
          25153.73933418343,
          27014.135119401195,
          28529.0326218902,
          30121.623407250256,
          31365.498711697364,
          33209.9950715328,
          35304.54583293632,
          37751.24728518125,
          40341.32266673407,
          42607.177369261764,
          42651.32544539326,
          42777.83460228586,
          43391.34067784308,
          43870.064540160165,
          43414.741118310645,
          43113.414871437664,
          42509.94515668157,
          42162.899461928704,
          41511.670273082695,
          41480.10165470662,
          41573.27748464547,
          41694.96874430468,
          40833.24107198474,
          39360.261523598776,
          39195.439023154846,
          39348.31757699107,
          39427.17104393693,
          38752.49185273217,
          39187.968774935616,
          43174.58647652333,
          46016.480312240004,
          47634.36513873369,
          49969.00826191655,
          51593.852493844635,
          53288.67205102089,
          55012.8626980573,
          56358.49763746229,
          58549.103672793375,
          59334.70240574489,
          58876.936769075255,
          58512.6754910676,
          57232.98680564041,
          55656.14235528688,
          55692.34662602404,
          55638.032054022566,
          55404.13437225499,
          55393.619846594425,
          55344.918867026696,
          55690.3679040074,
          56359.40135852159,
          57311.79898344844,
          57947.83213820731,
          58769.562940782955,
          59487.2858115539,
          60403.21185402552,
          61438.038121216116,
          61651.46311386315,
          62195.48496136997,
          61829.35861661379,
          61654.97430318843,
          60964.35512254348,
          60328.51515869137,
          60182.23738649968,
          60453.688335890096,
          60909.71098874099,
          61113.48030286857,
          61378.7889900191,
          61822.872737384285,
          61957.26010376228,
          61589.858145778235,
          61661.16998969927,
          61656.91464971681,
          62176.44422875559,
          63728.146123348226,
          64344.57362666369,
          64256.400676184814,
          64263.11252619908,
          64476.45098194804,
          64550.924036672295,
          64961.90790055672,
          65599.81354554908,
          65988.40139569789,
          65954.35428958065,
          65957.37226577559,
          65836.4373508984,
          65718.64609321485,
          65430.35202372096,
          64048.384561696,
          62493.01664065894,
          60672.899293812756,
          59081.76245213661,
          59396.08634366439,
          59299.40329457745,
          59552.52794695032,
          60063.34377514588,
          60362.75675597194,
          60692.64697292115,
          62257.45236166031,
          63179.51090112873,
          65126.68023029326,
          64647.550706473405,
          64287.110228437465,
          63982.04383183521,
          62404.111453328165,
          60569.19002065745,
          57953.22604403615,
          55401.026354454094,
          51393.087675443116,
          49527.94472494478,
          47062.72456102581,
          43346.15008893665,
          42492.49696145997,
          41501.80804820309,
          41534.287108822515,
          40838.12960291118,
          40839.118168819616,
          41292.839591859665,
          41686.86340291242,
          41518.80456813153,
          41448.57490255387,
          41443.51584906174,
          42064.968913419594,
          42186.07230253154,
          41752.28470078201,
          41650.731884013425,
          41847.888639020035,
          41821.41810828667,
          41649.188348921816,
          41519.841118972385,
          41261.37452239109,
          40013.255041171935,
          38577.82036017198,
          37598.867848221555,
          36422.452866621294,
          36010.558965392935,
          35846.801745064906,
          35829.00420631255,
          35826.422467985685,
          35894.95837607103,
          35935.02240188698,
          35999.344489998555,
          35697.06584827073,
          35215.7830477113,
          35080.423194060386,
          35043.6810856031,
          36221.05078843716,
          38143.12802942787,
          39851.31638263679,
          41175.75263686748,
          43007.41690815147,
          43693.6155122609,
          44096.77437519942,
          44630.96526066632,
          45187.24731305196,
          45845.66164271384,
          46873.000502258255,
          47583.714714340786,
          47768.596253829404,
          47448.71720615127,
          48537.36903180115,
          49049.894240474125,
          49251.28022386413,
          49376.036855916645,
          49908.54147065391,
          50700.34706041505,
          50909.83879317784,
          50592.7638103811,
          50489.93609257435,
          50200.34320329556,
          50605.94480383545,
          50625.002386859655,
          50636.92066512573,
          50682.5627893018,
          50928.455050875025,
          51316.675112917444,
          51024.098160868634,
          50722.33184143806,
          50761.984284482496,
          50840.10896352919,
          50671.70635721951,
          50630.58387943806,
          50468.14245211048,
          50527.121344838044,
          50244.96214051663,
          50737.2589145525,
          51551.689807744726,
          51217.12147547526,
          50601.710041719954,
          49675.69169315218,
          49546.477762254086,
          49592.66535922998,
          49391.73377395715,
          49311.84219640018,
          49956.92006660019,
          50519.84990689804,
          51599.82401293226,
          54077.48354629938,
          55611.36465812928,
          57140.39733247628,
          59230.421108198214,
          60624.00327438387,
          62140.87748723548,
          63164.45157552215,
          64838.02549206374,
          65712.95219992717,
          66494.36223943473,
          67457.10741706092,
          67601.9750245098,
          67208.53090003556,
          67320.18343758467,
          67330.9224434429,
          66912.02173056826,
          66408.98507158778,
          66540.48485164634,
          66151.22734053661,
          66134.05541634944,
          65804.79316440855,
          65798.30227016815,
          65762.51373349635,
          66901.62346956418
         ]
        },
        {
         "line": {
          "color": "rgba(55, 128, 191, 0.7999999999999998)",
          "dash": "solid",
          "shape": "linear",
          "width": 1.3
         },
         "mode": "lines",
         "name": "LOWER(14)",
         "text": "",
         "type": "scatter",
         "x": [
          "2020-05-11",
          "2020-05-12",
          "2020-05-13",
          "2020-05-14",
          "2020-05-15",
          "2020-05-18",
          "2020-05-19",
          "2020-05-20",
          "2020-05-21",
          "2020-05-22",
          "2020-05-26",
          "2020-05-27",
          "2020-05-28",
          "2020-05-29",
          "2020-06-01",
          "2020-06-02",
          "2020-06-03",
          "2020-06-04",
          "2020-06-05",
          "2020-06-08",
          "2020-06-09",
          "2020-06-10",
          "2020-06-11",
          "2020-06-12",
          "2020-06-15",
          "2020-06-16",
          "2020-06-17",
          "2020-06-18",
          "2020-06-19",
          "2020-06-22",
          "2020-06-23",
          "2020-06-24",
          "2020-06-25",
          "2020-06-26",
          "2020-06-29",
          "2020-06-30",
          "2020-07-01",
          "2020-07-02",
          "2020-07-06",
          "2020-07-07",
          "2020-07-08",
          "2020-07-09",
          "2020-07-10",
          "2020-07-13",
          "2020-07-14",
          "2020-07-15",
          "2020-07-16",
          "2020-07-17",
          "2020-07-20",
          "2020-07-21",
          "2020-07-22",
          "2020-07-23",
          "2020-07-24",
          "2020-07-27",
          "2020-07-28",
          "2020-07-29",
          "2020-07-30",
          "2020-07-31",
          "2020-08-03",
          "2020-08-04",
          "2020-08-05",
          "2020-08-06",
          "2020-08-07",
          "2020-08-10",
          "2020-08-11",
          "2020-08-12",
          "2020-08-13",
          "2020-08-14",
          "2020-08-17",
          "2020-08-18",
          "2020-08-19",
          "2020-08-20",
          "2020-08-21",
          "2020-08-24",
          "2020-08-25",
          "2020-08-26",
          "2020-08-27",
          "2020-08-28",
          "2020-08-31",
          "2020-09-01",
          "2020-09-02",
          "2020-09-03",
          "2020-09-04",
          "2020-09-08",
          "2020-09-09",
          "2020-09-10",
          "2020-09-11",
          "2020-09-14",
          "2020-09-15",
          "2020-09-16",
          "2020-09-17",
          "2020-09-18",
          "2020-09-21",
          "2020-09-22",
          "2020-09-23",
          "2020-09-24",
          "2020-09-25",
          "2020-09-28",
          "2020-09-29",
          "2020-09-30",
          "2020-10-01",
          "2020-10-02",
          "2020-10-05",
          "2020-10-06",
          "2020-10-07",
          "2020-10-08",
          "2020-10-09",
          "2020-10-12",
          "2020-10-13",
          "2020-10-14",
          "2020-10-15",
          "2020-10-16",
          "2020-10-19",
          "2020-10-20",
          "2020-10-21",
          "2020-10-22",
          "2020-10-23",
          "2020-10-26",
          "2020-10-27",
          "2020-10-28",
          "2020-10-29",
          "2020-10-30",
          "2020-11-02",
          "2020-11-03",
          "2020-11-04",
          "2020-11-05",
          "2020-11-06",
          "2020-11-09",
          "2020-11-10",
          "2020-11-11",
          "2020-11-12",
          "2020-11-13",
          "2020-11-16",
          "2020-11-17",
          "2020-11-18",
          "2020-11-19",
          "2020-11-20",
          "2020-11-23",
          "2020-12-21",
          "2020-12-22",
          "2020-12-23",
          "2020-12-24",
          "2020-12-28",
          "2020-12-29",
          "2020-12-30",
          "2020-12-31",
          "2021-01-04",
          "2021-01-05",
          "2021-01-06",
          "2021-01-07",
          "2021-01-08",
          "2021-01-11",
          "2021-01-12",
          "2021-01-13",
          "2021-01-14",
          "2021-01-15",
          "2021-01-19",
          "2021-01-20",
          "2021-01-21",
          "2021-01-22",
          "2021-01-25",
          "2021-01-26",
          "2021-01-27",
          "2021-01-28",
          "2021-01-29",
          "2021-02-01",
          "2021-02-02",
          "2021-02-03",
          "2021-02-04",
          "2021-02-05",
          "2021-02-08",
          "2021-02-09",
          "2021-02-10",
          "2021-02-11",
          "2021-02-12",
          "2021-02-16",
          "2021-02-17",
          "2021-02-18",
          "2021-02-19",
          "2021-02-22",
          "2021-02-23",
          "2021-02-24",
          "2021-02-25",
          "2021-02-26",
          "2021-03-01",
          "2021-03-02",
          "2021-03-03",
          "2021-03-04",
          "2021-03-05",
          "2021-03-08",
          "2021-03-09",
          "2021-03-10",
          "2021-03-11",
          "2021-03-12",
          "2021-03-15",
          "2021-03-16",
          "2021-03-17",
          "2021-03-18",
          "2021-03-19",
          "2021-03-22",
          "2021-03-23",
          "2021-03-24",
          "2021-03-25",
          "2021-03-26",
          "2021-03-29",
          "2021-03-30",
          "2021-03-31",
          "2021-04-01",
          "2021-04-05",
          "2021-04-06",
          "2021-04-07",
          "2021-04-08",
          "2021-04-09",
          "2021-04-12",
          "2021-04-13",
          "2021-04-14",
          "2021-04-15",
          "2021-04-16",
          "2021-04-19",
          "2021-04-20",
          "2021-04-21",
          "2021-04-22",
          "2021-04-23",
          "2021-04-26",
          "2021-04-27",
          "2021-04-28",
          "2021-04-29",
          "2021-04-30",
          "2021-05-03",
          "2021-05-04",
          "2021-05-05",
          "2021-05-06",
          "2021-05-07",
          "2021-05-10",
          "2021-05-11",
          "2021-05-12",
          "2021-05-13",
          "2021-05-14",
          "2021-05-17",
          "2021-05-18",
          "2021-05-19",
          "2021-05-20",
          "2021-05-21",
          "2021-05-24",
          "2021-05-25",
          "2021-05-26",
          "2021-05-27",
          "2021-05-28",
          "2021-06-01",
          "2021-06-02",
          "2021-06-03",
          "2021-06-04",
          "2021-06-07",
          "2021-06-08",
          "2021-06-09",
          "2021-06-10",
          "2021-06-11",
          "2021-06-14",
          "2021-06-15",
          "2021-06-16",
          "2021-06-17",
          "2021-06-18",
          "2021-06-21",
          "2021-06-22",
          "2021-06-23",
          "2021-06-24",
          "2021-06-25",
          "2021-06-28",
          "2021-06-29",
          "2021-06-30",
          "2021-07-01",
          "2021-07-02",
          "2021-07-06",
          "2021-07-07",
          "2021-07-08",
          "2021-07-09",
          "2021-07-12",
          "2021-07-13",
          "2021-07-14",
          "2021-07-15",
          "2021-07-16",
          "2021-07-19",
          "2021-07-20",
          "2021-07-21",
          "2021-07-22",
          "2021-07-23",
          "2021-07-26",
          "2021-07-27",
          "2021-07-28",
          "2021-07-29",
          "2021-07-30",
          "2021-08-02",
          "2021-08-03",
          "2021-08-04",
          "2021-08-05",
          "2021-08-06",
          "2021-08-09",
          "2021-08-10",
          "2021-08-11",
          "2021-08-12",
          "2021-08-13",
          "2021-08-16",
          "2021-08-17",
          "2021-08-18",
          "2021-08-19",
          "2021-08-20",
          "2021-08-23",
          "2021-08-24",
          "2021-08-25",
          "2021-08-26",
          "2021-08-27",
          "2021-08-30",
          "2021-08-31",
          "2021-09-01",
          "2021-09-02",
          "2021-09-03",
          "2021-09-07",
          "2021-09-08",
          "2021-09-09",
          "2021-09-10",
          "2021-09-13",
          "2021-09-14",
          "2021-09-15",
          "2021-09-16",
          "2021-09-17",
          "2021-09-20",
          "2021-09-21",
          "2021-09-22",
          "2021-09-23",
          "2021-09-24",
          "2021-09-27",
          "2021-09-28",
          "2021-09-29",
          "2021-09-30",
          "2021-10-01",
          "2021-10-04",
          "2021-10-05",
          "2021-10-06",
          "2021-10-07",
          "2021-10-08",
          "2021-10-11",
          "2021-10-12",
          "2021-10-13",
          "2021-10-14",
          "2021-10-15",
          "2021-10-18",
          "2021-10-19",
          "2021-10-20",
          "2021-10-21",
          "2021-10-22",
          "2021-10-25",
          "2021-10-26",
          "2021-10-27",
          "2021-10-28",
          "2021-10-29",
          "2021-11-01",
          "2021-11-02",
          "2021-11-03",
          "2021-11-04",
          "2021-11-05",
          "2021-11-08"
         ],
         "y": [
          "",
          "",
          "",
          "",
          "",
          "",
          "",
          "",
          "",
          "",
          "",
          "",
          "",
          8559.959760005597,
          8608.03713418582,
          8719.641700121909,
          8733.145909655796,
          8741.002762602053,
          8763.325936501193,
          8760.835226128556,
          8760.343640594223,
          8755.33644051918,
          8801.514519042172,
          8852.473011383125,
          9018.021619382487,
          9081.974988313477,
          9144.23997516171,
          9149.999353099643,
          9182.33107248916,
          9190.55351539814,
          9189.61906890757,
          9148.428469288394,
          9092.675005799842,
          9037.401766829638,
          9011.7577313312,
          9026.662910001232,
          9021.487900588307,
          9002.650110792616,
          8999.661095086212,
          8993.556770425732,
          8993.89897680239,
          8983.671162319642,
          8983.19041545353,
          9030.482174959652,
          9099.186419546084,
          9090.482818263345,
          9085.30669582716,
          9085.387285599236,
          9081.072465167812,
          9093.826164444685,
          9060.601727973815,
          9027.371833899875,
          9013.66538191006,
          8485.493703427792,
          8308.330404754774,
          8210.095465726587,
          8170.674011095888,
          8174.183856889833,
          8249.443517624271,
          8391.501028163615,
          8522.373547436302,
          8740.664830828306,
          9051.714120405588,
          9343.193265617247,
          9694.406240592774,
          10111.645392647206,
          10786.48349452943,
          10851.488874095277,
          10882.322872802575,
          10967.422589296924,
          11062.55360615819,
          11120.062016659114,
          11194.398783851619,
          11330.381564245468,
          11240.080961267498,
          11201.114246409768,
          11177.123702472374,
          11159.519854263333,
          11205.949169325071,
          11221.833610630525,
          11167.522330713115,
          10615.441875108872,
          10412.577930106332,
          10113.970606021509,
          9906.10869958818,
          9743.93873082856,
          9640.720017081163,
          9624.27001620456,
          9603.267715974755,
          9608.347965805253,
          9618.978230789844,
          9645.72548527538,
          9664.007905083294,
          9849.153833174772,
          9907.1423434885,
          9921.715099230361,
          9931.897528346955,
          10013.287956146698,
          10075.816150627163,
          10155.607454986084,
          10192.762119289517,
          10182.432614523366,
          10182.35833093915,
          10187.767798775305,
          10203.671758687533,
          10205.059242156272,
          10206.77929310444,
          10090.07601286372,
          10143.927273236763,
          10245.713314922146,
          10244.27376995544,
          10282.332490971221,
          10252.23715586425,
          10237.42954244353,
          10085.256457359505,
          10043.575881624984,
          10061.998874107594,
          10183.632236167952,
          10264.353222594114,
          10432.699973584262,
          10612.317848482133,
          10717.263746366745,
          10902.435032975785,
          11100.300407656166,
          11345.08935679144,
          11453.111185523998,
          11610.206487883797,
          11915.777259350338,
          12052.433732126901,
          12164.031376580217,
          12369.053560759572,
          12531.24118947706,
          12578.791545530168,
          12648.508926838753,
          12819.156073410335,
          13105.947111986256,
          13394.906317777011,
          13796.459338368903,
          13090.000637572175,
          12395.874400130044,
          12322.685420636632,
          12491.277808673713,
          12306.043452027376,
          12456.578806681235,
          12748.063735606882,
          13308.437002588347,
          13651.682071324347,
          13900.492738492252,
          14183.16271481875,
          14689.0159046945,
          15558.816916452515,
          17994.228840321022,
          19478.353969142714,
          20803.476465014064,
          22597.70260269698,
          24917.79459597506,
          26484.58941427662,
          28249.38912903272,
          28875.594823785585,
          30105.44401263159,
          30172.648345293383,
          29857.373943925966,
          28813.806969981037,
          28809.64035658669,
          29371.42419068694,
          29260.16097684516,
          29322.409565866074,
          29285.583241777356,
          29653.441004410673,
          29435.102653635815,
          26953.087809190958,
          25683.878259188565,
          26066.00343269488,
          25870.94030951202,
          26416.454649012507,
          27101.343663264815,
          28479.441587656984,
          29726.15950539484,
          30639.46347006376,
          32797.336165683664,
          35174.06751663903,
          37260.96879464668,
          39982.27605150244,
          42709.183358998824,
          43134.53480254738,
          43472.696517406,
          44498.0599134593,
          44560.11443911987,
          44793.42970440187,
          44908.18352456403,
          44631.711498621255,
          44287.152445123,
          43913.66214750699,
          43531.26420207419,
          43767.75275987465,
          43876.26671740305,
          44529.684735926756,
          45925.564028994006,
          46593.11646720145,
          47761.011383386205,
          48507.81283966871,
          49760.30059174224,
          50761.4534127372,
          51285.74975635747,
          51398.194521252764,
          51360.56901125901,
          51297.006839988564,
          51244.99815283804,
          51298.63440547287,
          51320.09418195201,
          51263.81471136462,
          51258.08001030073,
          51258.77106456891,
          51561.642914101554,
          51327.065305223194,
          52235.10065905059,
          54024.300752386596,
          54928.29318808662,
          54441.6204466234,
          54043.74453475629,
          52918.502099443285,
          51276.785025879486,
          49758.01717573067,
          49224.264281847936,
          49098.43630565299,
          48762.28122053015,
          48235.536763928016,
          48229.41226199332,
          48695.88972401827,
          48860.8705021982,
          49864.882134758685,
          50743.644690720525,
          50672.51079919274,
          50680.250991136825,
          50851.584910192534,
          50019.35622485412,
          49501.747529742344,
          48575.67874136455,
          45367.93335262539,
          42731.50909887128,
          38376.851198278164,
          36394.485007812305,
          33915.244057276825,
          32166.353311021947,
          31010.76854667182,
          30394.70997934256,
          30321.279670249576,
          29987.98221697447,
          31126.08518169974,
          31296.688132198084,
          32272.205438974193,
          34128.891339634785,
          33555.211609968595,
          33192.879094654054,
          33253.148605463204,
          33390.92753994596,
          33391.50897403753,
          33176.95469385463,
          33041.242311373295,
          33075.14828901134,
          33077.77509744614,
          33100.634150938255,
          31754.788229437545,
          30910.153411754174,
          30548.026727789427,
          30212.069544558006,
          29730.664218122824,
          29912.307605999038,
          29871.41450822104,
          29766.180309599044,
          29478.889763323194,
          29767.21353025664,
          30349.25392554231,
          30689.746437492748,
          31120.562847664412,
          31249.948177464215,
          31627.09111207795,
          31672.004365116016,
          31551.7675320143,
          31207.76733821468,
          31138.20045525588,
          30549.274081430016,
          29977.614151729264,
          30047.734095145843,
          30007.429663082476,
          30019.993200111185,
          29274.220640134263,
          28152.490542000698,
          27465.350760220357,
          27028.30593456109,
          26496.961663277103,
          26731.25305916767,
          27095.01991051487,
          27678.373310762247,
          28478.435544090906,
          29531.4455001433,
          30858.67806917031,
          32069.946714230646,
          33778.690889027734,
          35638.971365277306,
          36063.20668248457,
          36468.49147381158,
          36933.16263327874,
          37475.89885836907,
          37593.27281506037,
          38254.48865387066,
          39666.00549253644,
          41127.77476104748,
          42390.718193139925,
          43261.61108241872,
          43256.572339021695,
          43437.92475599748,
          43655.143620588555,
          44239.890067841065,
          44201.3220919821,
          44400.24060136827,
          45004.79041055994,
          45502.3510157048,
          45409.31428694609,
          44693.022465042246,
          44207.566499923334,
          44167.434691990515,
          44206.861833603805,
          44274.31722659053,
          44299.71643091193,
          43236.885371161785,
          41502.71876368385,
          41084.44709595331,
          41072.68852970863,
          40973.84830684783,
          40432.16366631734,
          39665.01035505573,
          39174.210511757134,
          39106.724946456954,
          38919.74136197124,
          38655.71152167339,
          38058.01027278204,
          36660.62931084346,
          36056.10105615644,
          36090.42981038087,
          36398.14603465894,
          36782.456725616124,
          37049.156798478805,
          38092.87699590641,
          39203.90307936483,
          41334.8663715014,
          43803.01061770811,
          46013.07686865336,
          47875.66640406163,
          49906.19195710731,
          51445.87513384391,
          52145.92327084282,
          53233.72255514601,
          54687.220642697925,
          55240.40657692509,
          56335.72408803483,
          57192.323155079146,
          58324.491121305735,
          58300.584872688996,
          58184.96626650365,
          57511.62938757867
         ]
        }
       ],
       "layout": {
        "autosize": true,
        "legend": {
         "bgcolor": "#F5F6F9",
         "font": {
          "color": "#4D5663"
         }
        },
        "paper_bgcolor": "#F5F6F9",
        "plot_bgcolor": "#F5F6F9",
        "template": {
         "data": {
          "bar": [
           {
            "error_x": {
             "color": "#2a3f5f"
            },
            "error_y": {
             "color": "#2a3f5f"
            },
            "marker": {
             "line": {
              "color": "#E5ECF6",
              "width": 0.5
             },
             "pattern": {
              "fillmode": "overlay",
              "size": 10,
              "solidity": 0.2
             }
            },
            "type": "bar"
           }
          ],
          "barpolar": [
           {
            "marker": {
             "line": {
              "color": "#E5ECF6",
              "width": 0.5
             },
             "pattern": {
              "fillmode": "overlay",
              "size": 10,
              "solidity": 0.2
             }
            },
            "type": "barpolar"
           }
          ],
          "carpet": [
           {
            "aaxis": {
             "endlinecolor": "#2a3f5f",
             "gridcolor": "white",
             "linecolor": "white",
             "minorgridcolor": "white",
             "startlinecolor": "#2a3f5f"
            },
            "baxis": {
             "endlinecolor": "#2a3f5f",
             "gridcolor": "white",
             "linecolor": "white",
             "minorgridcolor": "white",
             "startlinecolor": "#2a3f5f"
            },
            "type": "carpet"
           }
          ],
          "choropleth": [
           {
            "colorbar": {
             "outlinewidth": 0,
             "ticks": ""
            },
            "type": "choropleth"
           }
          ],
          "contour": [
           {
            "colorbar": {
             "outlinewidth": 0,
             "ticks": ""
            },
            "colorscale": [
             [
              0,
              "#0d0887"
             ],
             [
              0.1111111111111111,
              "#46039f"
             ],
             [
              0.2222222222222222,
              "#7201a8"
             ],
             [
              0.3333333333333333,
              "#9c179e"
             ],
             [
              0.4444444444444444,
              "#bd3786"
             ],
             [
              0.5555555555555556,
              "#d8576b"
             ],
             [
              0.6666666666666666,
              "#ed7953"
             ],
             [
              0.7777777777777778,
              "#fb9f3a"
             ],
             [
              0.8888888888888888,
              "#fdca26"
             ],
             [
              1,
              "#f0f921"
             ]
            ],
            "type": "contour"
           }
          ],
          "contourcarpet": [
           {
            "colorbar": {
             "outlinewidth": 0,
             "ticks": ""
            },
            "type": "contourcarpet"
           }
          ],
          "heatmap": [
           {
            "colorbar": {
             "outlinewidth": 0,
             "ticks": ""
            },
            "colorscale": [
             [
              0,
              "#0d0887"
             ],
             [
              0.1111111111111111,
              "#46039f"
             ],
             [
              0.2222222222222222,
              "#7201a8"
             ],
             [
              0.3333333333333333,
              "#9c179e"
             ],
             [
              0.4444444444444444,
              "#bd3786"
             ],
             [
              0.5555555555555556,
              "#d8576b"
             ],
             [
              0.6666666666666666,
              "#ed7953"
             ],
             [
              0.7777777777777778,
              "#fb9f3a"
             ],
             [
              0.8888888888888888,
              "#fdca26"
             ],
             [
              1,
              "#f0f921"
             ]
            ],
            "type": "heatmap"
           }
          ],
          "heatmapgl": [
           {
            "colorbar": {
             "outlinewidth": 0,
             "ticks": ""
            },
            "colorscale": [
             [
              0,
              "#0d0887"
             ],
             [
              0.1111111111111111,
              "#46039f"
             ],
             [
              0.2222222222222222,
              "#7201a8"
             ],
             [
              0.3333333333333333,
              "#9c179e"
             ],
             [
              0.4444444444444444,
              "#bd3786"
             ],
             [
              0.5555555555555556,
              "#d8576b"
             ],
             [
              0.6666666666666666,
              "#ed7953"
             ],
             [
              0.7777777777777778,
              "#fb9f3a"
             ],
             [
              0.8888888888888888,
              "#fdca26"
             ],
             [
              1,
              "#f0f921"
             ]
            ],
            "type": "heatmapgl"
           }
          ],
          "histogram": [
           {
            "marker": {
             "pattern": {
              "fillmode": "overlay",
              "size": 10,
              "solidity": 0.2
             }
            },
            "type": "histogram"
           }
          ],
          "histogram2d": [
           {
            "colorbar": {
             "outlinewidth": 0,
             "ticks": ""
            },
            "colorscale": [
             [
              0,
              "#0d0887"
             ],
             [
              0.1111111111111111,
              "#46039f"
             ],
             [
              0.2222222222222222,
              "#7201a8"
             ],
             [
              0.3333333333333333,
              "#9c179e"
             ],
             [
              0.4444444444444444,
              "#bd3786"
             ],
             [
              0.5555555555555556,
              "#d8576b"
             ],
             [
              0.6666666666666666,
              "#ed7953"
             ],
             [
              0.7777777777777778,
              "#fb9f3a"
             ],
             [
              0.8888888888888888,
              "#fdca26"
             ],
             [
              1,
              "#f0f921"
             ]
            ],
            "type": "histogram2d"
           }
          ],
          "histogram2dcontour": [
           {
            "colorbar": {
             "outlinewidth": 0,
             "ticks": ""
            },
            "colorscale": [
             [
              0,
              "#0d0887"
             ],
             [
              0.1111111111111111,
              "#46039f"
             ],
             [
              0.2222222222222222,
              "#7201a8"
             ],
             [
              0.3333333333333333,
              "#9c179e"
             ],
             [
              0.4444444444444444,
              "#bd3786"
             ],
             [
              0.5555555555555556,
              "#d8576b"
             ],
             [
              0.6666666666666666,
              "#ed7953"
             ],
             [
              0.7777777777777778,
              "#fb9f3a"
             ],
             [
              0.8888888888888888,
              "#fdca26"
             ],
             [
              1,
              "#f0f921"
             ]
            ],
            "type": "histogram2dcontour"
           }
          ],
          "mesh3d": [
           {
            "colorbar": {
             "outlinewidth": 0,
             "ticks": ""
            },
            "type": "mesh3d"
           }
          ],
          "parcoords": [
           {
            "line": {
             "colorbar": {
              "outlinewidth": 0,
              "ticks": ""
             }
            },
            "type": "parcoords"
           }
          ],
          "pie": [
           {
            "automargin": true,
            "type": "pie"
           }
          ],
          "scatter": [
           {
            "marker": {
             "colorbar": {
              "outlinewidth": 0,
              "ticks": ""
             }
            },
            "type": "scatter"
           }
          ],
          "scatter3d": [
           {
            "line": {
             "colorbar": {
              "outlinewidth": 0,
              "ticks": ""
             }
            },
            "marker": {
             "colorbar": {
              "outlinewidth": 0,
              "ticks": ""
             }
            },
            "type": "scatter3d"
           }
          ],
          "scattercarpet": [
           {
            "marker": {
             "colorbar": {
              "outlinewidth": 0,
              "ticks": ""
             }
            },
            "type": "scattercarpet"
           }
          ],
          "scattergeo": [
           {
            "marker": {
             "colorbar": {
              "outlinewidth": 0,
              "ticks": ""
             }
            },
            "type": "scattergeo"
           }
          ],
          "scattergl": [
           {
            "marker": {
             "colorbar": {
              "outlinewidth": 0,
              "ticks": ""
             }
            },
            "type": "scattergl"
           }
          ],
          "scattermapbox": [
           {
            "marker": {
             "colorbar": {
              "outlinewidth": 0,
              "ticks": ""
             }
            },
            "type": "scattermapbox"
           }
          ],
          "scatterpolar": [
           {
            "marker": {
             "colorbar": {
              "outlinewidth": 0,
              "ticks": ""
             }
            },
            "type": "scatterpolar"
           }
          ],
          "scatterpolargl": [
           {
            "marker": {
             "colorbar": {
              "outlinewidth": 0,
              "ticks": ""
             }
            },
            "type": "scatterpolargl"
           }
          ],
          "scatterternary": [
           {
            "marker": {
             "colorbar": {
              "outlinewidth": 0,
              "ticks": ""
             }
            },
            "type": "scatterternary"
           }
          ],
          "surface": [
           {
            "colorbar": {
             "outlinewidth": 0,
             "ticks": ""
            },
            "colorscale": [
             [
              0,
              "#0d0887"
             ],
             [
              0.1111111111111111,
              "#46039f"
             ],
             [
              0.2222222222222222,
              "#7201a8"
             ],
             [
              0.3333333333333333,
              "#9c179e"
             ],
             [
              0.4444444444444444,
              "#bd3786"
             ],
             [
              0.5555555555555556,
              "#d8576b"
             ],
             [
              0.6666666666666666,
              "#ed7953"
             ],
             [
              0.7777777777777778,
              "#fb9f3a"
             ],
             [
              0.8888888888888888,
              "#fdca26"
             ],
             [
              1,
              "#f0f921"
             ]
            ],
            "type": "surface"
           }
          ],
          "table": [
           {
            "cells": {
             "fill": {
              "color": "#EBF0F8"
             },
             "line": {
              "color": "white"
             }
            },
            "header": {
             "fill": {
              "color": "#C8D4E3"
             },
             "line": {
              "color": "white"
             }
            },
            "type": "table"
           }
          ]
         },
         "layout": {
          "annotationdefaults": {
           "arrowcolor": "#2a3f5f",
           "arrowhead": 0,
           "arrowwidth": 1
          },
          "autotypenumbers": "strict",
          "coloraxis": {
           "colorbar": {
            "outlinewidth": 0,
            "ticks": ""
           }
          },
          "colorscale": {
           "diverging": [
            [
             0,
             "#8e0152"
            ],
            [
             0.1,
             "#c51b7d"
            ],
            [
             0.2,
             "#de77ae"
            ],
            [
             0.3,
             "#f1b6da"
            ],
            [
             0.4,
             "#fde0ef"
            ],
            [
             0.5,
             "#f7f7f7"
            ],
            [
             0.6,
             "#e6f5d0"
            ],
            [
             0.7,
             "#b8e186"
            ],
            [
             0.8,
             "#7fbc41"
            ],
            [
             0.9,
             "#4d9221"
            ],
            [
             1,
             "#276419"
            ]
           ],
           "sequential": [
            [
             0,
             "#0d0887"
            ],
            [
             0.1111111111111111,
             "#46039f"
            ],
            [
             0.2222222222222222,
             "#7201a8"
            ],
            [
             0.3333333333333333,
             "#9c179e"
            ],
            [
             0.4444444444444444,
             "#bd3786"
            ],
            [
             0.5555555555555556,
             "#d8576b"
            ],
            [
             0.6666666666666666,
             "#ed7953"
            ],
            [
             0.7777777777777778,
             "#fb9f3a"
            ],
            [
             0.8888888888888888,
             "#fdca26"
            ],
            [
             1,
             "#f0f921"
            ]
           ],
           "sequentialminus": [
            [
             0,
             "#0d0887"
            ],
            [
             0.1111111111111111,
             "#46039f"
            ],
            [
             0.2222222222222222,
             "#7201a8"
            ],
            [
             0.3333333333333333,
             "#9c179e"
            ],
            [
             0.4444444444444444,
             "#bd3786"
            ],
            [
             0.5555555555555556,
             "#d8576b"
            ],
            [
             0.6666666666666666,
             "#ed7953"
            ],
            [
             0.7777777777777778,
             "#fb9f3a"
            ],
            [
             0.8888888888888888,
             "#fdca26"
            ],
            [
             1,
             "#f0f921"
            ]
           ]
          },
          "colorway": [
           "#636efa",
           "#EF553B",
           "#00cc96",
           "#ab63fa",
           "#FFA15A",
           "#19d3f3",
           "#FF6692",
           "#B6E880",
           "#FF97FF",
           "#FECB52"
          ],
          "font": {
           "color": "#2a3f5f"
          },
          "geo": {
           "bgcolor": "white",
           "lakecolor": "white",
           "landcolor": "#E5ECF6",
           "showlakes": true,
           "showland": true,
           "subunitcolor": "white"
          },
          "hoverlabel": {
           "align": "left"
          },
          "hovermode": "closest",
          "mapbox": {
           "style": "light"
          },
          "paper_bgcolor": "white",
          "plot_bgcolor": "#E5ECF6",
          "polar": {
           "angularaxis": {
            "gridcolor": "white",
            "linecolor": "white",
            "ticks": ""
           },
           "bgcolor": "#E5ECF6",
           "radialaxis": {
            "gridcolor": "white",
            "linecolor": "white",
            "ticks": ""
           }
          },
          "scene": {
           "xaxis": {
            "backgroundcolor": "#E5ECF6",
            "gridcolor": "white",
            "gridwidth": 2,
            "linecolor": "white",
            "showbackground": true,
            "ticks": "",
            "zerolinecolor": "white"
           },
           "yaxis": {
            "backgroundcolor": "#E5ECF6",
            "gridcolor": "white",
            "gridwidth": 2,
            "linecolor": "white",
            "showbackground": true,
            "ticks": "",
            "zerolinecolor": "white"
           },
           "zaxis": {
            "backgroundcolor": "#E5ECF6",
            "gridcolor": "white",
            "gridwidth": 2,
            "linecolor": "white",
            "showbackground": true,
            "ticks": "",
            "zerolinecolor": "white"
           }
          },
          "shapedefaults": {
           "line": {
            "color": "#2a3f5f"
           }
          },
          "ternary": {
           "aaxis": {
            "gridcolor": "white",
            "linecolor": "white",
            "ticks": ""
           },
           "baxis": {
            "gridcolor": "white",
            "linecolor": "white",
            "ticks": ""
           },
           "bgcolor": "#E5ECF6",
           "caxis": {
            "gridcolor": "white",
            "linecolor": "white",
            "ticks": ""
           }
          },
          "title": {
           "x": 0.05
          },
          "xaxis": {
           "automargin": true,
           "gridcolor": "white",
           "linecolor": "white",
           "ticks": "",
           "title": {
            "standoff": 15
           },
           "zerolinecolor": "white",
           "zerolinewidth": 2
          },
          "yaxis": {
           "automargin": true,
           "gridcolor": "white",
           "linecolor": "white",
           "ticks": "",
           "title": {
            "standoff": 15
           },
           "zerolinecolor": "white",
           "zerolinewidth": 2
          }
         }
        },
        "title": {
         "font": {
          "color": "#4D5663"
         }
        },
        "xaxis": {
         "autorange": true,
         "gridcolor": "#E1E5ED",
         "range": [
          "2020-05-11",
          "2021-11-08"
         ],
         "showgrid": true,
         "tickfont": {
          "color": "#4D5663"
         },
         "title": {
          "font": {
           "color": "#4D5663"
          },
          "text": ""
         },
         "type": "date",
         "zerolinecolor": "#E1E5ED"
        },
        "yaxis": {
         "autorange": true,
         "gridcolor": "#E1E5ED",
         "range": [
          4868.935065906227,
          70903.71396969946
         ],
         "showgrid": true,
         "tickfont": {
          "color": "#4D5663"
         },
         "title": {
          "font": {
           "color": "#4D5663"
          },
          "text": ""
         },
         "type": "linear",
         "zerolinecolor": "#E1E5ED"
        }
       }
      },
      "image/png": "[encoded data removed]",
      "text/html": [
       "<div>                            <div id=\"a74e5a56-6505-421f-8a6c-d9374e0db5bd\" class=\"plotly-graph-div\" style=\"height:525px; width:100%;\"></div>            <script type=\"text/javascript\">                require([\"plotly\"], function(Plotly) {                    window.PLOTLYENV=window.PLOTLYENV || {};\n",
       "                    window.PLOTLYENV.BASE_URL='https://plot.ly';                                    if (document.getElementById(\"a74e5a56-6505-421f-8a6c-d9374e0db5bd\")) {                    Plotly.newPlot(                        \"a74e5a56-6505-421f-8a6c-d9374e0db5bd\",                        [{\"line\":{\"color\":\"rgba(255, 153, 51, 1.0)\",\"dash\":\"solid\",\"shape\":\"linear\",\"width\":1.3},\"mode\":\"lines\",\"name\":\"btc\",\"text\":\"\",\"type\":\"scatter\",\"x\":[\"2020-05-11\",\"2020-05-12\",\"2020-05-13\",\"2020-05-14\",\"2020-05-15\",\"2020-05-18\",\"2020-05-19\",\"2020-05-20\",\"2020-05-21\",\"2020-05-22\",\"2020-05-26\",\"2020-05-27\",\"2020-05-28\",\"2020-05-29\",\"2020-06-01\",\"2020-06-02\",\"2020-06-03\",\"2020-06-04\",\"2020-06-05\",\"2020-06-08\",\"2020-06-09\",\"2020-06-10\",\"2020-06-11\",\"2020-06-12\",\"2020-06-15\",\"2020-06-16\",\"2020-06-17\",\"2020-06-18\",\"2020-06-19\",\"2020-06-22\",\"2020-06-23\",\"2020-06-24\",\"2020-06-25\",\"2020-06-26\",\"2020-06-29\",\"2020-06-30\",\"2020-07-01\",\"2020-07-02\",\"2020-07-06\",\"2020-07-07\",\"2020-07-08\",\"2020-07-09\",\"2020-07-10\",\"2020-07-13\",\"2020-07-14\",\"2020-07-15\",\"2020-07-16\",\"2020-07-17\",\"2020-07-20\",\"2020-07-21\",\"2020-07-22\",\"2020-07-23\",\"2020-07-24\",\"2020-07-27\",\"2020-07-28\",\"2020-07-29\",\"2020-07-30\",\"2020-07-31\",\"2020-08-03\",\"2020-08-04\",\"2020-08-05\",\"2020-08-06\",\"2020-08-07\",\"2020-08-10\",\"2020-08-11\",\"2020-08-12\",\"2020-08-13\",\"2020-08-14\",\"2020-08-17\",\"2020-08-18\",\"2020-08-19\",\"2020-08-20\",\"2020-08-21\",\"2020-08-24\",\"2020-08-25\",\"2020-08-26\",\"2020-08-27\",\"2020-08-28\",\"2020-08-31\",\"2020-09-01\",\"2020-09-02\",\"2020-09-03\",\"2020-09-04\",\"2020-09-08\",\"2020-09-09\",\"2020-09-10\",\"2020-09-11\",\"2020-09-14\",\"2020-09-15\",\"2020-09-16\",\"2020-09-17\",\"2020-09-18\",\"2020-09-21\",\"2020-09-22\",\"2020-09-23\",\"2020-09-24\",\"2020-09-25\",\"2020-09-28\",\"2020-09-29\",\"2020-09-30\",\"2020-10-01\",\"2020-10-02\",\"2020-10-05\",\"2020-10-06\",\"2020-10-07\",\"2020-10-08\",\"2020-10-09\",\"2020-10-12\",\"2020-10-13\",\"2020-10-14\",\"2020-10-15\",\"2020-10-16\",\"2020-10-19\",\"2020-10-20\",\"2020-10-21\",\"2020-10-22\",\"2020-10-23\",\"2020-10-26\",\"2020-10-27\",\"2020-10-28\",\"2020-10-29\",\"2020-10-30\",\"2020-11-02\",\"2020-11-03\",\"2020-11-04\",\"2020-11-05\",\"2020-11-06\",\"2020-11-09\",\"2020-11-10\",\"2020-11-11\",\"2020-11-12\",\"2020-11-13\",\"2020-11-16\",\"2020-11-17\",\"2020-11-18\",\"2020-11-19\",\"2020-11-20\",\"2020-11-23\",\"2020-12-21\",\"2020-12-22\",\"2020-12-23\",\"2020-12-24\",\"2020-12-28\",\"2020-12-29\",\"2020-12-30\",\"2020-12-31\",\"2021-01-04\",\"2021-01-05\",\"2021-01-06\",\"2021-01-07\",\"2021-01-08\",\"2021-01-11\",\"2021-01-12\",\"2021-01-13\",\"2021-01-14\",\"2021-01-15\",\"2021-01-19\",\"2021-01-20\",\"2021-01-21\",\"2021-01-22\",\"2021-01-25\",\"2021-01-26\",\"2021-01-27\",\"2021-01-28\",\"2021-01-29\",\"2021-02-01\",\"2021-02-02\",\"2021-02-03\",\"2021-02-04\",\"2021-02-05\",\"2021-02-08\",\"2021-02-09\",\"2021-02-10\",\"2021-02-11\",\"2021-02-12\",\"2021-02-16\",\"2021-02-17\",\"2021-02-18\",\"2021-02-19\",\"2021-02-22\",\"2021-02-23\",\"2021-02-24\",\"2021-02-25\",\"2021-02-26\",\"2021-03-01\",\"2021-03-02\",\"2021-03-03\",\"2021-03-04\",\"2021-03-05\",\"2021-03-08\",\"2021-03-09\",\"2021-03-10\",\"2021-03-11\",\"2021-03-12\",\"2021-03-15\",\"2021-03-16\",\"2021-03-17\",\"2021-03-18\",\"2021-03-19\",\"2021-03-22\",\"2021-03-23\",\"2021-03-24\",\"2021-03-25\",\"2021-03-26\",\"2021-03-29\",\"2021-03-30\",\"2021-03-31\",\"2021-04-01\",\"2021-04-05\",\"2021-04-06\",\"2021-04-07\",\"2021-04-08\",\"2021-04-09\",\"2021-04-12\",\"2021-04-13\",\"2021-04-14\",\"2021-04-15\",\"2021-04-16\",\"2021-04-19\",\"2021-04-20\",\"2021-04-21\",\"2021-04-22\",\"2021-04-23\",\"2021-04-26\",\"2021-04-27\",\"2021-04-28\",\"2021-04-29\",\"2021-04-30\",\"2021-05-03\",\"2021-05-04\",\"2021-05-05\",\"2021-05-06\",\"2021-05-07\",\"2021-05-10\",\"2021-05-11\",\"2021-05-12\",\"2021-05-13\",\"2021-05-14\",\"2021-05-17\",\"2021-05-18\",\"2021-05-19\",\"2021-05-20\",\"2021-05-21\",\"2021-05-24\",\"2021-05-25\",\"2021-05-26\",\"2021-05-27\",\"2021-05-28\",\"2021-06-01\",\"2021-06-02\",\"2021-06-03\",\"2021-06-04\",\"2021-06-07\",\"2021-06-08\",\"2021-06-09\",\"2021-06-10\",\"2021-06-11\",\"2021-06-14\",\"2021-06-15\",\"2021-06-16\",\"2021-06-17\",\"2021-06-18\",\"2021-06-21\",\"2021-06-22\",\"2021-06-23\",\"2021-06-24\",\"2021-06-25\",\"2021-06-28\",\"2021-06-29\",\"2021-06-30\",\"2021-07-01\",\"2021-07-02\",\"2021-07-06\",\"2021-07-07\",\"2021-07-08\",\"2021-07-09\",\"2021-07-12\",\"2021-07-13\",\"2021-07-14\",\"2021-07-15\",\"2021-07-16\",\"2021-07-19\",\"2021-07-20\",\"2021-07-21\",\"2021-07-22\",\"2021-07-23\",\"2021-07-26\",\"2021-07-27\",\"2021-07-28\",\"2021-07-29\",\"2021-07-30\",\"2021-08-02\",\"2021-08-03\",\"2021-08-04\",\"2021-08-05\",\"2021-08-06\",\"2021-08-09\",\"2021-08-10\",\"2021-08-11\",\"2021-08-12\",\"2021-08-13\",\"2021-08-16\",\"2021-08-17\",\"2021-08-18\",\"2021-08-19\",\"2021-08-20\",\"2021-08-23\",\"2021-08-24\",\"2021-08-25\",\"2021-08-26\",\"2021-08-27\",\"2021-08-30\",\"2021-08-31\",\"2021-09-01\",\"2021-09-02\",\"2021-09-03\",\"2021-09-07\",\"2021-09-08\",\"2021-09-09\",\"2021-09-10\",\"2021-09-13\",\"2021-09-14\",\"2021-09-15\",\"2021-09-16\",\"2021-09-17\",\"2021-09-20\",\"2021-09-21\",\"2021-09-22\",\"2021-09-23\",\"2021-09-24\",\"2021-09-27\",\"2021-09-28\",\"2021-09-29\",\"2021-09-30\",\"2021-10-01\",\"2021-10-04\",\"2021-10-05\",\"2021-10-06\",\"2021-10-07\",\"2021-10-08\",\"2021-10-11\",\"2021-10-12\",\"2021-10-13\",\"2021-10-14\",\"2021-10-15\",\"2021-10-18\",\"2021-10-19\",\"2021-10-20\",\"2021-10-21\",\"2021-10-22\",\"2021-10-25\",\"2021-10-26\",\"2021-10-27\",\"2021-10-28\",\"2021-10-29\",\"2021-11-01\",\"2021-11-02\",\"2021-11-03\",\"2021-11-04\",\"2021-11-05\",\"2021-11-08\"],\"y\":[8571.5,8822.66,9311.58,9338.85,9314.16,9729.56,9777.43,9514.6,9057.09,9165.0,8842.3,9210.0,9203.61,9428.26,10208.9,9519.82,9665.42,9796.41,9623.88,9784.63,9786.5,9893.01,9266.87,9469.72,9429.22,9526.4,9453.44,9458.3,9297.78,9687.7,9621.38,9296.46,9238.91,9154.99,9189.46,9133.0,9237.69,9235.27,9350.21,9259.88,9444.51,9237.93,9292.33,9239.48,9258.28,9193.01,9197.64,9155.32,9167.51,9396.53,9538.43,9618.73,9553.93,11044.83,10937.91,11114.89,11172.0,11351.77,11240.12,11197.18,11764.66,11779.79,11615.69,11906.57,11388.86,11575.01,11800.0,11779.2,12315.7,11959.45,11765.1,11770.68,11535.18,11761.99,11327.31,11478.3,11473.15,11548.53,11662.17,11928.77,11400.27,10174.02,10462.35,10133.44,10234.0,10236.86,10402.81,10684.06,10787.96,10959.26,10950.75,10937.65,10420.69,10542.58,10238.87,10237.48,10691.91,10698.34,10845.73,10784.04,10628.6,10576.2,10795.58,10609.31,10670.77,10929.04,11058.1,11535.57,11430.34,11428.0,11506.14,11324.27,11761.81,11923.0,12820.75,12989.32,12942.83,13071.75,13660.0,13299.32,13474.15,13581.26,13586.85,14052.63,14165.54,15617.32,15609.29,15348.2,15318.0,15710.87,15710.02,16350.0,16724.83,17687.37,17801.44,17828.5,18686.0,18130.52,22742.24,23850.0,23237.1,23738.23,27044.13,27368.9,28898.55,28979.74,32039.02,34090.9,36907.04,39500.0,40635.59,35487.44,34016.68,37420.4,39147.75,36791.61,35902.41,35498.21,30852.67,33030.08,32288.47,32536.21,30453.91,33438.74,34257.22,33554.84,35522.57,37714.59,37000.0,38311.58,46434.63,46507.0,44852.74,48007.14,47480.98,49194.17,52169.93,51585.21,55984.59,54159.14,48955.33,49773.07,47091.33,46362.02,49665.52,48493.93,50393.0,48367.92,48773.28,52415.59,54917.86,55840.08,57822.39,57234.47,55634.81,56944.15,58909.04,57627.15,58146.54,54106.31,54399.92,52301.0,51330.47,55061.72,57605.13,58768.86,58803.84,58727.57,59118.85,58035.08,55943.27,58086.19,58121.59,59863.12,63619.79,62972.24,63237.66,61436.65,55691.79,56505.04,53804.03,51700.89,51207.59,54060.48,55083.6,54886.56,53609.84,57802.19,57211.36,53239.53,57524.92,56450.03,57394.12,55882.44,56775.24,49451.0,49680.22,49887.23,43583.02,42886.0,36757.42,40571.72,37333.59,38861.83,38390.3,39293.17,38568.36,35683.96,36686.39,37589.22,39252.3,36868.01,33591.69,33414.85,37406.66,36663.07,37344.58,40536.0,40198.48,38354.1,38095.14,35808.56,31615.64,32524.5,33680.9,33805.44,31601.95,34501.06,35914.8,35021.0,33524.28,33817.43,34224.72,33884.88,32875.95,33831.0,33109.34,32714.31,32821.17,31877.19,31395.43,30828.83,29797.23,32142.86,32294.63,33648.18,37245.9,39487.31,40023.29,40042.74,42211.58,39157.74,38189.65,39700.0,40889.84,42808.8,46279.23,45596.74,45550.01,44430.99,47836.11,45911.98,44685.69,44715.19,46760.73,49328.89,49536.71,47712.86,49010.65,46877.9,49083.17,46999.61,47153.97,48843.71,49287.38,50021.95,46869.5,46085.75,46387.04,44861.72,44959.7,47144.08,48149.55,47762.94,47285.85,43005.87,40715.82,43573.83,44897.19,42847.94,42173.21,41038.99,41544.92,43830.08,48166.36,49236.38,51525.46,55324.89,53791.32,53949.4,57500.0,56019.08,57382.21,57319.0,61665.41,62080.22,64291.8,66039.76,62218.56,60695.95,63084.81,60300.4,58473.61,60602.63,62292.8,60961.5,63258.2,62939.34,61452.63,61020.37,67552.21]},{\"line\":{\"color\":\"rgba(55, 128, 191, 1.0)\",\"dash\":\"solid\",\"shape\":\"linear\",\"width\":1.3},\"mode\":\"lines\",\"name\":\"SMA(14)\",\"text\":\"\",\"type\":\"scatter\",\"x\":[\"2020-05-11\",\"2020-05-12\",\"2020-05-13\",\"2020-05-14\",\"2020-05-15\",\"2020-05-18\",\"2020-05-19\",\"2020-05-20\",\"2020-05-21\",\"2020-05-22\",\"2020-05-26\",\"2020-05-27\",\"2020-05-28\",\"2020-05-29\",\"2020-06-01\",\"2020-06-02\",\"2020-06-03\",\"2020-06-04\",\"2020-06-05\",\"2020-06-08\",\"2020-06-09\",\"2020-06-10\",\"2020-06-11\",\"2020-06-12\",\"2020-06-15\",\"2020-06-16\",\"2020-06-17\",\"2020-06-18\",\"2020-06-19\",\"2020-06-22\",\"2020-06-23\",\"2020-06-24\",\"2020-06-25\",\"2020-06-26\",\"2020-06-29\",\"2020-06-30\",\"2020-07-01\",\"2020-07-02\",\"2020-07-06\",\"2020-07-07\",\"2020-07-08\",\"2020-07-09\",\"2020-07-10\",\"2020-07-13\",\"2020-07-14\",\"2020-07-15\",\"2020-07-16\",\"2020-07-17\",\"2020-07-20\",\"2020-07-21\",\"2020-07-22\",\"2020-07-23\",\"2020-07-24\",\"2020-07-27\",\"2020-07-28\",\"2020-07-29\",\"2020-07-30\",\"2020-07-31\",\"2020-08-03\",\"2020-08-04\",\"2020-08-05\",\"2020-08-06\",\"2020-08-07\",\"2020-08-10\",\"2020-08-11\",\"2020-08-12\",\"2020-08-13\",\"2020-08-14\",\"2020-08-17\",\"2020-08-18\",\"2020-08-19\",\"2020-08-20\",\"2020-08-21\",\"2020-08-24\",\"2020-08-25\",\"2020-08-26\",\"2020-08-27\",\"2020-08-28\",\"2020-08-31\",\"2020-09-01\",\"2020-09-02\",\"2020-09-03\",\"2020-09-04\",\"2020-09-08\",\"2020-09-09\",\"2020-09-10\",\"2020-09-11\",\"2020-09-14\",\"2020-09-15\",\"2020-09-16\",\"2020-09-17\",\"2020-09-18\",\"2020-09-21\",\"2020-09-22\",\"2020-09-23\",\"2020-09-24\",\"2020-09-25\",\"2020-09-28\",\"2020-09-29\",\"2020-09-30\",\"2020-10-01\",\"2020-10-02\",\"2020-10-05\",\"2020-10-06\",\"2020-10-07\",\"2020-10-08\",\"2020-10-09\",\"2020-10-12\",\"2020-10-13\",\"2020-10-14\",\"2020-10-15\",\"2020-10-16\",\"2020-10-19\",\"2020-10-20\",\"2020-10-21\",\"2020-10-22\",\"2020-10-23\",\"2020-10-26\",\"2020-10-27\",\"2020-10-28\",\"2020-10-29\",\"2020-10-30\",\"2020-11-02\",\"2020-11-03\",\"2020-11-04\",\"2020-11-05\",\"2020-11-06\",\"2020-11-09\",\"2020-11-10\",\"2020-11-11\",\"2020-11-12\",\"2020-11-13\",\"2020-11-16\",\"2020-11-17\",\"2020-11-18\",\"2020-11-19\",\"2020-11-20\",\"2020-11-23\",\"2020-12-21\",\"2020-12-22\",\"2020-12-23\",\"2020-12-24\",\"2020-12-28\",\"2020-12-29\",\"2020-12-30\",\"2020-12-31\",\"2021-01-04\",\"2021-01-05\",\"2021-01-06\",\"2021-01-07\",\"2021-01-08\",\"2021-01-11\",\"2021-01-12\",\"2021-01-13\",\"2021-01-14\",\"2021-01-15\",\"2021-01-19\",\"2021-01-20\",\"2021-01-21\",\"2021-01-22\",\"2021-01-25\",\"2021-01-26\",\"2021-01-27\",\"2021-01-28\",\"2021-01-29\",\"2021-02-01\",\"2021-02-02\",\"2021-02-03\",\"2021-02-04\",\"2021-02-05\",\"2021-02-08\",\"2021-02-09\",\"2021-02-10\",\"2021-02-11\",\"2021-02-12\",\"2021-02-16\",\"2021-02-17\",\"2021-02-18\",\"2021-02-19\",\"2021-02-22\",\"2021-02-23\",\"2021-02-24\",\"2021-02-25\",\"2021-02-26\",\"2021-03-01\",\"2021-03-02\",\"2021-03-03\",\"2021-03-04\",\"2021-03-05\",\"2021-03-08\",\"2021-03-09\",\"2021-03-10\",\"2021-03-11\",\"2021-03-12\",\"2021-03-15\",\"2021-03-16\",\"2021-03-17\",\"2021-03-18\",\"2021-03-19\",\"2021-03-22\",\"2021-03-23\",\"2021-03-24\",\"2021-03-25\",\"2021-03-26\",\"2021-03-29\",\"2021-03-30\",\"2021-03-31\",\"2021-04-01\",\"2021-04-05\",\"2021-04-06\",\"2021-04-07\",\"2021-04-08\",\"2021-04-09\",\"2021-04-12\",\"2021-04-13\",\"2021-04-14\",\"2021-04-15\",\"2021-04-16\",\"2021-04-19\",\"2021-04-20\",\"2021-04-21\",\"2021-04-22\",\"2021-04-23\",\"2021-04-26\",\"2021-04-27\",\"2021-04-28\",\"2021-04-29\",\"2021-04-30\",\"2021-05-03\",\"2021-05-04\",\"2021-05-05\",\"2021-05-06\",\"2021-05-07\",\"2021-05-10\",\"2021-05-11\",\"2021-05-12\",\"2021-05-13\",\"2021-05-14\",\"2021-05-17\",\"2021-05-18\",\"2021-05-19\",\"2021-05-20\",\"2021-05-21\",\"2021-05-24\",\"2021-05-25\",\"2021-05-26\",\"2021-05-27\",\"2021-05-28\",\"2021-06-01\",\"2021-06-02\",\"2021-06-03\",\"2021-06-04\",\"2021-06-07\",\"2021-06-08\",\"2021-06-09\",\"2021-06-10\",\"2021-06-11\",\"2021-06-14\",\"2021-06-15\",\"2021-06-16\",\"2021-06-17\",\"2021-06-18\",\"2021-06-21\",\"2021-06-22\",\"2021-06-23\",\"2021-06-24\",\"2021-06-25\",\"2021-06-28\",\"2021-06-29\",\"2021-06-30\",\"2021-07-01\",\"2021-07-02\",\"2021-07-06\",\"2021-07-07\",\"2021-07-08\",\"2021-07-09\",\"2021-07-12\",\"2021-07-13\",\"2021-07-14\",\"2021-07-15\",\"2021-07-16\",\"2021-07-19\",\"2021-07-20\",\"2021-07-21\",\"2021-07-22\",\"2021-07-23\",\"2021-07-26\",\"2021-07-27\",\"2021-07-28\",\"2021-07-29\",\"2021-07-30\",\"2021-08-02\",\"2021-08-03\",\"2021-08-04\",\"2021-08-05\",\"2021-08-06\",\"2021-08-09\",\"2021-08-10\",\"2021-08-11\",\"2021-08-12\",\"2021-08-13\",\"2021-08-16\",\"2021-08-17\",\"2021-08-18\",\"2021-08-19\",\"2021-08-20\",\"2021-08-23\",\"2021-08-24\",\"2021-08-25\",\"2021-08-26\",\"2021-08-27\",\"2021-08-30\",\"2021-08-31\",\"2021-09-01\",\"2021-09-02\",\"2021-09-03\",\"2021-09-07\",\"2021-09-08\",\"2021-09-09\",\"2021-09-10\",\"2021-09-13\",\"2021-09-14\",\"2021-09-15\",\"2021-09-16\",\"2021-09-17\",\"2021-09-20\",\"2021-09-21\",\"2021-09-22\",\"2021-09-23\",\"2021-09-24\",\"2021-09-27\",\"2021-09-28\",\"2021-09-29\",\"2021-09-30\",\"2021-10-01\",\"2021-10-04\",\"2021-10-05\",\"2021-10-06\",\"2021-10-07\",\"2021-10-08\",\"2021-10-11\",\"2021-10-12\",\"2021-10-13\",\"2021-10-14\",\"2021-10-15\",\"2021-10-18\",\"2021-10-19\",\"2021-10-20\",\"2021-10-21\",\"2021-10-22\",\"2021-10-25\",\"2021-10-26\",\"2021-10-27\",\"2021-10-28\",\"2021-10-29\",\"2021-11-01\",\"2021-11-02\",\"2021-11-03\",\"2021-11-04\",\"2021-11-05\",\"2021-11-08\"],\"y\":[\"\",\"\",\"\",\"\",\"\",\"\",\"\",\"\",\"\",\"\",\"\",\"\",\"\",9234.757142857143,9351.714285714286,9401.511428571428,9426.785714285714,9459.468571428572,9481.591428571428,9485.525,9486.172857142856,9513.202142857144,9528.18642857143,9549.952142857144,9591.875,9614.475,9632.320000000002,9634.465714285714,9569.385714285714,9581.377142857144,9578.231428571427,9542.520714285714,9515.022857142858,9470.048571428571,9427.402857142855,9373.11642857143,9371.032142857144,9354.285714285714,9348.642142857143,9329.605,9328.967142857144,9313.226428571428,9312.837142857143,9280.821428571428,9254.885714285714,9247.496428571429,9244.548571428571,9244.572142857143,9243.004285714285,9261.827857142856,9283.309285714286,9310.699285714287,9325.250714285714,9452.747142857143,9559.41857142857,9693.487142857144,9827.749285714284,9978.627142857144,10120.187142857143,10263.342142857144,10446.700714285715,10634.162857142857,10809.032857142856,10988.32142857143,11120.494999999999,11260.229285714286,11420.662857142857,11473.117857142859,11571.531428571428,11631.857142857143,11674.221428571429,11704.143571428573,11725.219285714285,11765.562857142857,11734.323571428573,11712.788571428571,11702.607142857143,11677.032857142856,11696.555000000002,11721.823571428571,11693.27142857143,11578.615714285714,11446.233571428573,11315.804285714286,11206.44,11096.881428571429,11015.997857142856,10939.002857142856,10900.477857142858,10863.403571428571,10826.089285714286,10782.455,10693.777857142855,10594.764285714287,10511.807142857142,10516.34,10532.737142857144,10573.087142857143,10616.782142857142,10655.86642857143,10671.994285714287,10664.289999999999,10664.834285714285,10639.837857142858,10619.839285714286,10619.224285714285,10664.753571428573,10735.68142857143,10820.78642857143,10905.823571428571,10963.982857142855,11008.692142857142,11074.12642857143,11155.480714285715,11312.062857142857,11484.42857142857,11637.80357142857,11813.692142857142,12027.208571428573,12196.514285714287,12369.089285714286,12515.210000000001,12669.246428571427,12856.72,13046.677142857143,13353.323571428571,13628.14357142857,13872.800714285713,14051.175714285713,14245.572142857143,14443.228571428572,14677.389285714287,14896.305714285714,15209.737857142856,15518.83,15822.204285714284,16186.429285714286,16477.707142857143,17090.32857142857,17678.37714285714,18223.220714285715,18822.50857142857,19660.089285714286,20492.805714285718,21434.84357142857,22336.967857142856,23430.838571428572,24602.519285714283,25967.204999999998,27515.169285714284,29082.99714285714,30322.777142857143,31128.094285714287,32097.408571428572,33233.883571428574,34166.267857142855,34799.00214285714,35379.66714285714,35519.247142857144,35808.55714285714,35826.375,35715.32571428572,35254.38785714286,34821.440714285716,34365.84285714286,34227.8,34335.36357142857,34356.37714285714,34202.966428571424,34311.53571428572,35063.83714285714,35850.17928571429,36850.184285714284,37919.974285714285,39005.15357142857,40195.00785714285,41746.15214285714,43042.32857142857,44594.28357142857,46066.019285714276,47025.50214285714,47886.82214285714,48607.631428571425,49182.66285714285,49413.44071428571,49555.364285714284,49951.09714285714,49976.86714285715,50069.17428571428,50299.275714285715,50495.55642857142,50799.47571428572,50930.74714285715,51150.41357142857,51627.519285714276,52139.739285714284,52983.861428571436,53788.51357142858,54394.30071428571,54795.185,55081.39357142857,55362.32785714286,55544.98428571429,55733.993571428575,55925.94142857143,56135.14,56205.24357142857,56311.89357142857,56560.75357142858,56638.677142857145,56426.83642857143,56459.625,56457.84285714286,56869.04357142857,57527.60571428571,58289.83714285714,59140.350714285705,59595.70285714285,59459.03571428572,59297.33428571429,58940.205,58438.29928571428,57873.20928571428,57589.30928571429,57527.904285714285,57299.35928571428,56977.09142857143,56829.88214285714,56372.13714285714,55676.94357142857,55268.89071428572,54912.70357142857,55034.29857142857,54989.82714285714,55202.05642857143,55041.35,54932.25214285714,54634.16285714285,53812.69285714285,52955.51,51751.76571428571,50521.017857142855,49101.177142857145,48074.19857142858,46707.439999999995,45481.950000000004,44137.25285714286,42694.50428571428,41259.58642857143,40412.31642857143,39667.465000000004,38737.52071428572,38023.85428571428,37347.34357142857,37393.71785714286,37114.52857142857,37115.313571428575,37234.897142857146,37364.05285714286,37296.976428571434,37263.175,37272.075,36909.87857142857,36548.112857142856,36150.15571428572,35931.400714285715,35789.27642857143,35866.862857142856,35760.30142857143,35643.010714285716,35370.13214285714,34890.23428571429,34463.537142857145,34144.30714285715,33771.50785714285,33630.25357142858,33736.94642857143,33750.50428571428,33689.094999999994,33551.362857142856,33536.61142857143,33274.309285714284,32837.34,32631.75857142857,32543.92642857143,32531.837142857144,32747.635714285712,33147.809285714284,33658.33357142857,34102.029285714285,34752.18928571429,35212.434285714284,35595.897142857146,36154.669285714284,36832.84142857143,37688.55357142857,38865.83928571428,39826.830714285716,40773.64357142857,41543.84428571429,42300.28785714286,42759.19285714285,43092.221428571436,43425.96785714286,43750.90714285714,44477.41785714286,45287.92214285714,45860.26928571429,46440.32714285714,46730.97714285714,46931.258571428574,47031.46357142857,47146.03214285714,47461.226428571434,47564.888571428564,47858.45785714286,48014.444285714286,48112.34142857143,48085.649285714295,47766.565714285716,47439.63642857142,47399.00928571429,47337.50214285714,47400.71928571429,47272.33928571428,46987.07214285714,46527.20428571429,46150.78428571428,45837.19928571429,45324.770000000004,44989.32071428571,44628.837857142855,44282.97214285714,44209.28357142857,44438.330714285716,44587.78071428571,44828.91714285715,45369.05642857142,45833.73285714286,46615.41357142857,47814.283571428576,48703.229999999996,49595.01714285714,50628.66428571428,52020.96428571428,53523.90928571428,55148.686428571425,56735.092142857146,57738.82071428571,58557.361428571436,59383.029285714285,59738.42285714286,60072.87214285714,60548.102857142854,60890.44571428571,61243.47571428572,61663.18928571429,62064.64214285714,62049.44357142857,61973.74,62206.62642857143]},{\"line\":{\"color\":\"rgba(55, 128, 191, 0.8999999999999999)\",\"dash\":\"solid\",\"shape\":\"linear\",\"width\":1.3},\"mode\":\"lines\",\"name\":\"UPPER(14)\",\"text\":\"\",\"type\":\"scatter\",\"x\":[\"2020-05-11\",\"2020-05-12\",\"2020-05-13\",\"2020-05-14\",\"2020-05-15\",\"2020-05-18\",\"2020-05-19\",\"2020-05-20\",\"2020-05-21\",\"2020-05-22\",\"2020-05-26\",\"2020-05-27\",\"2020-05-28\",\"2020-05-29\",\"2020-06-01\",\"2020-06-02\",\"2020-06-03\",\"2020-06-04\",\"2020-06-05\",\"2020-06-08\",\"2020-06-09\",\"2020-06-10\",\"2020-06-11\",\"2020-06-12\",\"2020-06-15\",\"2020-06-16\",\"2020-06-17\",\"2020-06-18\",\"2020-06-19\",\"2020-06-22\",\"2020-06-23\",\"2020-06-24\",\"2020-06-25\",\"2020-06-26\",\"2020-06-29\",\"2020-06-30\",\"2020-07-01\",\"2020-07-02\",\"2020-07-06\",\"2020-07-07\",\"2020-07-08\",\"2020-07-09\",\"2020-07-10\",\"2020-07-13\",\"2020-07-14\",\"2020-07-15\",\"2020-07-16\",\"2020-07-17\",\"2020-07-20\",\"2020-07-21\",\"2020-07-22\",\"2020-07-23\",\"2020-07-24\",\"2020-07-27\",\"2020-07-28\",\"2020-07-29\",\"2020-07-30\",\"2020-07-31\",\"2020-08-03\",\"2020-08-04\",\"2020-08-05\",\"2020-08-06\",\"2020-08-07\",\"2020-08-10\",\"2020-08-11\",\"2020-08-12\",\"2020-08-13\",\"2020-08-14\",\"2020-08-17\",\"2020-08-18\",\"2020-08-19\",\"2020-08-20\",\"2020-08-21\",\"2020-08-24\",\"2020-08-25\",\"2020-08-26\",\"2020-08-27\",\"2020-08-28\",\"2020-08-31\",\"2020-09-01\",\"2020-09-02\",\"2020-09-03\",\"2020-09-04\",\"2020-09-08\",\"2020-09-09\",\"2020-09-10\",\"2020-09-11\",\"2020-09-14\",\"2020-09-15\",\"2020-09-16\",\"2020-09-17\",\"2020-09-18\",\"2020-09-21\",\"2020-09-22\",\"2020-09-23\",\"2020-09-24\",\"2020-09-25\",\"2020-09-28\",\"2020-09-29\",\"2020-09-30\",\"2020-10-01\",\"2020-10-02\",\"2020-10-05\",\"2020-10-06\",\"2020-10-07\",\"2020-10-08\",\"2020-10-09\",\"2020-10-12\",\"2020-10-13\",\"2020-10-14\",\"2020-10-15\",\"2020-10-16\",\"2020-10-19\",\"2020-10-20\",\"2020-10-21\",\"2020-10-22\",\"2020-10-23\",\"2020-10-26\",\"2020-10-27\",\"2020-10-28\",\"2020-10-29\",\"2020-10-30\",\"2020-11-02\",\"2020-11-03\",\"2020-11-04\",\"2020-11-05\",\"2020-11-06\",\"2020-11-09\",\"2020-11-10\",\"2020-11-11\",\"2020-11-12\",\"2020-11-13\",\"2020-11-16\",\"2020-11-17\",\"2020-11-18\",\"2020-11-19\",\"2020-11-20\",\"2020-11-23\",\"2020-12-21\",\"2020-12-22\",\"2020-12-23\",\"2020-12-24\",\"2020-12-28\",\"2020-12-29\",\"2020-12-30\",\"2020-12-31\",\"2021-01-04\",\"2021-01-05\",\"2021-01-06\",\"2021-01-07\",\"2021-01-08\",\"2021-01-11\",\"2021-01-12\",\"2021-01-13\",\"2021-01-14\",\"2021-01-15\",\"2021-01-19\",\"2021-01-20\",\"2021-01-21\",\"2021-01-22\",\"2021-01-25\",\"2021-01-26\",\"2021-01-27\",\"2021-01-28\",\"2021-01-29\",\"2021-02-01\",\"2021-02-02\",\"2021-02-03\",\"2021-02-04\",\"2021-02-05\",\"2021-02-08\",\"2021-02-09\",\"2021-02-10\",\"2021-02-11\",\"2021-02-12\",\"2021-02-16\",\"2021-02-17\",\"2021-02-18\",\"2021-02-19\",\"2021-02-22\",\"2021-02-23\",\"2021-02-24\",\"2021-02-25\",\"2021-02-26\",\"2021-03-01\",\"2021-03-02\",\"2021-03-03\",\"2021-03-04\",\"2021-03-05\",\"2021-03-08\",\"2021-03-09\",\"2021-03-10\",\"2021-03-11\",\"2021-03-12\",\"2021-03-15\",\"2021-03-16\",\"2021-03-17\",\"2021-03-18\",\"2021-03-19\",\"2021-03-22\",\"2021-03-23\",\"2021-03-24\",\"2021-03-25\",\"2021-03-26\",\"2021-03-29\",\"2021-03-30\",\"2021-03-31\",\"2021-04-01\",\"2021-04-05\",\"2021-04-06\",\"2021-04-07\",\"2021-04-08\",\"2021-04-09\",\"2021-04-12\",\"2021-04-13\",\"2021-04-14\",\"2021-04-15\",\"2021-04-16\",\"2021-04-19\",\"2021-04-20\",\"2021-04-21\",\"2021-04-22\",\"2021-04-23\",\"2021-04-26\",\"2021-04-27\",\"2021-04-28\",\"2021-04-29\",\"2021-04-30\",\"2021-05-03\",\"2021-05-04\",\"2021-05-05\",\"2021-05-06\",\"2021-05-07\",\"2021-05-10\",\"2021-05-11\",\"2021-05-12\",\"2021-05-13\",\"2021-05-14\",\"2021-05-17\",\"2021-05-18\",\"2021-05-19\",\"2021-05-20\",\"2021-05-21\",\"2021-05-24\",\"2021-05-25\",\"2021-05-26\",\"2021-05-27\",\"2021-05-28\",\"2021-06-01\",\"2021-06-02\",\"2021-06-03\",\"2021-06-04\",\"2021-06-07\",\"2021-06-08\",\"2021-06-09\",\"2021-06-10\",\"2021-06-11\",\"2021-06-14\",\"2021-06-15\",\"2021-06-16\",\"2021-06-17\",\"2021-06-18\",\"2021-06-21\",\"2021-06-22\",\"2021-06-23\",\"2021-06-24\",\"2021-06-25\",\"2021-06-28\",\"2021-06-29\",\"2021-06-30\",\"2021-07-01\",\"2021-07-02\",\"2021-07-06\",\"2021-07-07\",\"2021-07-08\",\"2021-07-09\",\"2021-07-12\",\"2021-07-13\",\"2021-07-14\",\"2021-07-15\",\"2021-07-16\",\"2021-07-19\",\"2021-07-20\",\"2021-07-21\",\"2021-07-22\",\"2021-07-23\",\"2021-07-26\",\"2021-07-27\",\"2021-07-28\",\"2021-07-29\",\"2021-07-30\",\"2021-08-02\",\"2021-08-03\",\"2021-08-04\",\"2021-08-05\",\"2021-08-06\",\"2021-08-09\",\"2021-08-10\",\"2021-08-11\",\"2021-08-12\",\"2021-08-13\",\"2021-08-16\",\"2021-08-17\",\"2021-08-18\",\"2021-08-19\",\"2021-08-20\",\"2021-08-23\",\"2021-08-24\",\"2021-08-25\",\"2021-08-26\",\"2021-08-27\",\"2021-08-30\",\"2021-08-31\",\"2021-09-01\",\"2021-09-02\",\"2021-09-03\",\"2021-09-07\",\"2021-09-08\",\"2021-09-09\",\"2021-09-10\",\"2021-09-13\",\"2021-09-14\",\"2021-09-15\",\"2021-09-16\",\"2021-09-17\",\"2021-09-20\",\"2021-09-21\",\"2021-09-22\",\"2021-09-23\",\"2021-09-24\",\"2021-09-27\",\"2021-09-28\",\"2021-09-29\",\"2021-09-30\",\"2021-10-01\",\"2021-10-04\",\"2021-10-05\",\"2021-10-06\",\"2021-10-07\",\"2021-10-08\",\"2021-10-11\",\"2021-10-12\",\"2021-10-13\",\"2021-10-14\",\"2021-10-15\",\"2021-10-18\",\"2021-10-19\",\"2021-10-20\",\"2021-10-21\",\"2021-10-22\",\"2021-10-25\",\"2021-10-26\",\"2021-10-27\",\"2021-10-28\",\"2021-10-29\",\"2021-11-01\",\"2021-11-02\",\"2021-11-03\",\"2021-11-04\",\"2021-11-05\",\"2021-11-08\"],\"y\":[\"\",\"\",\"\",\"\",\"\",\"\",\"\",\"\",\"\",\"\",\"\",\"\",\"\",9909.554525708689,10095.391437242752,10083.381157020947,10120.425518915632,10177.93438025509,10199.856920641663,10210.214773871443,10212.002073691488,10271.067845195108,10254.858338100687,10247.431274331164,10165.728380617513,10146.975011686523,10120.400024838293,10118.932075471785,9956.440356082268,9972.200770316147,9966.843788235285,9936.612959283035,9937.370708485874,9902.695376027505,9843.047982954511,9719.569947141626,9720.576385125982,9705.921317778811,9697.623190628074,9665.653229574267,9664.035308911898,9642.781694823214,9642.483870260756,9531.160682183203,9410.585009025344,9404.510038879513,9403.790447029984,9403.75700011505,9404.936106260759,9429.829549841028,9506.016843454756,9594.026737528699,9636.836046661369,10420.000582286493,10810.506738102367,11176.878819987702,11484.82456033268,11783.070428824454,11990.930768090015,12135.183257550672,12371.027881135127,12527.660883457409,12566.351593880125,12633.449591525612,12546.583759407224,12408.813178781365,12054.842219756285,12094.74684019044,12260.739984340282,12296.291696417362,12285.889250984668,12288.225126198031,12256.039787576952,12200.744150040246,12228.566181589647,12224.462896447374,12228.090583241912,12194.54586002238,12187.160830674933,12221.813532226617,12219.020526429746,12541.789553462555,12479.889212750813,12517.637965407064,12506.771300411821,12449.824126314297,12391.27569720455,12253.735698081151,12197.687998310961,12118.45917705189,12033.200340638728,11919.18451472462,11723.547809202417,11340.374738253802,11116.471942225784,11110.964900769639,11133.576757367333,11132.886329567587,11157.748135087122,11156.125402156775,11151.226452139057,11146.147385476632,11147.31024048942,11091.907915510412,11036.00681274104,11033.389329272297,11122.727849752706,11381.28684427914,11497.645583906096,11565.933827934996,11683.69194433027,11735.051794743064,11896.01570127861,12073.531886127901,12538.86925692621,12925.281261232158,13213.608268749547,13443.752049546332,13790.063920263032,13960.328597844313,14125.86072294644,14313.156253633257,14436.057824167068,14613.139592343832,14748.264928922845,15253.535957333144,15646.080654973344,15829.824169221089,16049.917696444525,16327.11290913407,16517.40358209757,16823.537381951515,17213.81988304126,17770.96678744696,18218.503926589663,18538.46145944231,18977.95225365156,19158.954947345384,21090.656505284966,22960.87988558424,24123.756007934797,25153.73933418343,27014.135119401195,28529.0326218902,30121.623407250256,31365.498711697364,33209.9950715328,35304.54583293632,37751.24728518125,40341.32266673407,42607.177369261764,42651.32544539326,42777.83460228586,43391.34067784308,43870.064540160165,43414.741118310645,43113.414871437664,42509.94515668157,42162.899461928704,41511.670273082695,41480.10165470662,41573.27748464547,41694.96874430468,40833.24107198474,39360.261523598776,39195.439023154846,39348.31757699107,39427.17104393693,38752.49185273217,39187.968774935616,43174.58647652333,46016.480312240004,47634.36513873369,49969.00826191655,51593.852493844635,53288.67205102089,55012.8626980573,56358.49763746229,58549.103672793375,59334.70240574489,58876.936769075255,58512.6754910676,57232.98680564041,55656.14235528688,55692.34662602404,55638.032054022566,55404.13437225499,55393.619846594425,55344.918867026696,55690.3679040074,56359.40135852159,57311.79898344844,57947.83213820731,58769.562940782955,59487.2858115539,60403.21185402552,61438.038121216116,61651.46311386315,62195.48496136997,61829.35861661379,61654.97430318843,60964.35512254348,60328.51515869137,60182.23738649968,60453.688335890096,60909.71098874099,61113.48030286857,61378.7889900191,61822.872737384285,61957.26010376228,61589.858145778235,61661.16998969927,61656.91464971681,62176.44422875559,63728.146123348226,64344.57362666369,64256.400676184814,64263.11252619908,64476.45098194804,64550.924036672295,64961.90790055672,65599.81354554908,65988.40139569789,65954.35428958065,65957.37226577559,65836.4373508984,65718.64609321485,65430.35202372096,64048.384561696,62493.01664065894,60672.899293812756,59081.76245213661,59396.08634366439,59299.40329457745,59552.52794695032,60063.34377514588,60362.75675597194,60692.64697292115,62257.45236166031,63179.51090112873,65126.68023029326,64647.550706473405,64287.110228437465,63982.04383183521,62404.111453328165,60569.19002065745,57953.22604403615,55401.026354454094,51393.087675443116,49527.94472494478,47062.72456102581,43346.15008893665,42492.49696145997,41501.80804820309,41534.287108822515,40838.12960291118,40839.118168819616,41292.839591859665,41686.86340291242,41518.80456813153,41448.57490255387,41443.51584906174,42064.968913419594,42186.07230253154,41752.28470078201,41650.731884013425,41847.888639020035,41821.41810828667,41649.188348921816,41519.841118972385,41261.37452239109,40013.255041171935,38577.82036017198,37598.867848221555,36422.452866621294,36010.558965392935,35846.801745064906,35829.00420631255,35826.422467985685,35894.95837607103,35935.02240188698,35999.344489998555,35697.06584827073,35215.7830477113,35080.423194060386,35043.6810856031,36221.05078843716,38143.12802942787,39851.31638263679,41175.75263686748,43007.41690815147,43693.6155122609,44096.77437519942,44630.96526066632,45187.24731305196,45845.66164271384,46873.000502258255,47583.714714340786,47768.596253829404,47448.71720615127,48537.36903180115,49049.894240474125,49251.28022386413,49376.036855916645,49908.54147065391,50700.34706041505,50909.83879317784,50592.7638103811,50489.93609257435,50200.34320329556,50605.94480383545,50625.002386859655,50636.92066512573,50682.5627893018,50928.455050875025,51316.675112917444,51024.098160868634,50722.33184143806,50761.984284482496,50840.10896352919,50671.70635721951,50630.58387943806,50468.14245211048,50527.121344838044,50244.96214051663,50737.2589145525,51551.689807744726,51217.12147547526,50601.710041719954,49675.69169315218,49546.477762254086,49592.66535922998,49391.73377395715,49311.84219640018,49956.92006660019,50519.84990689804,51599.82401293226,54077.48354629938,55611.36465812928,57140.39733247628,59230.421108198214,60624.00327438387,62140.87748723548,63164.45157552215,64838.02549206374,65712.95219992717,66494.36223943473,67457.10741706092,67601.9750245098,67208.53090003556,67320.18343758467,67330.9224434429,66912.02173056826,66408.98507158778,66540.48485164634,66151.22734053661,66134.05541634944,65804.79316440855,65798.30227016815,65762.51373349635,66901.62346956418]},{\"line\":{\"color\":\"rgba(55, 128, 191, 0.7999999999999998)\",\"dash\":\"solid\",\"shape\":\"linear\",\"width\":1.3},\"mode\":\"lines\",\"name\":\"LOWER(14)\",\"text\":\"\",\"type\":\"scatter\",\"x\":[\"2020-05-11\",\"2020-05-12\",\"2020-05-13\",\"2020-05-14\",\"2020-05-15\",\"2020-05-18\",\"2020-05-19\",\"2020-05-20\",\"2020-05-21\",\"2020-05-22\",\"2020-05-26\",\"2020-05-27\",\"2020-05-28\",\"2020-05-29\",\"2020-06-01\",\"2020-06-02\",\"2020-06-03\",\"2020-06-04\",\"2020-06-05\",\"2020-06-08\",\"2020-06-09\",\"2020-06-10\",\"2020-06-11\",\"2020-06-12\",\"2020-06-15\",\"2020-06-16\",\"2020-06-17\",\"2020-06-18\",\"2020-06-19\",\"2020-06-22\",\"2020-06-23\",\"2020-06-24\",\"2020-06-25\",\"2020-06-26\",\"2020-06-29\",\"2020-06-30\",\"2020-07-01\",\"2020-07-02\",\"2020-07-06\",\"2020-07-07\",\"2020-07-08\",\"2020-07-09\",\"2020-07-10\",\"2020-07-13\",\"2020-07-14\",\"2020-07-15\",\"2020-07-16\",\"2020-07-17\",\"2020-07-20\",\"2020-07-21\",\"2020-07-22\",\"2020-07-23\",\"2020-07-24\",\"2020-07-27\",\"2020-07-28\",\"2020-07-29\",\"2020-07-30\",\"2020-07-31\",\"2020-08-03\",\"2020-08-04\",\"2020-08-05\",\"2020-08-06\",\"2020-08-07\",\"2020-08-10\",\"2020-08-11\",\"2020-08-12\",\"2020-08-13\",\"2020-08-14\",\"2020-08-17\",\"2020-08-18\",\"2020-08-19\",\"2020-08-20\",\"2020-08-21\",\"2020-08-24\",\"2020-08-25\",\"2020-08-26\",\"2020-08-27\",\"2020-08-28\",\"2020-08-31\",\"2020-09-01\",\"2020-09-02\",\"2020-09-03\",\"2020-09-04\",\"2020-09-08\",\"2020-09-09\",\"2020-09-10\",\"2020-09-11\",\"2020-09-14\",\"2020-09-15\",\"2020-09-16\",\"2020-09-17\",\"2020-09-18\",\"2020-09-21\",\"2020-09-22\",\"2020-09-23\",\"2020-09-24\",\"2020-09-25\",\"2020-09-28\",\"2020-09-29\",\"2020-09-30\",\"2020-10-01\",\"2020-10-02\",\"2020-10-05\",\"2020-10-06\",\"2020-10-07\",\"2020-10-08\",\"2020-10-09\",\"2020-10-12\",\"2020-10-13\",\"2020-10-14\",\"2020-10-15\",\"2020-10-16\",\"2020-10-19\",\"2020-10-20\",\"2020-10-21\",\"2020-10-22\",\"2020-10-23\",\"2020-10-26\",\"2020-10-27\",\"2020-10-28\",\"2020-10-29\",\"2020-10-30\",\"2020-11-02\",\"2020-11-03\",\"2020-11-04\",\"2020-11-05\",\"2020-11-06\",\"2020-11-09\",\"2020-11-10\",\"2020-11-11\",\"2020-11-12\",\"2020-11-13\",\"2020-11-16\",\"2020-11-17\",\"2020-11-18\",\"2020-11-19\",\"2020-11-20\",\"2020-11-23\",\"2020-12-21\",\"2020-12-22\",\"2020-12-23\",\"2020-12-24\",\"2020-12-28\",\"2020-12-29\",\"2020-12-30\",\"2020-12-31\",\"2021-01-04\",\"2021-01-05\",\"2021-01-06\",\"2021-01-07\",\"2021-01-08\",\"2021-01-11\",\"2021-01-12\",\"2021-01-13\",\"2021-01-14\",\"2021-01-15\",\"2021-01-19\",\"2021-01-20\",\"2021-01-21\",\"2021-01-22\",\"2021-01-25\",\"2021-01-26\",\"2021-01-27\",\"2021-01-28\",\"2021-01-29\",\"2021-02-01\",\"2021-02-02\",\"2021-02-03\",\"2021-02-04\",\"2021-02-05\",\"2021-02-08\",\"2021-02-09\",\"2021-02-10\",\"2021-02-11\",\"2021-02-12\",\"2021-02-16\",\"2021-02-17\",\"2021-02-18\",\"2021-02-19\",\"2021-02-22\",\"2021-02-23\",\"2021-02-24\",\"2021-02-25\",\"2021-02-26\",\"2021-03-01\",\"2021-03-02\",\"2021-03-03\",\"2021-03-04\",\"2021-03-05\",\"2021-03-08\",\"2021-03-09\",\"2021-03-10\",\"2021-03-11\",\"2021-03-12\",\"2021-03-15\",\"2021-03-16\",\"2021-03-17\",\"2021-03-18\",\"2021-03-19\",\"2021-03-22\",\"2021-03-23\",\"2021-03-24\",\"2021-03-25\",\"2021-03-26\",\"2021-03-29\",\"2021-03-30\",\"2021-03-31\",\"2021-04-01\",\"2021-04-05\",\"2021-04-06\",\"2021-04-07\",\"2021-04-08\",\"2021-04-09\",\"2021-04-12\",\"2021-04-13\",\"2021-04-14\",\"2021-04-15\",\"2021-04-16\",\"2021-04-19\",\"2021-04-20\",\"2021-04-21\",\"2021-04-22\",\"2021-04-23\",\"2021-04-26\",\"2021-04-27\",\"2021-04-28\",\"2021-04-29\",\"2021-04-30\",\"2021-05-03\",\"2021-05-04\",\"2021-05-05\",\"2021-05-06\",\"2021-05-07\",\"2021-05-10\",\"2021-05-11\",\"2021-05-12\",\"2021-05-13\",\"2021-05-14\",\"2021-05-17\",\"2021-05-18\",\"2021-05-19\",\"2021-05-20\",\"2021-05-21\",\"2021-05-24\",\"2021-05-25\",\"2021-05-26\",\"2021-05-27\",\"2021-05-28\",\"2021-06-01\",\"2021-06-02\",\"2021-06-03\",\"2021-06-04\",\"2021-06-07\",\"2021-06-08\",\"2021-06-09\",\"2021-06-10\",\"2021-06-11\",\"2021-06-14\",\"2021-06-15\",\"2021-06-16\",\"2021-06-17\",\"2021-06-18\",\"2021-06-21\",\"2021-06-22\",\"2021-06-23\",\"2021-06-24\",\"2021-06-25\",\"2021-06-28\",\"2021-06-29\",\"2021-06-30\",\"2021-07-01\",\"2021-07-02\",\"2021-07-06\",\"2021-07-07\",\"2021-07-08\",\"2021-07-09\",\"2021-07-12\",\"2021-07-13\",\"2021-07-14\",\"2021-07-15\",\"2021-07-16\",\"2021-07-19\",\"2021-07-20\",\"2021-07-21\",\"2021-07-22\",\"2021-07-23\",\"2021-07-26\",\"2021-07-27\",\"2021-07-28\",\"2021-07-29\",\"2021-07-30\",\"2021-08-02\",\"2021-08-03\",\"2021-08-04\",\"2021-08-05\",\"2021-08-06\",\"2021-08-09\",\"2021-08-10\",\"2021-08-11\",\"2021-08-12\",\"2021-08-13\",\"2021-08-16\",\"2021-08-17\",\"2021-08-18\",\"2021-08-19\",\"2021-08-20\",\"2021-08-23\",\"2021-08-24\",\"2021-08-25\",\"2021-08-26\",\"2021-08-27\",\"2021-08-30\",\"2021-08-31\",\"2021-09-01\",\"2021-09-02\",\"2021-09-03\",\"2021-09-07\",\"2021-09-08\",\"2021-09-09\",\"2021-09-10\",\"2021-09-13\",\"2021-09-14\",\"2021-09-15\",\"2021-09-16\",\"2021-09-17\",\"2021-09-20\",\"2021-09-21\",\"2021-09-22\",\"2021-09-23\",\"2021-09-24\",\"2021-09-27\",\"2021-09-28\",\"2021-09-29\",\"2021-09-30\",\"2021-10-01\",\"2021-10-04\",\"2021-10-05\",\"2021-10-06\",\"2021-10-07\",\"2021-10-08\",\"2021-10-11\",\"2021-10-12\",\"2021-10-13\",\"2021-10-14\",\"2021-10-15\",\"2021-10-18\",\"2021-10-19\",\"2021-10-20\",\"2021-10-21\",\"2021-10-22\",\"2021-10-25\",\"2021-10-26\",\"2021-10-27\",\"2021-10-28\",\"2021-10-29\",\"2021-11-01\",\"2021-11-02\",\"2021-11-03\",\"2021-11-04\",\"2021-11-05\",\"2021-11-08\"],\"y\":[\"\",\"\",\"\",\"\",\"\",\"\",\"\",\"\",\"\",\"\",\"\",\"\",\"\",8559.959760005597,8608.03713418582,8719.641700121909,8733.145909655796,8741.002762602053,8763.325936501193,8760.835226128556,8760.343640594223,8755.33644051918,8801.514519042172,8852.473011383125,9018.021619382487,9081.974988313477,9144.23997516171,9149.999353099643,9182.33107248916,9190.55351539814,9189.61906890757,9148.428469288394,9092.675005799842,9037.401766829638,9011.7577313312,9026.662910001232,9021.487900588307,9002.650110792616,8999.661095086212,8993.556770425732,8993.89897680239,8983.671162319642,8983.19041545353,9030.482174959652,9099.186419546084,9090.482818263345,9085.30669582716,9085.387285599236,9081.072465167812,9093.826164444685,9060.601727973815,9027.371833899875,9013.66538191006,8485.493703427792,8308.330404754774,8210.095465726587,8170.674011095888,8174.183856889833,8249.443517624271,8391.501028163615,8522.373547436302,8740.664830828306,9051.714120405588,9343.193265617247,9694.406240592774,10111.645392647206,10786.48349452943,10851.488874095277,10882.322872802575,10967.422589296924,11062.55360615819,11120.062016659114,11194.398783851619,11330.381564245468,11240.080961267498,11201.114246409768,11177.123702472374,11159.519854263333,11205.949169325071,11221.833610630525,11167.522330713115,10615.441875108872,10412.577930106332,10113.970606021509,9906.10869958818,9743.93873082856,9640.720017081163,9624.27001620456,9603.267715974755,9608.347965805253,9618.978230789844,9645.72548527538,9664.007905083294,9849.153833174772,9907.1423434885,9921.715099230361,9931.897528346955,10013.287956146698,10075.816150627163,10155.607454986084,10192.762119289517,10182.432614523366,10182.35833093915,10187.767798775305,10203.671758687533,10205.059242156272,10206.77929310444,10090.07601286372,10143.927273236763,10245.713314922146,10244.27376995544,10282.332490971221,10252.23715586425,10237.42954244353,10085.256457359505,10043.575881624984,10061.998874107594,10183.632236167952,10264.353222594114,10432.699973584262,10612.317848482133,10717.263746366745,10902.435032975785,11100.300407656166,11345.08935679144,11453.111185523998,11610.206487883797,11915.777259350338,12052.433732126901,12164.031376580217,12369.053560759572,12531.24118947706,12578.791545530168,12648.508926838753,12819.156073410335,13105.947111986256,13394.906317777011,13796.459338368903,13090.000637572175,12395.874400130044,12322.685420636632,12491.277808673713,12306.043452027376,12456.578806681235,12748.063735606882,13308.437002588347,13651.682071324347,13900.492738492252,14183.16271481875,14689.0159046945,15558.816916452515,17994.228840321022,19478.353969142714,20803.476465014064,22597.70260269698,24917.79459597506,26484.58941427662,28249.38912903272,28875.594823785585,30105.44401263159,30172.648345293383,29857.373943925966,28813.806969981037,28809.64035658669,29371.42419068694,29260.16097684516,29322.409565866074,29285.583241777356,29653.441004410673,29435.102653635815,26953.087809190958,25683.878259188565,26066.00343269488,25870.94030951202,26416.454649012507,27101.343663264815,28479.441587656984,29726.15950539484,30639.46347006376,32797.336165683664,35174.06751663903,37260.96879464668,39982.27605150244,42709.183358998824,43134.53480254738,43472.696517406,44498.0599134593,44560.11443911987,44793.42970440187,44908.18352456403,44631.711498621255,44287.152445123,43913.66214750699,43531.26420207419,43767.75275987465,43876.26671740305,44529.684735926756,45925.564028994006,46593.11646720145,47761.011383386205,48507.81283966871,49760.30059174224,50761.4534127372,51285.74975635747,51398.194521252764,51360.56901125901,51297.006839988564,51244.99815283804,51298.63440547287,51320.09418195201,51263.81471136462,51258.08001030073,51258.77106456891,51561.642914101554,51327.065305223194,52235.10065905059,54024.300752386596,54928.29318808662,54441.6204466234,54043.74453475629,52918.502099443285,51276.785025879486,49758.01717573067,49224.264281847936,49098.43630565299,48762.28122053015,48235.536763928016,48229.41226199332,48695.88972401827,48860.8705021982,49864.882134758685,50743.644690720525,50672.51079919274,50680.250991136825,50851.584910192534,50019.35622485412,49501.747529742344,48575.67874136455,45367.93335262539,42731.50909887128,38376.851198278164,36394.485007812305,33915.244057276825,32166.353311021947,31010.76854667182,30394.70997934256,30321.279670249576,29987.98221697447,31126.08518169974,31296.688132198084,32272.205438974193,34128.891339634785,33555.211609968595,33192.879094654054,33253.148605463204,33390.92753994596,33391.50897403753,33176.95469385463,33041.242311373295,33075.14828901134,33077.77509744614,33100.634150938255,31754.788229437545,30910.153411754174,30548.026727789427,30212.069544558006,29730.664218122824,29912.307605999038,29871.41450822104,29766.180309599044,29478.889763323194,29767.21353025664,30349.25392554231,30689.746437492748,31120.562847664412,31249.948177464215,31627.09111207795,31672.004365116016,31551.7675320143,31207.76733821468,31138.20045525588,30549.274081430016,29977.614151729264,30047.734095145843,30007.429663082476,30019.993200111185,29274.220640134263,28152.490542000698,27465.350760220357,27028.30593456109,26496.961663277103,26731.25305916767,27095.01991051487,27678.373310762247,28478.435544090906,29531.4455001433,30858.67806917031,32069.946714230646,33778.690889027734,35638.971365277306,36063.20668248457,36468.49147381158,36933.16263327874,37475.89885836907,37593.27281506037,38254.48865387066,39666.00549253644,41127.77476104748,42390.718193139925,43261.61108241872,43256.572339021695,43437.92475599748,43655.143620588555,44239.890067841065,44201.3220919821,44400.24060136827,45004.79041055994,45502.3510157048,45409.31428694609,44693.022465042246,44207.566499923334,44167.434691990515,44206.861833603805,44274.31722659053,44299.71643091193,43236.885371161785,41502.71876368385,41084.44709595331,41072.68852970863,40973.84830684783,40432.16366631734,39665.01035505573,39174.210511757134,39106.724946456954,38919.74136197124,38655.71152167339,38058.01027278204,36660.62931084346,36056.10105615644,36090.42981038087,36398.14603465894,36782.456725616124,37049.156798478805,38092.87699590641,39203.90307936483,41334.8663715014,43803.01061770811,46013.07686865336,47875.66640406163,49906.19195710731,51445.87513384391,52145.92327084282,53233.72255514601,54687.220642697925,55240.40657692509,56335.72408803483,57192.323155079146,58324.491121305735,58300.584872688996,58184.96626650365,57511.62938757867]}],                        {\"legend\":{\"bgcolor\":\"#F5F6F9\",\"font\":{\"color\":\"#4D5663\"}},\"paper_bgcolor\":\"#F5F6F9\",\"plot_bgcolor\":\"#F5F6F9\",\"template\":{\"data\":{\"bar\":[{\"error_x\":{\"color\":\"#2a3f5f\"},\"error_y\":{\"color\":\"#2a3f5f\"},\"marker\":{\"line\":{\"color\":\"#E5ECF6\",\"width\":0.5},\"pattern\":{\"fillmode\":\"overlay\",\"size\":10,\"solidity\":0.2}},\"type\":\"bar\"}],\"barpolar\":[{\"marker\":{\"line\":{\"color\":\"#E5ECF6\",\"width\":0.5},\"pattern\":{\"fillmode\":\"overlay\",\"size\":10,\"solidity\":0.2}},\"type\":\"barpolar\"}],\"carpet\":[{\"aaxis\":{\"endlinecolor\":\"#2a3f5f\",\"gridcolor\":\"white\",\"linecolor\":\"white\",\"minorgridcolor\":\"white\",\"startlinecolor\":\"#2a3f5f\"},\"baxis\":{\"endlinecolor\":\"#2a3f5f\",\"gridcolor\":\"white\",\"linecolor\":\"white\",\"minorgridcolor\":\"white\",\"startlinecolor\":\"#2a3f5f\"},\"type\":\"carpet\"}],\"choropleth\":[{\"colorbar\":{\"outlinewidth\":0,\"ticks\":\"\"},\"type\":\"choropleth\"}],\"contour\":[{\"colorbar\":{\"outlinewidth\":0,\"ticks\":\"\"},\"colorscale\":[[0.0,\"#0d0887\"],[0.1111111111111111,\"#46039f\"],[0.2222222222222222,\"#7201a8\"],[0.3333333333333333,\"#9c179e\"],[0.4444444444444444,\"#bd3786\"],[0.5555555555555556,\"#d8576b\"],[0.6666666666666666,\"#ed7953\"],[0.7777777777777778,\"#fb9f3a\"],[0.8888888888888888,\"#fdca26\"],[1.0,\"#f0f921\"]],\"type\":\"contour\"}],\"contourcarpet\":[{\"colorbar\":{\"outlinewidth\":0,\"ticks\":\"\"},\"type\":\"contourcarpet\"}],\"heatmap\":[{\"colorbar\":{\"outlinewidth\":0,\"ticks\":\"\"},\"colorscale\":[[0.0,\"#0d0887\"],[0.1111111111111111,\"#46039f\"],[0.2222222222222222,\"#7201a8\"],[0.3333333333333333,\"#9c179e\"],[0.4444444444444444,\"#bd3786\"],[0.5555555555555556,\"#d8576b\"],[0.6666666666666666,\"#ed7953\"],[0.7777777777777778,\"#fb9f3a\"],[0.8888888888888888,\"#fdca26\"],[1.0,\"#f0f921\"]],\"type\":\"heatmap\"}],\"heatmapgl\":[{\"colorbar\":{\"outlinewidth\":0,\"ticks\":\"\"},\"colorscale\":[[0.0,\"#0d0887\"],[0.1111111111111111,\"#46039f\"],[0.2222222222222222,\"#7201a8\"],[0.3333333333333333,\"#9c179e\"],[0.4444444444444444,\"#bd3786\"],[0.5555555555555556,\"#d8576b\"],[0.6666666666666666,\"#ed7953\"],[0.7777777777777778,\"#fb9f3a\"],[0.8888888888888888,\"#fdca26\"],[1.0,\"#f0f921\"]],\"type\":\"heatmapgl\"}],\"histogram\":[{\"marker\":{\"pattern\":{\"fillmode\":\"overlay\",\"size\":10,\"solidity\":0.2}},\"type\":\"histogram\"}],\"histogram2d\":[{\"colorbar\":{\"outlinewidth\":0,\"ticks\":\"\"},\"colorscale\":[[0.0,\"#0d0887\"],[0.1111111111111111,\"#46039f\"],[0.2222222222222222,\"#7201a8\"],[0.3333333333333333,\"#9c179e\"],[0.4444444444444444,\"#bd3786\"],[0.5555555555555556,\"#d8576b\"],[0.6666666666666666,\"#ed7953\"],[0.7777777777777778,\"#fb9f3a\"],[0.8888888888888888,\"#fdca26\"],[1.0,\"#f0f921\"]],\"type\":\"histogram2d\"}],\"histogram2dcontour\":[{\"colorbar\":{\"outlinewidth\":0,\"ticks\":\"\"},\"colorscale\":[[0.0,\"#0d0887\"],[0.1111111111111111,\"#46039f\"],[0.2222222222222222,\"#7201a8\"],[0.3333333333333333,\"#9c179e\"],[0.4444444444444444,\"#bd3786\"],[0.5555555555555556,\"#d8576b\"],[0.6666666666666666,\"#ed7953\"],[0.7777777777777778,\"#fb9f3a\"],[0.8888888888888888,\"#fdca26\"],[1.0,\"#f0f921\"]],\"type\":\"histogram2dcontour\"}],\"mesh3d\":[{\"colorbar\":{\"outlinewidth\":0,\"ticks\":\"\"},\"type\":\"mesh3d\"}],\"parcoords\":[{\"line\":{\"colorbar\":{\"outlinewidth\":0,\"ticks\":\"\"}},\"type\":\"parcoords\"}],\"pie\":[{\"automargin\":true,\"type\":\"pie\"}],\"scatter\":[{\"marker\":{\"colorbar\":{\"outlinewidth\":0,\"ticks\":\"\"}},\"type\":\"scatter\"}],\"scatter3d\":[{\"line\":{\"colorbar\":{\"outlinewidth\":0,\"ticks\":\"\"}},\"marker\":{\"colorbar\":{\"outlinewidth\":0,\"ticks\":\"\"}},\"type\":\"scatter3d\"}],\"scattercarpet\":[{\"marker\":{\"colorbar\":{\"outlinewidth\":0,\"ticks\":\"\"}},\"type\":\"scattercarpet\"}],\"scattergeo\":[{\"marker\":{\"colorbar\":{\"outlinewidth\":0,\"ticks\":\"\"}},\"type\":\"scattergeo\"}],\"scattergl\":[{\"marker\":{\"colorbar\":{\"outlinewidth\":0,\"ticks\":\"\"}},\"type\":\"scattergl\"}],\"scattermapbox\":[{\"marker\":{\"colorbar\":{\"outlinewidth\":0,\"ticks\":\"\"}},\"type\":\"scattermapbox\"}],\"scatterpolar\":[{\"marker\":{\"colorbar\":{\"outlinewidth\":0,\"ticks\":\"\"}},\"type\":\"scatterpolar\"}],\"scatterpolargl\":[{\"marker\":{\"colorbar\":{\"outlinewidth\":0,\"ticks\":\"\"}},\"type\":\"scatterpolargl\"}],\"scatterternary\":[{\"marker\":{\"colorbar\":{\"outlinewidth\":0,\"ticks\":\"\"}},\"type\":\"scatterternary\"}],\"surface\":[{\"colorbar\":{\"outlinewidth\":0,\"ticks\":\"\"},\"colorscale\":[[0.0,\"#0d0887\"],[0.1111111111111111,\"#46039f\"],[0.2222222222222222,\"#7201a8\"],[0.3333333333333333,\"#9c179e\"],[0.4444444444444444,\"#bd3786\"],[0.5555555555555556,\"#d8576b\"],[0.6666666666666666,\"#ed7953\"],[0.7777777777777778,\"#fb9f3a\"],[0.8888888888888888,\"#fdca26\"],[1.0,\"#f0f921\"]],\"type\":\"surface\"}],\"table\":[{\"cells\":{\"fill\":{\"color\":\"#EBF0F8\"},\"line\":{\"color\":\"white\"}},\"header\":{\"fill\":{\"color\":\"#C8D4E3\"},\"line\":{\"color\":\"white\"}},\"type\":\"table\"}]},\"layout\":{\"annotationdefaults\":{\"arrowcolor\":\"#2a3f5f\",\"arrowhead\":0,\"arrowwidth\":1},\"autotypenumbers\":\"strict\",\"coloraxis\":{\"colorbar\":{\"outlinewidth\":0,\"ticks\":\"\"}},\"colorscale\":{\"diverging\":[[0,\"#8e0152\"],[0.1,\"#c51b7d\"],[0.2,\"#de77ae\"],[0.3,\"#f1b6da\"],[0.4,\"#fde0ef\"],[0.5,\"#f7f7f7\"],[0.6,\"#e6f5d0\"],[0.7,\"#b8e186\"],[0.8,\"#7fbc41\"],[0.9,\"#4d9221\"],[1,\"#276419\"]],\"sequential\":[[0.0,\"#0d0887\"],[0.1111111111111111,\"#46039f\"],[0.2222222222222222,\"#7201a8\"],[0.3333333333333333,\"#9c179e\"],[0.4444444444444444,\"#bd3786\"],[0.5555555555555556,\"#d8576b\"],[0.6666666666666666,\"#ed7953\"],[0.7777777777777778,\"#fb9f3a\"],[0.8888888888888888,\"#fdca26\"],[1.0,\"#f0f921\"]],\"sequentialminus\":[[0.0,\"#0d0887\"],[0.1111111111111111,\"#46039f\"],[0.2222222222222222,\"#7201a8\"],[0.3333333333333333,\"#9c179e\"],[0.4444444444444444,\"#bd3786\"],[0.5555555555555556,\"#d8576b\"],[0.6666666666666666,\"#ed7953\"],[0.7777777777777778,\"#fb9f3a\"],[0.8888888888888888,\"#fdca26\"],[1.0,\"#f0f921\"]]},\"colorway\":[\"#636efa\",\"#EF553B\",\"#00cc96\",\"#ab63fa\",\"#FFA15A\",\"#19d3f3\",\"#FF6692\",\"#B6E880\",\"#FF97FF\",\"#FECB52\"],\"font\":{\"color\":\"#2a3f5f\"},\"geo\":{\"bgcolor\":\"white\",\"lakecolor\":\"white\",\"landcolor\":\"#E5ECF6\",\"showlakes\":true,\"showland\":true,\"subunitcolor\":\"white\"},\"hoverlabel\":{\"align\":\"left\"},\"hovermode\":\"closest\",\"mapbox\":{\"style\":\"light\"},\"paper_bgcolor\":\"white\",\"plot_bgcolor\":\"#E5ECF6\",\"polar\":{\"angularaxis\":{\"gridcolor\":\"white\",\"linecolor\":\"white\",\"ticks\":\"\"},\"bgcolor\":\"#E5ECF6\",\"radialaxis\":{\"gridcolor\":\"white\",\"linecolor\":\"white\",\"ticks\":\"\"}},\"scene\":{\"xaxis\":{\"backgroundcolor\":\"#E5ECF6\",\"gridcolor\":\"white\",\"gridwidth\":2,\"linecolor\":\"white\",\"showbackground\":true,\"ticks\":\"\",\"zerolinecolor\":\"white\"},\"yaxis\":{\"backgroundcolor\":\"#E5ECF6\",\"gridcolor\":\"white\",\"gridwidth\":2,\"linecolor\":\"white\",\"showbackground\":true,\"ticks\":\"\",\"zerolinecolor\":\"white\"},\"zaxis\":{\"backgroundcolor\":\"#E5ECF6\",\"gridcolor\":\"white\",\"gridwidth\":2,\"linecolor\":\"white\",\"showbackground\":true,\"ticks\":\"\",\"zerolinecolor\":\"white\"}},\"shapedefaults\":{\"line\":{\"color\":\"#2a3f5f\"}},\"ternary\":{\"aaxis\":{\"gridcolor\":\"white\",\"linecolor\":\"white\",\"ticks\":\"\"},\"baxis\":{\"gridcolor\":\"white\",\"linecolor\":\"white\",\"ticks\":\"\"},\"bgcolor\":\"#E5ECF6\",\"caxis\":{\"gridcolor\":\"white\",\"linecolor\":\"white\",\"ticks\":\"\"}},\"title\":{\"x\":0.05},\"xaxis\":{\"automargin\":true,\"gridcolor\":\"white\",\"linecolor\":\"white\",\"ticks\":\"\",\"title\":{\"standoff\":15},\"zerolinecolor\":\"white\",\"zerolinewidth\":2},\"yaxis\":{\"automargin\":true,\"gridcolor\":\"white\",\"linecolor\":\"white\",\"ticks\":\"\",\"title\":{\"standoff\":15},\"zerolinecolor\":\"white\",\"zerolinewidth\":2}}},\"title\":{\"font\":{\"color\":\"#4D5663\"}},\"xaxis\":{\"gridcolor\":\"#E1E5ED\",\"showgrid\":true,\"tickfont\":{\"color\":\"#4D5663\"},\"title\":{\"font\":{\"color\":\"#4D5663\"},\"text\":\"\"},\"zerolinecolor\":\"#E1E5ED\"},\"yaxis\":{\"gridcolor\":\"#E1E5ED\",\"showgrid\":true,\"tickfont\":{\"color\":\"#4D5663\"},\"title\":{\"font\":{\"color\":\"#4D5663\"},\"text\":\"\"},\"zerolinecolor\":\"#E1E5ED\"}},                        {\"showLink\": true, \"linkText\": \"Export to plot.ly\", \"plotlyServerURL\": \"https://plot.ly\", \"responsive\": true}                    ).then(function(){\n",
       "                            \n",
       "var gd = document.getElementById('a74e5a56-6505-421f-8a6c-d9374e0db5bd');\n",
       "var x = new MutationObserver(function (mutations, observer) {{\n",
       "        var display = window.getComputedStyle(gd).display;\n",
       "        if (!display || display === 'none') {{\n",
       "            console.log([gd, 'removed!']);\n",
       "            Plotly.purge(gd);\n",
       "            observer.disconnect();\n",
       "        }}\n",
       "}});\n",
       "\n",
       "// Listen for the removal of the full notebook cells\n",
       "var notebookContainer = gd.closest('#notebook-container');\n",
       "if (notebookContainer) {{\n",
       "    x.observe(notebookContainer, {childList: true});\n",
       "}}\n",
       "\n",
       "// Listen for the clearing of the current output cell\n",
       "var outputEl = gd.closest('.output');\n",
       "if (outputEl) {{\n",
       "    x.observe(outputEl, {childList: true});\n",
       "}}\n",
       "\n",
       "                        })                };                });            </script>        </div>"
      ]
     },
     "metadata": {},
     "output_type": "display_data"
    }
   ],
   "source": [
    "df['btc'].ta_plot(study='boll')"
   ]
  },
  {
   "cell_type": "code",
   "execution_count": null,
   "metadata": {},
   "outputs": [],
   "source": []
  },
  {
   "cell_type": "code",
   "execution_count": null,
   "metadata": {},
   "outputs": [],
   "source": []
  }
 ],
 "metadata": {
  "kernelspec": {
   "display_name": "Python 3 (ipykernel)",
   "language": "python",
   "name": "python3"
  },
  "language_info": {
   "codemirror_mode": {
    "name": "ipython",
    "version": 3
   },
   "file_extension": ".py",
   "mimetype": "text/x-python",
   "name": "python",
   "nbconvert_exporter": "python",
   "pygments_lexer": "ipython3",
   "version": "3.7.11"
  }
 },
 "nbformat": 4,
 "nbformat_minor": 4
}
