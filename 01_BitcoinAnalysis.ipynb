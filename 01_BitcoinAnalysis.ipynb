{
 "cells": [
  {
   "cell_type": "markdown",
   "metadata": {},
   "source": [
    "# Bitcoin Data Analysis"
   ]
  },
  {
   "cell_type": "code",
   "execution_count": 76,
   "metadata": {},
   "outputs": [],
   "source": [
    "import numpy as np\n",
    "import pandas as pd\n",
    "import matplotlib.pyplot as plt\n",
    "import datetime as dt\n",
    "import seaborn as sns"
   ]
  },
  {
   "cell_type": "markdown",
   "metadata": {},
   "source": [
    "## Load datasets: Interest (google trends) & Price\n",
    "Two datasets are manually arranged in `data/DatasetPreparation.ipynb`:\n",
    "- Google searches of term 'bitcoin' worldwide and daily since 2015: `google_trends_bitcoin_2015_2021_daily.csv`\n",
    "- Price action hourly from Gemini: `Gemini_BTCUSD_2015_2021_hourly.csv`"
   ]
  },
  {
   "cell_type": "code",
   "execution_count": 77,
   "metadata": {},
   "outputs": [],
   "source": [
    "# Halving dates\n",
    "h2 = dt.datetime(2016,7,9,0,0,0)\n",
    "h3 = dt.datetime(2020,5,11,0,0,0)"
   ]
  },
  {
   "cell_type": "code",
   "execution_count": 78,
   "metadata": {},
   "outputs": [],
   "source": [
    "df_interest = pd.read_csv('data/google_trends_bitcoin_2015_2021_daily.csv',header=0)"
   ]
  },
  {
   "cell_type": "code",
   "execution_count": 79,
   "metadata": {},
   "outputs": [],
   "source": [
    "df_interest['date'] = pd.to_datetime(df_interest['date'])"
   ]
  },
  {
   "cell_type": "code",
   "execution_count": 80,
   "metadata": {},
   "outputs": [],
   "source": [
    "df_interest.set_index('date',inplace=True)"
   ]
  },
  {
   "cell_type": "code",
   "execution_count": 81,
   "metadata": {},
   "outputs": [],
   "source": [
    "# Nomalization\n",
    "max_interest = df_interest['bitcoin_searches_world'].max()\n",
    "df_interest['bitcoin_searches_world'] = 100 * df_interest['bitcoin_searches_world'] / max_interest"
   ]
  },
  {
   "cell_type": "code",
   "execution_count": 82,
   "metadata": {},
   "outputs": [
    {
     "data": {
      "text/html": [
       "<div>\n",
       "<style scoped>\n",
       "    .dataframe tbody tr th:only-of-type {\n",
       "        vertical-align: middle;\n",
       "    }\n",
       "\n",
       "    .dataframe tbody tr th {\n",
       "        vertical-align: top;\n",
       "    }\n",
       "\n",
       "    .dataframe thead th {\n",
       "        text-align: right;\n",
       "    }\n",
       "</style>\n",
       "<table border=\"1\" class=\"dataframe\">\n",
       "  <thead>\n",
       "    <tr style=\"text-align: right;\">\n",
       "      <th></th>\n",
       "      <th>bitcoin_searches_world</th>\n",
       "    </tr>\n",
       "    <tr>\n",
       "      <th>date</th>\n",
       "      <th></th>\n",
       "    </tr>\n",
       "  </thead>\n",
       "  <tbody>\n",
       "    <tr>\n",
       "      <th>2015-01-01</th>\n",
       "      <td>1.117081</td>\n",
       "    </tr>\n",
       "    <tr>\n",
       "      <th>2015-01-02</th>\n",
       "      <td>1.311356</td>\n",
       "    </tr>\n",
       "    <tr>\n",
       "      <th>2015-01-03</th>\n",
       "      <td>1.359924</td>\n",
       "    </tr>\n",
       "    <tr>\n",
       "      <th>2015-01-04</th>\n",
       "      <td>1.602768</td>\n",
       "    </tr>\n",
       "    <tr>\n",
       "      <th>2015-01-05</th>\n",
       "      <td>1.505630</td>\n",
       "    </tr>\n",
       "  </tbody>\n",
       "</table>\n",
       "</div>"
      ],
      "text/plain": [
       "            bitcoin_searches_world\n",
       "date                              \n",
       "2015-01-01                1.117081\n",
       "2015-01-02                1.311356\n",
       "2015-01-03                1.359924\n",
       "2015-01-04                1.602768\n",
       "2015-01-05                1.505630"
      ]
     },
     "execution_count": 82,
     "metadata": {},
     "output_type": "execute_result"
    }
   ],
   "source": [
    "df_interest.head()"
   ]
  },
  {
   "cell_type": "code",
   "execution_count": 83,
   "metadata": {},
   "outputs": [
    {
     "data": {
      "text/html": [
       "<div>\n",
       "<style scoped>\n",
       "    .dataframe tbody tr th:only-of-type {\n",
       "        vertical-align: middle;\n",
       "    }\n",
       "\n",
       "    .dataframe tbody tr th {\n",
       "        vertical-align: top;\n",
       "    }\n",
       "\n",
       "    .dataframe thead th {\n",
       "        text-align: right;\n",
       "    }\n",
       "</style>\n",
       "<table border=\"1\" class=\"dataframe\">\n",
       "  <thead>\n",
       "    <tr style=\"text-align: right;\">\n",
       "      <th></th>\n",
       "      <th>bitcoin_searches_world</th>\n",
       "    </tr>\n",
       "  </thead>\n",
       "  <tbody>\n",
       "    <tr>\n",
       "      <th>count</th>\n",
       "      <td>2478.000000</td>\n",
       "    </tr>\n",
       "    <tr>\n",
       "      <th>mean</th>\n",
       "      <td>8.429307</td>\n",
       "    </tr>\n",
       "    <tr>\n",
       "      <th>std</th>\n",
       "      <td>9.738326</td>\n",
       "    </tr>\n",
       "    <tr>\n",
       "      <th>min</th>\n",
       "      <td>0.827235</td>\n",
       "    </tr>\n",
       "    <tr>\n",
       "      <th>25%</th>\n",
       "      <td>1.790998</td>\n",
       "    </tr>\n",
       "    <tr>\n",
       "      <th>50%</th>\n",
       "      <td>5.967269</td>\n",
       "    </tr>\n",
       "    <tr>\n",
       "      <th>75%</th>\n",
       "      <td>9.652057</td>\n",
       "    </tr>\n",
       "    <tr>\n",
       "      <th>max</th>\n",
       "      <td>100.000000</td>\n",
       "    </tr>\n",
       "  </tbody>\n",
       "</table>\n",
       "</div>"
      ],
      "text/plain": [
       "       bitcoin_searches_world\n",
       "count             2478.000000\n",
       "mean                 8.429307\n",
       "std                  9.738326\n",
       "min                  0.827235\n",
       "25%                  1.790998\n",
       "50%                  5.967269\n",
       "75%                  9.652057\n",
       "max                100.000000"
      ]
     },
     "execution_count": 83,
     "metadata": {},
     "output_type": "execute_result"
    }
   ],
   "source": [
    "df_interest.describe()"
   ]
  },
  {
   "cell_type": "code",
   "execution_count": 84,
   "metadata": {},
   "outputs": [
    {
     "data": {
      "image/png": "[encoded data removed]",
      "text/plain": [
       "<Figure size 1080x360 with 1 Axes>"
      ]
     },
     "metadata": {
      "needs_background": "light"
     },
     "output_type": "display_data"
    }
   ],
   "source": [
    "#%matplotlib ipympl\n",
    "%matplotlib inline\n",
    "#df_interest.plot(x='date',y='bitcoin_searches_world',figsize=(15,5),color='r')\n",
    "df_interest.plot(y='bitcoin_searches_world',figsize=(15,5),color='b')\n",
    "plt.plot([h2,h2],[0,df_interest['bitcoin_searches_world'].max()],color='r')\n",
    "plt.plot([h3,h3],[0,df_interest['bitcoin_searches_world'].max()],color='r')\n",
    "plt.title('Interest/Search index in gooogle trends (bitcoin worldwide) - Scaled to [0,100]')\n",
    "plt.show()"
   ]
  },
  {
   "cell_type": "code",
   "execution_count": 85,
   "metadata": {},
   "outputs": [],
   "source": [
    "df_price = pd.read_csv('data/Gemini_BTCUSD_2015_2021_hourly.csv',header=0)"
   ]
  },
  {
   "cell_type": "code",
   "execution_count": 86,
   "metadata": {},
   "outputs": [],
   "source": [
    "df_price['Date'] = pd.to_datetime(df_price['Date'])"
   ]
  },
  {
   "cell_type": "code",
   "execution_count": 87,
   "metadata": {},
   "outputs": [],
   "source": [
    "df_price.set_index('Date',inplace=True)"
   ]
  },
  {
   "cell_type": "code",
   "execution_count": 88,
   "metadata": {},
   "outputs": [
    {
     "data": {
      "text/html": [
       "<div>\n",
       "<style scoped>\n",
       "    .dataframe tbody tr th:only-of-type {\n",
       "        vertical-align: middle;\n",
       "    }\n",
       "\n",
       "    .dataframe tbody tr th {\n",
       "        vertical-align: top;\n",
       "    }\n",
       "\n",
       "    .dataframe thead th {\n",
       "        text-align: right;\n",
       "    }\n",
       "</style>\n",
       "<table border=\"1\" class=\"dataframe\">\n",
       "  <thead>\n",
       "    <tr style=\"text-align: right;\">\n",
       "      <th></th>\n",
       "      <th>Open</th>\n",
       "      <th>High</th>\n",
       "      <th>Low</th>\n",
       "      <th>Close</th>\n",
       "      <th>Volume</th>\n",
       "    </tr>\n",
       "    <tr>\n",
       "      <th>Date</th>\n",
       "      <th></th>\n",
       "      <th></th>\n",
       "      <th></th>\n",
       "      <th></th>\n",
       "      <th></th>\n",
       "    </tr>\n",
       "  </thead>\n",
       "  <tbody>\n",
       "    <tr>\n",
       "      <th>2015-10-08 13:00:00</th>\n",
       "      <td>0.00</td>\n",
       "      <td>245.00</td>\n",
       "      <td>0.00</td>\n",
       "      <td>245.00</td>\n",
       "      <td>0.606654</td>\n",
       "    </tr>\n",
       "    <tr>\n",
       "      <th>2015-10-08 14:00:00</th>\n",
       "      <td>245.00</td>\n",
       "      <td>245.00</td>\n",
       "      <td>244.50</td>\n",
       "      <td>245.00</td>\n",
       "      <td>4.453649</td>\n",
       "    </tr>\n",
       "    <tr>\n",
       "      <th>2015-10-08 15:00:00</th>\n",
       "      <td>245.00</td>\n",
       "      <td>245.00</td>\n",
       "      <td>244.92</td>\n",
       "      <td>244.92</td>\n",
       "      <td>3.016926</td>\n",
       "    </tr>\n",
       "    <tr>\n",
       "      <th>2015-10-08 16:00:00</th>\n",
       "      <td>244.92</td>\n",
       "      <td>244.92</td>\n",
       "      <td>244.25</td>\n",
       "      <td>244.25</td>\n",
       "      <td>3.895252</td>\n",
       "    </tr>\n",
       "    <tr>\n",
       "      <th>2015-10-08 17:00:00</th>\n",
       "      <td>244.25</td>\n",
       "      <td>244.99</td>\n",
       "      <td>244.02</td>\n",
       "      <td>244.99</td>\n",
       "      <td>3.920632</td>\n",
       "    </tr>\n",
       "  </tbody>\n",
       "</table>\n",
       "</div>"
      ],
      "text/plain": [
       "                       Open    High     Low   Close    Volume\n",
       "Date                                                         \n",
       "2015-10-08 13:00:00    0.00  245.00    0.00  245.00  0.606654\n",
       "2015-10-08 14:00:00  245.00  245.00  244.50  245.00  4.453649\n",
       "2015-10-08 15:00:00  245.00  245.00  244.92  244.92  3.016926\n",
       "2015-10-08 16:00:00  244.92  244.92  244.25  244.25  3.895252\n",
       "2015-10-08 17:00:00  244.25  244.99  244.02  244.99  3.920632"
      ]
     },
     "execution_count": 88,
     "metadata": {},
     "output_type": "execute_result"
    }
   ],
   "source": [
    "df_price.head()"
   ]
  },
  {
   "cell_type": "code",
   "execution_count": 89,
   "metadata": {},
   "outputs": [
    {
     "data": {
      "text/html": [
       "<div>\n",
       "<style scoped>\n",
       "    .dataframe tbody tr th:only-of-type {\n",
       "        vertical-align: middle;\n",
       "    }\n",
       "\n",
       "    .dataframe tbody tr th {\n",
       "        vertical-align: top;\n",
       "    }\n",
       "\n",
       "    .dataframe thead th {\n",
       "        text-align: right;\n",
       "    }\n",
       "</style>\n",
       "<table border=\"1\" class=\"dataframe\">\n",
       "  <thead>\n",
       "    <tr style=\"text-align: right;\">\n",
       "      <th></th>\n",
       "      <th>Open</th>\n",
       "      <th>High</th>\n",
       "      <th>Low</th>\n",
       "      <th>Close</th>\n",
       "      <th>Volume</th>\n",
       "    </tr>\n",
       "  </thead>\n",
       "  <tbody>\n",
       "    <tr>\n",
       "      <th>count</th>\n",
       "      <td>51353.000000</td>\n",
       "      <td>51353.000000</td>\n",
       "      <td>51353.000000</td>\n",
       "      <td>51353.000000</td>\n",
       "      <td>53052.000000</td>\n",
       "    </tr>\n",
       "    <tr>\n",
       "      <th>mean</th>\n",
       "      <td>11329.579032</td>\n",
       "      <td>11396.564251</td>\n",
       "      <td>11257.293497</td>\n",
       "      <td>11330.764995</td>\n",
       "      <td>136.272012</td>\n",
       "    </tr>\n",
       "    <tr>\n",
       "      <th>std</th>\n",
       "      <td>14931.920498</td>\n",
       "      <td>15025.617945</td>\n",
       "      <td>14830.217792</td>\n",
       "      <td>14933.354612</td>\n",
       "      <td>267.161354</td>\n",
       "    </tr>\n",
       "    <tr>\n",
       "      <th>min</th>\n",
       "      <td>0.000000</td>\n",
       "      <td>243.600000</td>\n",
       "      <td>0.000000</td>\n",
       "      <td>243.600000</td>\n",
       "      <td>0.000000</td>\n",
       "    </tr>\n",
       "    <tr>\n",
       "      <th>25%</th>\n",
       "      <td>1186.010000</td>\n",
       "      <td>1188.990000</td>\n",
       "      <td>1183.470000</td>\n",
       "      <td>1186.100000</td>\n",
       "      <td>18.450712</td>\n",
       "    </tr>\n",
       "    <tr>\n",
       "      <th>50%</th>\n",
       "      <td>6858.430000</td>\n",
       "      <td>6893.000000</td>\n",
       "      <td>6824.610000</td>\n",
       "      <td>6858.710000</td>\n",
       "      <td>56.080521</td>\n",
       "    </tr>\n",
       "    <tr>\n",
       "      <th>75%</th>\n",
       "      <td>10587.790000</td>\n",
       "      <td>10636.850000</td>\n",
       "      <td>10525.410000</td>\n",
       "      <td>10587.930000</td>\n",
       "      <td>145.476383</td>\n",
       "    </tr>\n",
       "    <tr>\n",
       "      <th>max</th>\n",
       "      <td>66892.380000</td>\n",
       "      <td>66994.720000</td>\n",
       "      <td>66357.600000</td>\n",
       "      <td>66892.380000</td>\n",
       "      <td>8526.751048</td>\n",
       "    </tr>\n",
       "  </tbody>\n",
       "</table>\n",
       "</div>"
      ],
      "text/plain": [
       "               Open          High           Low         Close        Volume\n",
       "count  51353.000000  51353.000000  51353.000000  51353.000000  53052.000000\n",
       "mean   11329.579032  11396.564251  11257.293497  11330.764995    136.272012\n",
       "std    14931.920498  15025.617945  14830.217792  14933.354612    267.161354\n",
       "min        0.000000    243.600000      0.000000    243.600000      0.000000\n",
       "25%     1186.010000   1188.990000   1183.470000   1186.100000     18.450712\n",
       "50%     6858.430000   6893.000000   6824.610000   6858.710000     56.080521\n",
       "75%    10587.790000  10636.850000  10525.410000  10587.930000    145.476383\n",
       "max    66892.380000  66994.720000  66357.600000  66892.380000   8526.751048"
      ]
     },
     "execution_count": 89,
     "metadata": {},
     "output_type": "execute_result"
    }
   ],
   "source": [
    "df_price.describe()"
   ]
  },
  {
   "cell_type": "code",
   "execution_count": 90,
   "metadata": {},
   "outputs": [
    {
     "data": {
      "application/vnd.jupyter.widget-view+json": {
       "model_id": "ed048cad8bce447ab75ff407a81e2c17",
       "version_major": 2,
       "version_minor": 0
      },
      "text/plain": [
       "Canvas(toolbar=Toolbar(toolitems=[('Home', 'Reset original view', 'home', 'home'), ('Back', 'Back to previous …"
      ]
     },
     "metadata": {},
     "output_type": "display_data"
    }
   ],
   "source": [
    "%matplotlib ipympl\n",
    "df_price.plot(y='Close',figsize=(15,5),color='b')\n",
    "ax = plt.gca()\n",
    "ax.plot([h2,h2],[0,df_price['Close'].max()],color='r')\n",
    "ax.plot([h3,h3],[0,df_price['Close'].max()],color='r')\n",
    "plt.title('Closing price USD/BTC')\n",
    "plt.show()"
   ]
  },
  {
   "cell_type": "markdown",
   "metadata": {},
   "source": [
    "## 1. Preliminary Analysis\n",
    "Halving epochs are analyzed starting from the halving date until the ATH.\n",
    "The number of hours at each price level is computed and ploted."
   ]
  },
  {
   "cell_type": "code",
   "execution_count": 18,
   "metadata": {},
   "outputs": [],
   "source": [
    "# Halving 2016: 2016-07-09\n",
    "# ATH 2017: 2017-12-17\n",
    "#start = dt.datetime(2016,7,9,0,0,0)\n",
    "#end = dt.datetime(2017,12,17,0,0,0)\n",
    "#end = dt.datetime(2017,9,15,0,0,0)\n",
    "# Halving 2020: 2020-05-11\n",
    "# ATH 2021: ?\n",
    "start = dt.datetime(2020,5,11,0,0,0)\n",
    "end = dt.datetime(2021,10,10,0,0,0)\n",
    "if (df_price.index[-1] < end or df_interest.index[-1] < end):\n",
    "    end = min([df_price.index[-1],df_interest.index[-1]])\n",
    "duration_days = (end-start).days"
   ]
  },
  {
   "cell_type": "code",
   "execution_count": 19,
   "metadata": {},
   "outputs": [
    {
     "data": {
      "text/plain": [
       "517"
      ]
     },
     "execution_count": 19,
     "metadata": {},
     "output_type": "execute_result"
    }
   ],
   "source": [
    "duration_days"
   ]
  },
  {
   "cell_type": "code",
   "execution_count": 20,
   "metadata": {},
   "outputs": [
    {
     "data": {
      "text/plain": [
       "(12409, 5)"
      ]
     },
     "execution_count": 20,
     "metadata": {},
     "output_type": "execute_result"
    }
   ],
   "source": [
    "df_price.loc[start:end].shape"
   ]
  },
  {
   "cell_type": "code",
   "execution_count": 21,
   "metadata": {},
   "outputs": [
    {
     "data": {
      "text/plain": [
       "<AxesSubplot:title={'center':'Closing price USD/BTC'}, xlabel='Date'>"
      ]
     },
     "execution_count": 21,
     "metadata": {},
     "output_type": "execute_result"
    }
   ],
   "source": [
    "df_price['Low'].loc[start:end].plot(figsize=(15,5))"
   ]
  },
  {
   "cell_type": "code",
   "execution_count": 22,
   "metadata": {},
   "outputs": [
    {
     "name": "stdout",
     "output_type": "stream",
     "text": [
      "min_price = 8200.0, ref_price = 8709.62, max_price = 64311.25\n"
     ]
    }
   ],
   "source": [
    "df_window = df_price.loc[start:end]\n",
    "n = 100\n",
    "max_price = df_window['Low'].max()\n",
    "min_price = df_window['Low'].min()\n",
    "ref_price = df_window['Low'].iloc[0]\n",
    "print('min_price = {}, ref_price = {}, max_price = {}'.format(min_price, ref_price, max_price))"
   ]
  },
  {
   "cell_type": "code",
   "execution_count": 23,
   "metadata": {},
   "outputs": [
    {
     "name": "stdout",
     "output_type": "stream",
     "text": [
      "min_factor = 0.9414876883262415, max_factor = 7.383932938520854, step_factor = 0.06507520454742033, step_price = 566.780303030303\n"
     ]
    }
   ],
   "source": [
    "df_price['Factor'] = df_price['Low']/ref_price\n",
    "df_window = df_price.loc[start:end]\n",
    "max_factor = df_window['Factor'].max()\n",
    "min_factor = df_window['Factor'].min()\n",
    "step_factor = (max_factor - min_factor) / (n-1)\n",
    "step_price = (max_price - min_price) / (n-1)\n",
    "print('min_factor = {}, max_factor = {}, step_factor = {}, step_price = {}'.format(min_factor, max_factor, step_factor, step_price))"
   ]
  },
  {
   "cell_type": "code",
   "execution_count": 24,
   "metadata": {},
   "outputs": [],
   "source": [
    "price_bins = np.zeros(n)\n",
    "for i in range(df_window.shape[0]):\n",
    "    if not (np.isnan(df_window.iloc[i]['Low'])):\n",
    "        b = np.int(np.floor((df_window.iloc[i]['Low'] - min_price) / step_price))\n",
    "        price_bins[b] = price_bins[b] + 1"
   ]
  },
  {
   "cell_type": "code",
   "execution_count": 25,
   "metadata": {},
   "outputs": [
    {
     "data": {
      "text/plain": [
       "array([ 55., 873., 792., 305., 605., 631., 430.,  36., 173., 156.,  20.,\n",
       "        25., 118.,  68.,  62.,  52.,  74., 143., 170., 224.,   5.,   5.,\n",
       "         5.,   5.,   9.,  67.,  81.,  46.,  11.,  12.,   5.,  14.,  46.,\n",
       "        17.,  18.,  12.,  38.,  50.,  22.,  50., 100., 180., 178., 176.,\n",
       "       207., 221., 195., 105., 192., 143., 164., 141., 134., 132., 113.,\n",
       "       128.,  80.,  51.,  58.,  65.,  77.,  90.,  82.,  88., 120., 106.,\n",
       "       152., 156., 214., 234., 169., 205., 142., 128., 100.,  55.,  69.,\n",
       "        40.,  39.,  60., 111., 140., 132., 126., 127., 134., 140., 155.,\n",
       "       107., 105.,  66.,  39.,  35.,  17.,  11.,  27.,  28.,  10.,   3.,\n",
       "         1.])"
      ]
     },
     "execution_count": 25,
     "metadata": {},
     "output_type": "execute_result"
    }
   ],
   "source": [
    "price_bins"
   ]
  },
  {
   "cell_type": "code",
   "execution_count": 26,
   "metadata": {},
   "outputs": [
    {
     "data": {
      "text/plain": [
       "Text(92.125, 0.5, 'Number of hours')"
      ]
     },
     "execution_count": 26,
     "metadata": {},
     "output_type": "execute_result"
    }
   ],
   "source": [
    "df_window['Low'].hist(bins=100,figsize=(15,5))\n",
    "plt.xlabel('USD/BTC')\n",
    "plt.ylabel('Number of hours')"
   ]
  },
  {
   "cell_type": "code",
   "execution_count": 27,
   "metadata": {},
   "outputs": [
    {
     "data": {
      "text/plain": [
       "Text(92.125, 0.5, 'Number of hours')"
      ]
     },
     "execution_count": 27,
     "metadata": {},
     "output_type": "execute_result"
    }
   ],
   "source": [
    "df_window['Factor'].hist(bins=100,figsize=(15,5))\n",
    "plt.xlabel('Price multiplication factor since halving')\n",
    "plt.ylabel('Number of hours')"
   ]
  },
  {
   "cell_type": "code",
   "execution_count": 28,
   "metadata": {},
   "outputs": [
    {
     "name": "stderr",
     "output_type": "stream",
     "text": [
      "/Users/mxagar/opt/anaconda3/envs/ds/lib/python3.7/site-packages/ipykernel_launcher.py:10: UserWarning: FixedFormatter should only be used together with FixedLocator\n",
      "  # Remove the CWD from sys.path while we load stuff.\n"
     ]
    },
    {
     "data": {
      "text/plain": [
       "Text(0, 0.5, 'Number of hours')"
      ]
     },
     "execution_count": 28,
     "metadata": {},
     "output_type": "execute_result"
    },
    {
     "data": {
      "image/png": "[encoded data removed]",
      "text/plain": [
       "<Figure size 1080x360 with 1 Axes>"
      ]
     },
     "metadata": {
      "needs_background": "light"
     },
     "output_type": "display_data"
    }
   ],
   "source": [
    "#%matplotlib ipympl\n",
    "%matplotlib inline\n",
    "plt.figure(figsize=(15,5))\n",
    "#plt.bar(x=np.linspace(min_price,max_price,n),height=price_bins)\n",
    "plt.bar(x=range(n),height=price_bins)\n",
    "ax = plt.gca()\n",
    "ticks = ax.get_xticks()\n",
    "new_ticks = np.round(max_factor*ticks/100,decimals=2)\n",
    "new_ticks[1] = 1\n",
    "ax.set_xticklabels(new_ticks)\n",
    "plt.xlabel('Price multiplication factor since halving')\n",
    "plt.ylabel('Number of hours')"
   ]
  },
  {
   "cell_type": "code",
   "execution_count": 29,
   "metadata": {},
   "outputs": [],
   "source": [
    "acc_price_bins = np.zeros(n)\n",
    "l = range(n)\n",
    "for i in l[::-1]:\n",
    "    acc_price_bins[i] = price_bins[i:-1].sum()"
   ]
  },
  {
   "cell_type": "code",
   "execution_count": 30,
   "metadata": {},
   "outputs": [],
   "source": [
    "x = np.linspace(min_price,max_price,n)"
   ]
  },
  {
   "cell_type": "code",
   "execution_count": 31,
   "metadata": {},
   "outputs": [
    {
     "name": "stderr",
     "output_type": "stream",
     "text": [
      "/Users/mxagar/opt/anaconda3/envs/ds/lib/python3.7/site-packages/ipykernel_launcher.py:7: UserWarning: FixedFormatter should only be used together with FixedLocator\n",
      "  import sys\n"
     ]
    },
    {
     "data": {
      "text/plain": [
       "Text(0, 0.5, 'Number of hours in factor range or smaller')"
      ]
     },
     "execution_count": 31,
     "metadata": {},
     "output_type": "execute_result"
    },
    {
     "data": {
      "image/png": "[encoded data removed]",
      "text/plain": [
       "<Figure size 1080x360 with 1 Axes>"
      ]
     },
     "metadata": {
      "needs_background": "light"
     },
     "output_type": "display_data"
    }
   ],
   "source": [
    "plt.figure(figsize=(15,5))\n",
    "plt.bar(x=range(n),height=acc_price_bins)\n",
    "ax = plt.gca()\n",
    "ticks = ax.get_xticks()\n",
    "new_ticks = np.round(max_factor*ticks/100,decimals=2)\n",
    "new_ticks[1] = 1\n",
    "ax.set_xticklabels(new_ticks)\n",
    "plt.xlabel('Price multiplication factor since halving')\n",
    "plt.ylabel('Number of hours in factor range or smaller')"
   ]
  },
  {
   "cell_type": "code",
   "execution_count": 32,
   "metadata": {},
   "outputs": [
    {
     "data": {
      "text/plain": [
       "array([1.2132e+04, 1.2077e+04, 1.1204e+04, 1.0412e+04, 1.0107e+04,\n",
       "       9.5020e+03, 8.8710e+03, 8.4410e+03, 8.4050e+03, 8.2320e+03,\n",
       "       8.0760e+03, 8.0560e+03, 8.0310e+03, 7.9130e+03, 7.8450e+03,\n",
       "       7.7830e+03, 7.7310e+03, 7.6570e+03, 7.5140e+03, 7.3440e+03,\n",
       "       7.1200e+03, 7.1150e+03, 7.1100e+03, 7.1050e+03, 7.1000e+03,\n",
       "       7.0910e+03, 7.0240e+03, 6.9430e+03, 6.8970e+03, 6.8860e+03,\n",
       "       6.8740e+03, 6.8690e+03, 6.8550e+03, 6.8090e+03, 6.7920e+03,\n",
       "       6.7740e+03, 6.7620e+03, 6.7240e+03, 6.6740e+03, 6.6520e+03,\n",
       "       6.6020e+03, 6.5020e+03, 6.3220e+03, 6.1440e+03, 5.9680e+03,\n",
       "       5.7610e+03, 5.5400e+03, 5.3450e+03, 5.2400e+03, 5.0480e+03,\n",
       "       4.9050e+03, 4.7410e+03, 4.6000e+03, 4.4660e+03, 4.3340e+03,\n",
       "       4.2210e+03, 4.0930e+03, 4.0130e+03, 3.9620e+03, 3.9040e+03,\n",
       "       3.8390e+03, 3.7620e+03, 3.6720e+03, 3.5900e+03, 3.5020e+03,\n",
       "       3.3820e+03, 3.2760e+03, 3.1240e+03, 2.9680e+03, 2.7540e+03,\n",
       "       2.5200e+03, 2.3510e+03, 2.1460e+03, 2.0040e+03, 1.8760e+03,\n",
       "       1.7760e+03, 1.7210e+03, 1.6520e+03, 1.6120e+03, 1.5730e+03,\n",
       "       1.5130e+03, 1.4020e+03, 1.2620e+03, 1.1300e+03, 1.0040e+03,\n",
       "       8.7700e+02, 7.4300e+02, 6.0300e+02, 4.4800e+02, 3.4100e+02,\n",
       "       2.3600e+02, 1.7000e+02, 1.3100e+02, 9.6000e+01, 7.9000e+01,\n",
       "       6.8000e+01, 4.1000e+01, 1.3000e+01, 3.0000e+00, 0.0000e+00])"
      ]
     },
     "execution_count": 32,
     "metadata": {},
     "output_type": "execute_result"
    }
   ],
   "source": [
    "acc_price_bins"
   ]
  },
  {
   "cell_type": "code",
   "execution_count": 33,
   "metadata": {},
   "outputs": [
    {
     "data": {
      "text/plain": [
       "array([1513., 1402., 1262., 1130., 1004.,  877.,  743.,  603.,  448.,\n",
       "        341.,  236.,  170.,  131.,   96.,   79.,   68.,   41.,   13.,\n",
       "          3.])"
      ]
     },
     "execution_count": 33,
     "metadata": {},
     "output_type": "execute_result"
    }
   ],
   "source": [
    "acc_price_bins[80:-1]"
   ]
  },
  {
   "cell_type": "code",
   "execution_count": 34,
   "metadata": {},
   "outputs": [],
   "source": [
    "# Arrange a custom dataframe\n",
    "df_tmp = pd.DataFrame()\n",
    "df_tmp['close'] = df_price['Close'].resample(rule='D').last().loc[start:end]\n",
    "df_tmp['factor'] = df_price['Factor'].resample(rule='D').last().loc[start:end]\n",
    "df_tmp['interest'] = df_interest['bitcoin_searches_world'].loc[start:end]\n",
    "df_tmp['date'] = df_interest.loc[start:end].index\n",
    "df_tmp['day'] = range((end-start).days+1)"
   ]
  },
  {
   "cell_type": "code",
   "execution_count": 35,
   "metadata": {},
   "outputs": [
    {
     "data": {
      "image/png": "[encoded data removed]",
      "text/plain": [
       "<Figure size 576x576 with 2 Axes>"
      ]
     },
     "metadata": {
      "needs_background": "light"
     },
     "output_type": "display_data"
    }
   ],
   "source": [
    "plt.figure(figsize=(8,8))\n",
    "#df1.plot.scatter(x='A',y='B',c='C',cmap='coolwarm')\n",
    "#https://matplotlib.org/3.1.1/gallery/color/colormap_reference.html\n",
    "plt.scatter(x=df_tmp['factor'],y=df_tmp['interest'],c=df_tmp['day'],cmap='coolwarm')\n",
    "plt.xlabel('Factor of price multiplication since halving')\n",
    "plt.ylabel('Interest index [0-100]')\n",
    "cbar = plt.colorbar()\n",
    "cbar.set_label('Days since start (last halving)')"
   ]
  },
  {
   "cell_type": "code",
   "execution_count": 36,
   "metadata": {},
   "outputs": [
    {
     "data": {
      "text/plain": [
       "<seaborn.axisgrid.JointGrid at 0x7f9982de6290>"
      ]
     },
     "execution_count": 36,
     "metadata": {},
     "output_type": "execute_result"
    },
    {
     "data": {
      "image/png": "[encoded data removed]",
      "text/plain": [
       "<Figure size 432x432 with 3 Axes>"
      ]
     },
     "metadata": {
      "needs_background": "light"
     },
     "output_type": "display_data"
    }
   ],
   "source": [
    "sns.jointplot(x='factor',y='interest',data=df_tmp,kind='reg')"
   ]
  },
  {
   "cell_type": "code",
   "execution_count": 50,
   "metadata": {},
   "outputs": [],
   "source": [
    "from sklearn.linear_model import LinearRegression"
   ]
  },
  {
   "cell_type": "code",
   "execution_count": 51,
   "metadata": {},
   "outputs": [
    {
     "data": {
      "text/html": [
       "<div>\n",
       "<style scoped>\n",
       "    .dataframe tbody tr th:only-of-type {\n",
       "        vertical-align: middle;\n",
       "    }\n",
       "\n",
       "    .dataframe tbody tr th {\n",
       "        vertical-align: top;\n",
       "    }\n",
       "\n",
       "    .dataframe thead th {\n",
       "        text-align: right;\n",
       "    }\n",
       "</style>\n",
       "<table border=\"1\" class=\"dataframe\">\n",
       "  <thead>\n",
       "    <tr style=\"text-align: right;\">\n",
       "      <th></th>\n",
       "      <th>close</th>\n",
       "      <th>factor</th>\n",
       "      <th>interest</th>\n",
       "      <th>day</th>\n",
       "    </tr>\n",
       "  </thead>\n",
       "  <tbody>\n",
       "    <tr>\n",
       "      <th>close</th>\n",
       "      <td>1.000000</td>\n",
       "      <td>0.999930</td>\n",
       "      <td>0.654698</td>\n",
       "      <td>0.820595</td>\n",
       "    </tr>\n",
       "    <tr>\n",
       "      <th>factor</th>\n",
       "      <td>0.999930</td>\n",
       "      <td>1.000000</td>\n",
       "      <td>0.650869</td>\n",
       "      <td>0.820443</td>\n",
       "    </tr>\n",
       "    <tr>\n",
       "      <th>interest</th>\n",
       "      <td>0.654698</td>\n",
       "      <td>0.650869</td>\n",
       "      <td>1.000000</td>\n",
       "      <td>0.458049</td>\n",
       "    </tr>\n",
       "    <tr>\n",
       "      <th>day</th>\n",
       "      <td>0.820595</td>\n",
       "      <td>0.820443</td>\n",
       "      <td>0.458049</td>\n",
       "      <td>1.000000</td>\n",
       "    </tr>\n",
       "  </tbody>\n",
       "</table>\n",
       "</div>"
      ],
      "text/plain": [
       "             close    factor  interest       day\n",
       "close     1.000000  0.999930  0.654698  0.820595\n",
       "factor    0.999930  1.000000  0.650869  0.820443\n",
       "interest  0.654698  0.650869  1.000000  0.458049\n",
       "day       0.820595  0.820443  0.458049  1.000000"
      ]
     },
     "execution_count": 51,
     "metadata": {},
     "output_type": "execute_result"
    }
   ],
   "source": [
    "df_tmp.corr()"
   ]
  },
  {
   "cell_type": "code",
   "execution_count": 41,
   "metadata": {},
   "outputs": [],
   "source": [
    "lm = LinearRegression()"
   ]
  },
  {
   "cell_type": "code",
   "execution_count": 58,
   "metadata": {},
   "outputs": [
    {
     "data": {
      "text/plain": [
       "(518, 1)"
      ]
     },
     "execution_count": 58,
     "metadata": {},
     "output_type": "execute_result"
    }
   ],
   "source": [
    "X = df_tmp['factor'].values.reshape(df_tmp['factor'].shape[0],1)\n",
    "X.shape"
   ]
  },
  {
   "cell_type": "code",
   "execution_count": 59,
   "metadata": {},
   "outputs": [
    {
     "data": {
      "text/plain": [
       "(518, 1)"
      ]
     },
     "execution_count": 59,
     "metadata": {},
     "output_type": "execute_result"
    }
   ],
   "source": [
    "y = df_tmp['interest'].values.reshape(df_tmp['interest'].shape[0],1)\n",
    "y.shape"
   ]
  },
  {
   "cell_type": "code",
   "execution_count": 61,
   "metadata": {},
   "outputs": [
    {
     "data": {
      "text/plain": [
       "LinearRegression()"
      ]
     },
     "execution_count": 61,
     "metadata": {},
     "output_type": "execute_result"
    }
   ],
   "source": [
    "lm.fit(X,y)"
   ]
  },
  {
   "cell_type": "code",
   "execution_count": 67,
   "metadata": {},
   "outputs": [
    {
     "data": {
      "text/plain": [
       "array([4.9429249])"
      ]
     },
     "execution_count": 67,
     "metadata": {},
     "output_type": "execute_result"
    }
   ],
   "source": [
    "# Intercept\n",
    "lm.intercept_"
   ]
  },
  {
   "cell_type": "code",
   "execution_count": 68,
   "metadata": {},
   "outputs": [
    {
     "data": {
      "text/plain": [
       "array([[3.57948639]])"
      ]
     },
     "execution_count": 68,
     "metadata": {},
     "output_type": "execute_result"
    }
   ],
   "source": [
    "# Slope\n",
    "lm.coef_"
   ]
  },
  {
   "cell_type": "code",
   "execution_count": 73,
   "metadata": {},
   "outputs": [],
   "source": [
    "predictions = lm.predict(X)"
   ]
  },
  {
   "cell_type": "code",
   "execution_count": 75,
   "metadata": {},
   "outputs": [
    {
     "data": {
      "text/plain": [
       "Text(0, 0.5, 'Predicted interest')"
      ]
     },
     "execution_count": 75,
     "metadata": {},
     "output_type": "execute_result"
    },
    {
     "data": {
      "image/png": "[encoded data removed]",
      "text/plain": [
       "<Figure size 432x288 with 1 Axes>"
      ]
     },
     "metadata": {
      "needs_background": "light"
     },
     "output_type": "display_data"
    }
   ],
   "source": [
    "plt.scatter(x=y,y=predictions)\n",
    "plt.title('Real interest vs Predicted interest')\n",
    "plt.xlabel('Real interest')\n",
    "plt.ylabel('Predicted interest')"
   ]
  },
  {
   "cell_type": "markdown",
   "metadata": {},
   "source": [
    "## 2. Low and Upper Baselines"
   ]
  },
  {
   "cell_type": "code",
   "execution_count": 110,
   "metadata": {},
   "outputs": [],
   "source": [
    "# low\n",
    "# 2020-07-20\n",
    "# 2020-10-18\n",
    "# 2020-11-27\n",
    "# 2021-07-21\n",
    "# 2021-10-01\n",
    "low_dates = np.array([dt.datetime(2020,7,20,0,0,0),\n",
    "             dt.datetime(2020,10,18,0,0,0),\n",
    "             dt.datetime(2020,11,27,0,0,0),\n",
    "             dt.datetime(2021,7,21,0,0,0),\n",
    "             dt.datetime(2021,10,1,0,0,0)])\n",
    "low_days = low_dates - h3\n",
    "low_days = np.array([d.days for d in low_days])\n",
    "# up\n",
    "# 2020-08-18\n",
    "# 2020-11-30\n",
    "# 2021-01-09\n",
    "# 2021-02-22\n",
    "# 2021-04-14\n",
    "high_dates = np.array([dt.datetime(2020,8,18,0,0,0),\n",
    "              dt.datetime(2020,11,30,0,0,0),\n",
    "              dt.datetime(2020,1,9,0,0,0),\n",
    "              dt.datetime(2021,2,22,0,0,0),\n",
    "              dt.datetime(2021,4,14,0,0,0)])\n",
    "low_days = low_dates - h3"
   ]
  },
  {
   "cell_type": "code",
   "execution_count": null,
   "metadata": {},
   "outputs": [],
   "source": []
  },
  {
   "cell_type": "code",
   "execution_count": 114,
   "metadata": {},
   "outputs": [],
   "source": [
    "x = np.array([2, 3, 4, 5])\n",
    "degree = 5\n",
    "X = np.vander(x, N=degree, increasing=True)"
   ]
  },
  {
   "cell_type": "code",
   "execution_count": 118,
   "metadata": {},
   "outputs": [],
   "source": [
    "X_pinv = np.linalg.pinv(X)"
   ]
  },
  {
   "cell_type": "code",
   "execution_count": 119,
   "metadata": {},
   "outputs": [
    {
     "data": {
      "text/plain": [
       "661.99"
      ]
     },
     "execution_count": 119,
     "metadata": {},
     "output_type": "execute_result"
    }
   ],
   "source": [
    "df_price['Close'].loc[h2]"
   ]
  },
  {
   "cell_type": "code",
   "execution_count": null,
   "metadata": {},
   "outputs": [],
   "source": []
  }
 ],
 "metadata": {
  "kernelspec": {
   "display_name": "Python 3 (ipykernel)",
   "language": "python",
   "name": "python3"
  },
  "language_info": {
   "codemirror_mode": {
    "name": "ipython",
    "version": 3
   },
   "file_extension": ".py",
   "mimetype": "text/x-python",
   "name": "python",
   "nbconvert_exporter": "python",
   "pygments_lexer": "ipython3",
   "version": "3.7.11"
  }
 },
 "nbformat": 4,
 "nbformat_minor": 4
}
